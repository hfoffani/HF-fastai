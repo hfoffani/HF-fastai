{
  "nbformat": 4,
  "nbformat_minor": 0,
  "metadata": {
    "colab": {
      "name": "nb11_iula_build_dataset.ipynb",
      "provenance": [],
      "collapsed_sections": [],
      "mount_file_id": "https://github.com/hfoffani/HF-fastai/blob/main/nb11_iula_build_dataset.ipynb",
      "authorship_tag": "ABX9TyNQL2oml00gkK6cWjEFXFee",
      "include_colab_link": true
    },
    "kernelspec": {
      "name": "python3",
      "display_name": "Python 3"
    },
    "language_info": {
      "name": "python"
    }
  },
  "cells": [
    {
      "cell_type": "markdown",
      "metadata": {
        "id": "view-in-github",
        "colab_type": "text"
      },
      "source": [
        "<a href=\"https://colab.research.google.com/github/hfoffani/HF-fastai/blob/main/nb11_iula_build_dataset.ipynb\" target=\"_parent\"><img src=\"https://colab.research.google.com/assets/colab-badge.svg\" alt=\"Open In Colab\"/></a>"
      ]
    },
    {
      "cell_type": "code",
      "metadata": {
        "id": "NnVTla8IS5v-"
      },
      "source": [
        "import os\n",
        "import glob\n",
        "import pandas as pd\n"
      ],
      "execution_count": 3,
      "outputs": []
    },
    {
      "cell_type": "code",
      "metadata": {
        "id": "K4ICIzXyoP_z",
        "outputId": "c772c5b9-dcb1-4927-9117-8988d17418dd",
        "colab": {
          "base_uri": "https://localhost:8080/"
        }
      },
      "source": [
        "from google.colab import drive\n",
        "drive.mount('/content/drive')"
      ],
      "execution_count": 4,
      "outputs": [
        {
          "output_type": "stream",
          "text": [
            "Mounted at /content/drive\n"
          ],
          "name": "stdout"
        }
      ]
    },
    {
      "cell_type": "markdown",
      "metadata": {
        "id": "RHeXVoqAfX41"
      },
      "source": [
        "### Procesar Corpus"
      ]
    },
    {
      "cell_type": "code",
      "metadata": {
        "id": "AR_fZg5_Uc4V"
      },
      "source": [
        "keys = {\n",
        "    'a':'ambiente',\n",
        "    'm':'medicina',\n",
        "    'i':'tecnología',\n",
        "    'e':'economía',\n",
        "    'd':'legal',\n",
        "}\n",
        "\n",
        "def sentences(corpusroot: str) -> pd.DataFrame:\n",
        "    listfiles = sorted(glob.glob(corpusroot + '/*/*-plain.txt'))\n",
        "    corpus = []\n",
        "    lastcl = ''\n",
        "    for fname in listfiles:\n",
        "        cl = os.path.basename(fname)[0]\n",
        "        if cl != lastcl:\n",
        "            lastcl = cl\n",
        "            docnum = 0\n",
        "        docnum += 1\n",
        "        with open(fname) as f:\n",
        "            lines = f.readlines()\n",
        "            for l in lines:\n",
        "                l = l.strip()\n",
        "                if len(l) > 1:\n",
        "                    corpus.append( {\n",
        "                        'label':keys[cl], 'docnum': docnum, 'sentence':l } )\n",
        "    return pd.DataFrame(corpus)\n",
        "\n",
        "def split_df(corpus_df:pd.DataFrame, split:float=.20) -> pd.DataFrame:\n",
        "    # corpus_df['is_valid'] = (corpus_df.index % (1./split) == 0)\n",
        "    corpus_df['is_valid'] = (corpus_df['docnum'] % (1./split) == 0)\n",
        "    return corpus_df\n"
      ],
      "execution_count": 5,
      "outputs": []
    },
    {
      "cell_type": "code",
      "metadata": {
        "id": "APPdcX6aUp63"
      },
      "source": [
        "co_df = sentences('/content/drive/MyDrive/IULAcorpus/ES')\n",
        "co_df = split_df(co_df, .20)"
      ],
      "execution_count": 15,
      "outputs": []
    },
    {
      "cell_type": "code",
      "metadata": {
        "id": "wRy1jY88ugsS",
        "outputId": "7c1391d2-470a-4624-c154-22e056a03bae",
        "colab": {
          "base_uri": "https://localhost:8080/",
          "height": 328
        }
      },
      "source": [
        "co_df.drop(co_df[co_df.label == 'legal'].index, inplace=True)\n",
        "co_df.groupby(['label','is_valid']).nunique()"
      ],
      "execution_count": 16,
      "outputs": [
        {
          "output_type": "execute_result",
          "data": {
            "text/html": [
              "<div>\n",
              "<style scoped>\n",
              "    .dataframe tbody tr th:only-of-type {\n",
              "        vertical-align: middle;\n",
              "    }\n",
              "\n",
              "    .dataframe tbody tr th {\n",
              "        vertical-align: top;\n",
              "    }\n",
              "\n",
              "    .dataframe thead th {\n",
              "        text-align: right;\n",
              "    }\n",
              "</style>\n",
              "<table border=\"1\" class=\"dataframe\">\n",
              "  <thead>\n",
              "    <tr style=\"text-align: right;\">\n",
              "      <th></th>\n",
              "      <th></th>\n",
              "      <th>docnum</th>\n",
              "      <th>sentence</th>\n",
              "    </tr>\n",
              "    <tr>\n",
              "      <th>label</th>\n",
              "      <th>is_valid</th>\n",
              "      <th></th>\n",
              "      <th></th>\n",
              "    </tr>\n",
              "  </thead>\n",
              "  <tbody>\n",
              "    <tr>\n",
              "      <th rowspan=\"2\" valign=\"top\">ambiente</th>\n",
              "      <th>False</th>\n",
              "      <td>9</td>\n",
              "      <td>2556</td>\n",
              "    </tr>\n",
              "    <tr>\n",
              "      <th>True</th>\n",
              "      <td>2</td>\n",
              "      <td>1647</td>\n",
              "    </tr>\n",
              "    <tr>\n",
              "      <th rowspan=\"2\" valign=\"top\">economía</th>\n",
              "      <th>False</th>\n",
              "      <td>8</td>\n",
              "      <td>4588</td>\n",
              "    </tr>\n",
              "    <tr>\n",
              "      <th>True</th>\n",
              "      <td>1</td>\n",
              "      <td>205</td>\n",
              "    </tr>\n",
              "    <tr>\n",
              "      <th rowspan=\"2\" valign=\"top\">medicina</th>\n",
              "      <th>False</th>\n",
              "      <td>68</td>\n",
              "      <td>21993</td>\n",
              "    </tr>\n",
              "    <tr>\n",
              "      <th>True</th>\n",
              "      <td>17</td>\n",
              "      <td>4143</td>\n",
              "    </tr>\n",
              "    <tr>\n",
              "      <th rowspan=\"2\" valign=\"top\">tecnología</th>\n",
              "      <th>False</th>\n",
              "      <td>17</td>\n",
              "      <td>11985</td>\n",
              "    </tr>\n",
              "    <tr>\n",
              "      <th>True</th>\n",
              "      <td>4</td>\n",
              "      <td>2861</td>\n",
              "    </tr>\n",
              "  </tbody>\n",
              "</table>\n",
              "</div>"
            ],
            "text/plain": [
              "                     docnum  sentence\n",
              "label      is_valid                  \n",
              "ambiente   False          9      2556\n",
              "           True           2      1647\n",
              "economía   False          8      4588\n",
              "           True           1       205\n",
              "medicina   False         68     21993\n",
              "           True          17      4143\n",
              "tecnología False         17     11985\n",
              "           True           4      2861"
            ]
          },
          "metadata": {
            "tags": []
          },
          "execution_count": 16
        }
      ]
    },
    {
      "cell_type": "code",
      "metadata": {
        "id": "3GWJT8T2utkx"
      },
      "source": [
        "co_df.to_csv('/content/drive/MyDrive/iula-es.csv', index=False)"
      ],
      "execution_count": 17,
      "outputs": []
    }
  ]
}
