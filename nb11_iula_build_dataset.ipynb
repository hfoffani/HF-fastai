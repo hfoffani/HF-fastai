{
  "cells": [
    {
      "cell_type": "markdown",
      "metadata": {
        "colab_type": "text",
        "id": "view-in-github"
      },
      "source": [
        "<a href=\"https://colab.research.google.com/github/hfoffani/HF-fastai/blob/main/nb11_iula_build_dataset.ipynb\" target=\"_parent\"><img src=\"https://colab.research.google.com/assets/colab-badge.svg\" alt=\"Open In Colab\"/></a>"
      ]
    },
    {
      "cell_type": "code",
      "execution_count": 1,
      "metadata": {
        "id": "NnVTla8IS5v-"
      },
      "outputs": [],
      "source": [
        "import os\n",
        "import glob\n",
        "import pandas as pd\n"
      ]
    },
    {
      "cell_type": "code",
      "execution_count": 2,
      "metadata": {
        "colab": {
          "base_uri": "https://localhost:8080/"
        },
        "id": "K4ICIzXyoP_z",
        "outputId": "eb5f3765-35d1-40af-e631-81a729d3c38e"
      },
      "outputs": [
        {
          "name": "stdout",
          "output_type": "stream",
          "text": [
            "Mounted at /content/drive\n"
          ]
        }
      ],
      "source": [
        "from google.colab import drive\n",
        "drive.mount('/content/drive')"
      ]
    },
    {
      "cell_type": "markdown",
      "metadata": {
        "id": "RHeXVoqAfX41"
      },
      "source": [
        "### Procesar Corpus"
      ]
    },
    {
      "cell_type": "code",
      "execution_count": 3,
      "metadata": {
        "id": "AR_fZg5_Uc4V"
      },
      "outputs": [],
      "source": [
        "keys = {\n",
        "    'a':'ambiente',\n",
        "    'm':'medicina',\n",
        "    'i':'tecnología',\n",
        "    'e':'economía',\n",
        "    'd':'legal',\n",
        "}\n",
        "\n",
        "def sentences(corpusroot: str) -> pd.DataFrame:\n",
        "    listfiles = sorted(glob.glob(corpusroot + '/*/*-plain.txt'))\n",
        "    corpus = []\n",
        "    lastcl = ''\n",
        "    for fname in listfiles:\n",
        "        cl = os.path.basename(fname)[0]\n",
        "        if cl != lastcl:\n",
        "            lastcl = cl\n",
        "            docnum = 0\n",
        "        docnum += 1\n",
        "        with open(fname) as f:\n",
        "            lines = f.readlines()\n",
        "            for l in lines:\n",
        "                l = l.strip()\n",
        "                if len(l) > 1:\n",
        "                    corpus.append( {\n",
        "                        'label':keys[cl], 'docnum': docnum, 'sentence':l } )\n",
        "    return pd.DataFrame(corpus)\n",
        "\n",
        "def split_df(corpus_df:pd.DataFrame, split:float=.20) -> pd.DataFrame:\n",
        "    corpus_df['is_valid'] = (corpus_df['docnum'] % (1./split) == 0)\n",
        "    return corpus_df\n"
      ]
    },
    {
      "cell_type": "code",
      "execution_count": 5,
      "metadata": {
        "colab": {
          "base_uri": "https://localhost:8080/",
          "height": 359
        },
        "id": "APPdcX6aUp63",
        "outputId": "5155166a-d226-446b-f0d7-eaf655c418e7"
      },
      "outputs": [
        {
          "data": {
            "text/html": [
              "<div>\n",
              "<style scoped>\n",
              "    .dataframe tbody tr th:only-of-type {\n",
              "        vertical-align: middle;\n",
              "    }\n",
              "\n",
              "    .dataframe tbody tr th {\n",
              "        vertical-align: top;\n",
              "    }\n",
              "\n",
              "    .dataframe thead th {\n",
              "        text-align: right;\n",
              "    }\n",
              "</style>\n",
              "<table border=\"1\" class=\"dataframe\">\n",
              "  <thead>\n",
              "    <tr style=\"text-align: right;\">\n",
              "      <th></th>\n",
              "      <th></th>\n",
              "      <th>docnum</th>\n",
              "      <th>sentence</th>\n",
              "    </tr>\n",
              "    <tr>\n",
              "      <th>label</th>\n",
              "      <th>is_valid</th>\n",
              "      <th></th>\n",
              "      <th></th>\n",
              "    </tr>\n",
              "  </thead>\n",
              "  <tbody>\n",
              "    <tr>\n",
              "      <th rowspan=\"2\" valign=\"top\">ambiente</th>\n",
              "      <th>False</th>\n",
              "      <td>9</td>\n",
              "      <td>2556</td>\n",
              "    </tr>\n",
              "    <tr>\n",
              "      <th>True</th>\n",
              "      <td>2</td>\n",
              "      <td>1647</td>\n",
              "    </tr>\n",
              "    <tr>\n",
              "      <th rowspan=\"2\" valign=\"top\">economía</th>\n",
              "      <th>False</th>\n",
              "      <td>8</td>\n",
              "      <td>4588</td>\n",
              "    </tr>\n",
              "    <tr>\n",
              "      <th>True</th>\n",
              "      <td>1</td>\n",
              "      <td>205</td>\n",
              "    </tr>\n",
              "    <tr>\n",
              "      <th>legal</th>\n",
              "      <th>False</th>\n",
              "      <td>1</td>\n",
              "      <td>483</td>\n",
              "    </tr>\n",
              "    <tr>\n",
              "      <th rowspan=\"2\" valign=\"top\">medicina</th>\n",
              "      <th>False</th>\n",
              "      <td>68</td>\n",
              "      <td>21993</td>\n",
              "    </tr>\n",
              "    <tr>\n",
              "      <th>True</th>\n",
              "      <td>17</td>\n",
              "      <td>4143</td>\n",
              "    </tr>\n",
              "    <tr>\n",
              "      <th rowspan=\"2\" valign=\"top\">tecnología</th>\n",
              "      <th>False</th>\n",
              "      <td>17</td>\n",
              "      <td>11985</td>\n",
              "    </tr>\n",
              "    <tr>\n",
              "      <th>True</th>\n",
              "      <td>4</td>\n",
              "      <td>2861</td>\n",
              "    </tr>\n",
              "  </tbody>\n",
              "</table>\n",
              "</div>"
            ],
            "text/plain": [
              "                     docnum  sentence\n",
              "label      is_valid                  \n",
              "ambiente   False          9      2556\n",
              "           True           2      1647\n",
              "economía   False          8      4588\n",
              "           True           1       205\n",
              "legal      False          1       483\n",
              "medicina   False         68     21993\n",
              "           True          17      4143\n",
              "tecnología False         17     11985\n",
              "           True           4      2861"
            ]
          },
          "execution_count": 5,
          "metadata": {
            "tags": []
          },
          "output_type": "execute_result"
        }
      ],
      "source": [
        "co_df = sentences('/content/drive/MyDrive/IULAcorpus/ES')\n",
        "co_df = split_df(co_df, .20)\n",
        "\n",
        "co_df.groupby(['label','is_valid']).nunique()"
      ]
    },
    {
      "cell_type": "code",
      "execution_count": 6,
      "metadata": {
        "colab": {
          "base_uri": "https://localhost:8080/",
          "height": 328
        },
        "id": "wRy1jY88ugsS",
        "outputId": "7ea0243a-38f7-48cd-e6ab-06cc6f3c77a9"
      },
      "outputs": [
        {
          "data": {
            "text/html": [
              "<div>\n",
              "<style scoped>\n",
              "    .dataframe tbody tr th:only-of-type {\n",
              "        vertical-align: middle;\n",
              "    }\n",
              "\n",
              "    .dataframe tbody tr th {\n",
              "        vertical-align: top;\n",
              "    }\n",
              "\n",
              "    .dataframe thead th {\n",
              "        text-align: right;\n",
              "    }\n",
              "</style>\n",
              "<table border=\"1\" class=\"dataframe\">\n",
              "  <thead>\n",
              "    <tr style=\"text-align: right;\">\n",
              "      <th></th>\n",
              "      <th></th>\n",
              "      <th>docnum</th>\n",
              "      <th>sentence</th>\n",
              "    </tr>\n",
              "    <tr>\n",
              "      <th>label</th>\n",
              "      <th>is_valid</th>\n",
              "      <th></th>\n",
              "      <th></th>\n",
              "    </tr>\n",
              "  </thead>\n",
              "  <tbody>\n",
              "    <tr>\n",
              "      <th rowspan=\"2\" valign=\"top\">ambiente</th>\n",
              "      <th>False</th>\n",
              "      <td>9</td>\n",
              "      <td>2556</td>\n",
              "    </tr>\n",
              "    <tr>\n",
              "      <th>True</th>\n",
              "      <td>2</td>\n",
              "      <td>1647</td>\n",
              "    </tr>\n",
              "    <tr>\n",
              "      <th rowspan=\"2\" valign=\"top\">economía</th>\n",
              "      <th>False</th>\n",
              "      <td>8</td>\n",
              "      <td>4588</td>\n",
              "    </tr>\n",
              "    <tr>\n",
              "      <th>True</th>\n",
              "      <td>1</td>\n",
              "      <td>205</td>\n",
              "    </tr>\n",
              "    <tr>\n",
              "      <th rowspan=\"2\" valign=\"top\">medicina</th>\n",
              "      <th>False</th>\n",
              "      <td>68</td>\n",
              "      <td>21993</td>\n",
              "    </tr>\n",
              "    <tr>\n",
              "      <th>True</th>\n",
              "      <td>17</td>\n",
              "      <td>4143</td>\n",
              "    </tr>\n",
              "    <tr>\n",
              "      <th rowspan=\"2\" valign=\"top\">tecnología</th>\n",
              "      <th>False</th>\n",
              "      <td>17</td>\n",
              "      <td>11985</td>\n",
              "    </tr>\n",
              "    <tr>\n",
              "      <th>True</th>\n",
              "      <td>4</td>\n",
              "      <td>2861</td>\n",
              "    </tr>\n",
              "  </tbody>\n",
              "</table>\n",
              "</div>"
            ],
            "text/plain": [
              "                     docnum  sentence\n",
              "label      is_valid                  \n",
              "ambiente   False          9      2556\n",
              "           True           2      1647\n",
              "economía   False          8      4588\n",
              "           True           1       205\n",
              "medicina   False         68     21993\n",
              "           True          17      4143\n",
              "tecnología False         17     11985\n",
              "           True           4      2861"
            ]
          },
          "execution_count": 6,
          "metadata": {
            "tags": []
          },
          "output_type": "execute_result"
        }
      ],
      "source": [
        "co_df.drop(co_df[co_df.label == 'legal'].index, inplace=True)\n",
        "co_df.groupby(['label','is_valid']).nunique()"
      ]
    },
    {
      "cell_type": "code",
      "execution_count": 7,
      "metadata": {
        "id": "3GWJT8T2utkx"
      },
      "outputs": [],
      "source": [
        "co_df.to_csv('/content/drive/MyDrive/iula-es-noleaky.csv', index=False)"
      ]
    },
    {
      "cell_type": "code",
      "execution_count": null,
      "metadata": {
        "id": "F4AA-dlgPidO"
      },
      "outputs": [],
      "source": []
    }
  ],
  "metadata": {
    "colab": {
      "collapsed_sections": [],
      "include_colab_link": true,
      "name": "nb11_iula_build_dataset.ipynb",
      "provenance": []
    },
    "kernelspec": {
      "display_name": "Python 3",
      "name": "python3"
    },
    "language_info": {
      "name": "python"
    }
  },
  "nbformat": 4,
  "nbformat_minor": 0
}
