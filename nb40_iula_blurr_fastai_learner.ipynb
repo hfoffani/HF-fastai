{
  "cells": [
    {
      "cell_type": "markdown",
      "metadata": {
        "colab_type": "text",
        "id": "view-in-github"
      },
      "source": [
        "<a href=\"https://colab.research.google.com/github/hfoffani/HF-fastai/blob/main/nb40_iula_blurr_fastai_learner.ipynb\" target=\"_parent\"><img src=\"https://colab.research.google.com/assets/colab-badge.svg\" alt=\"Open In Colab\"/></a>"
      ]
    },
    {
      "cell_type": "code",
      "execution_count": 1,
      "metadata": {
        "colab": {
          "base_uri": "https://localhost:8080/"
        },
        "id": "YBgYA_8HSmfy",
        "outputId": "382fd87a-b207-4eb1-f224-9e46ffd91189"
      },
      "outputs": [
        {
          "name": "stdout",
          "output_type": "stream",
          "text": [
            "\u001b[K     |████████████████████████████████| 2.6 MB 9.2 MB/s \n",
            "\u001b[K     |████████████████████████████████| 264 kB 42.7 MB/s \n",
            "\u001b[K     |████████████████████████████████| 76 kB 3.1 MB/s \n",
            "\u001b[K     |████████████████████████████████| 636 kB 35.7 MB/s \n",
            "\u001b[K     |████████████████████████████████| 895 kB 60.2 MB/s \n",
            "\u001b[K     |████████████████████████████████| 3.3 MB 63.2 MB/s \n",
            "\u001b[K     |████████████████████████████████| 243 kB 61.4 MB/s \n",
            "\u001b[K     |████████████████████████████████| 118 kB 76.8 MB/s \n",
            "\u001b[K     |████████████████████████████████| 75 kB 3.7 MB/s \n",
            "\u001b[K     |████████████████████████████████| 1.2 MB 14.1 MB/s \n",
            "\u001b[K     |████████████████████████████████| 43 kB 2.8 MB/s \n",
            "\u001b[K     |████████████████████████████████| 188 kB 69.4 MB/s \n",
            "\u001b[K     |████████████████████████████████| 54 kB 4.0 MB/s \n",
            "\u001b[?25h  Building wheel for seqeval (setup.py) ... \u001b[?25l\u001b[?25hdone\n"
          ]
        }
      ],
      "source": [
        "!pip install -Uqq transformers datasets tqdm\n",
        "!pip install -Uqq ohmeow-blurr"
      ]
    },
    {
      "cell_type": "code",
      "execution_count": 2,
      "metadata": {
        "colab": {
          "base_uri": "https://localhost:8080/"
        },
        "id": "Qk4ihhaXfsAU",
        "outputId": "b17f2449-da98-4ccf-ac92-9826e89d4428"
      },
      "outputs": [
        {
          "name": "stdout",
          "output_type": "stream",
          "text": [
            "Mounted at /content/drive\n"
          ]
        }
      ],
      "source": [
        "from google.colab import drive\n",
        "drive.mount('/content/drive')"
      ]
    },
    {
      "cell_type": "code",
      "execution_count": 3,
      "metadata": {
        "id": "NnVTla8IS5v-"
      },
      "outputs": [],
      "source": [
        "import os\n",
        "import glob\n",
        "import pandas as pd\n",
        "\n",
        "from transformers import AutoModelForSequenceClassification\n",
        "from datasets import load_dataset\n",
        "\n",
        "from blurr.utils import BLURR\n",
        "from blurr.data.core import HF_TextBlock\n",
        "from blurr.modeling.core import HF_BaseModelWrapper, HF_BaseModelCallback, hf_splitter\n",
        "\n",
        "from fastai.text.all import ColSplitter, ColReader, F1Score, accuracy, load_learner"
      ]
    },
    {
      "cell_type": "markdown",
      "metadata": {
        "id": "RHeXVoqAfX41"
      },
      "source": [
        "### Leer Corpus"
      ]
    },
    {
      "cell_type": "code",
      "execution_count": 4,
      "metadata": {
        "colab": {
          "base_uri": "https://localhost:8080/",
          "height": 470
        },
        "id": "APPdcX6aUp63",
        "outputId": "050eaa46-e45c-47bb-b3a5-fa9e5c4cd1c3"
      },
      "outputs": [
        {
          "data": {
            "text/html": [
              "<div>\n",
              "<style scoped>\n",
              "    .dataframe tbody tr th:only-of-type {\n",
              "        vertical-align: middle;\n",
              "    }\n",
              "\n",
              "    .dataframe tbody tr th {\n",
              "        vertical-align: top;\n",
              "    }\n",
              "\n",
              "    .dataframe thead th {\n",
              "        text-align: right;\n",
              "    }\n",
              "</style>\n",
              "<table border=\"1\" class=\"dataframe\">\n",
              "  <thead>\n",
              "    <tr style=\"text-align: right;\">\n",
              "      <th></th>\n",
              "      <th>label</th>\n",
              "      <th>sentence</th>\n",
              "      <th>is_valid</th>\n",
              "    </tr>\n",
              "  </thead>\n",
              "  <tbody>\n",
              "    <tr>\n",
              "      <th>0</th>\n",
              "      <td>economía</td>\n",
              "      <td>LOS POSTULADOS DE LA ECONOMÍA CLÁSICA</td>\n",
              "      <td>True</td>\n",
              "    </tr>\n",
              "    <tr>\n",
              "      <th>1</th>\n",
              "      <td>economía</td>\n",
              "      <td>La mayor parte de los tratados sobre la teoría del valor y de la producción se refieren, en primer término, a la distribución de un volumen dado de recursos empleados en diferentes usos, y a las condiciones que, supuesta la ocupación de esta cantidad de recursos, determinen su remuneración relativa y el relativo valor de sus productos [1]</td>\n",
              "      <td>False</td>\n",
              "    </tr>\n",
              "    <tr>\n",
              "      <th>2</th>\n",
              "      <td>economía</td>\n",
              "      <td>También se ha sujetado con frecuencia a un procedimiento descriptivo lo relativo al monto de los recursos disponibles (entendiendo por tales el volumen de población susceptible de tomar empleo), los límites de la riqueza natural y el equipo de producción acumulado; pero rara vez se ha examinado detenidamente en la teoría pura, la explicación de lo que determina la ocupación real de los recursos disponibles.</td>\n",
              "      <td>False</td>\n",
              "    </tr>\n",
              "    <tr>\n",
              "      <th>3</th>\n",
              "      <td>economía</td>\n",
              "      <td>Decir que no se ha considerado en absoluto, seria absurdo, por supuesto; porque todo estudio sobre los altibajos de la ocupación, que han sido muchos, ha tenido que ver con el tema.</td>\n",
              "      <td>False</td>\n",
              "    </tr>\n",
              "    <tr>\n",
              "      <th>4</th>\n",
              "      <td>economía</td>\n",
              "      <td>No quiero decir que se haya pasado por alto, sino que la teoría fundamental en que descansa se ha creído tan sencilla y evidente que casi no había para qué mencionarla [2]</td>\n",
              "      <td>False</td>\n",
              "    </tr>\n",
              "    <tr>\n",
              "      <th>...</th>\n",
              "      <td>...</td>\n",
              "      <td>...</td>\n",
              "      <td>...</td>\n",
              "    </tr>\n",
              "    <tr>\n",
              "      <th>52350</th>\n",
              "      <td>medicina</td>\n",
              "      <td>Diarrea.</td>\n",
              "      <td>True</td>\n",
              "    </tr>\n",
              "    <tr>\n",
              "      <th>52351</th>\n",
              "      <td>medicina</td>\n",
              "      <td>Debilidad.</td>\n",
              "      <td>False</td>\n",
              "    </tr>\n",
              "    <tr>\n",
              "      <th>52352</th>\n",
              "      <td>medicina</td>\n",
              "      <td>Gusto alterado.</td>\n",
              "      <td>False</td>\n",
              "    </tr>\n",
              "    <tr>\n",
              "      <th>52353</th>\n",
              "      <td>medicina</td>\n",
              "      <td>Parestesias peribucales.</td>\n",
              "      <td>False</td>\n",
              "    </tr>\n",
              "    <tr>\n",
              "      <th>52354</th>\n",
              "      <td>medicina</td>\n",
              "      <td>Total de abandonos .</td>\n",
              "      <td>False</td>\n",
              "    </tr>\n",
              "  </tbody>\n",
              "</table>\n",
              "<p>52355 rows × 3 columns</p>\n",
              "</div>"
            ],
            "text/plain": [
              "          label  ... is_valid\n",
              "0      economía  ...     True\n",
              "1      economía  ...    False\n",
              "2      economía  ...    False\n",
              "3      economía  ...    False\n",
              "4      economía  ...    False\n",
              "...         ...  ...      ...\n",
              "52350  medicina  ...     True\n",
              "52351  medicina  ...    False\n",
              "52352  medicina  ...    False\n",
              "52353  medicina  ...    False\n",
              "52354  medicina  ...    False\n",
              "\n",
              "[52355 rows x 3 columns]"
            ]
          },
          "execution_count": 4,
          "metadata": {
            "tags": []
          },
          "output_type": "execute_result"
        }
      ],
      "source": [
        "co_df = pd.read_csv('/content/drive/MyDrive/iula-es.csv')\n",
        "num_labels = co_df['label'].nunique()\n",
        "co_df"
      ]
    },
    {
      "cell_type": "markdown",
      "metadata": {
        "id": "t4mHr7-fe-U-"
      },
      "source": [
        "### Modelar"
      ]
    },
    {
      "cell_type": "code",
      "execution_count": 5,
      "metadata": {
        "id": "_etW7yzdTCVv"
      },
      "outputs": [],
      "source": [
        "\n",
        "# pretained models\n",
        "#   \"distilbert-base-uncased\"\n",
        "#   \"bert-base-uncased\"\n",
        "#   \"nlptown/bert-base-multilingual-uncased-sentiment\"\n",
        "pretrained_model_name = \"distilroberta-base\""
      ]
    },
    {
      "cell_type": "code",
      "execution_count": 6,
      "metadata": {
        "colab": {
          "base_uri": "https://localhost:8080/",
          "height": 177,
          "referenced_widgets": [
            "168cdf58cc2c456cab3351e06519a976",
            "0f00206a79b84348885c1f1d8b327f45",
            "10552f00b2334a0ca3c73f042fbcf31b",
            "47c32ab14f95404389dfcb24f2fec603",
            "3ad44be0bb454bb7a8694b7033c2ea0f",
            "462ec65c92cc4b239e53420d8a8e486d",
            "bf6c1ad4dfbe4b94ab3d0a6de3dc6217",
            "4240dd8bc6b640c08e6412a18a9fd933",
            "50722a55568642dd87d109868cb5f9d4",
            "4f02a44ee59845aaa119d640f86495e8",
            "3e1eb5a582dc497a8d41f33b0304bee1",
            "c3a9fd9076ad4e3c9f51211203855948",
            "94bb78939d7547c18790e8028ae2921e",
            "c6e8b5c992cd4411a627825b09b5fd88",
            "8dc1875ed6c7493fa5c6375c4c19304f",
            "ff2802e132c3426d935c735986ac3df9",
            "719ec8ff6fe1447f98facc0ae0f3acf7",
            "5753bcf8a784434cb17de596ac076c84",
            "917dcef2e32646e9bffcef2401cb1ccd",
            "c9c3da784c2a40258aad3f1f38d8847f",
            "b62a870410234ed18157e875e6064c46",
            "ed4fe07e04c7445b86ff052e06bf108e",
            "c708ee86e0414546a941bc33f9580560",
            "f8a7d75029064d188d95399b8ca4ab48",
            "eab7c26b57d140eb8b08268100f5a193",
            "acf8fe21ac584eb3955999052a506499",
            "e80fbc0114ea429c80fe3b58757ecd84",
            "4b4e06f348204f98b4f94a30e247b96a",
            "601d2b2d132b4af68241b1aefe2a26cb",
            "9712c30e4dda4afaaa2a482892bfa5ab",
            "0257bf7dc2bb4dcbbaeb9d1810f04445",
            "5645a30eae1746fdbfafdbf8c26ed679",
            "decb3a2ca9f14c479610ece78f9cb432",
            "b868b326f3924203a83849868afd890d",
            "4fafb1c4b2bd4f99a3cac36b581f5ca4",
            "f531fe2fb68f43b384bd84200d7e18a5",
            "281ba809baaf4ec98f2ffaff05671161",
            "fd4c4d9abdf1471c87044fd830b48f2b",
            "a21cc27df1ac4aebb9341c5f43b447f4",
            "37e901c8dc394d47ac3758d69bdf00e5",
            "a15dd706bd2d4352a3e952a51bec2529",
            "3a9cc1f120b14221b71f2f5bc3cf803b",
            "044c757f7f8f4ce18ce021dfe6d8b509",
            "d274133d0d784b309c5e81a0946a5dc1",
            "1e047384498d44eb8c9f359c8bb8c57f",
            "54008d13c58c4dadb2392f09447a3768",
            "c7b31229e451463d88a0e84356c3b73b",
            "653f770907044ad583f8879da012bdfa",
            "e59d1e63fe544e548af5a670f2942de5",
            "2f0cc9a0b4974fdebc93c37b574f357c",
            "7d42aef949ae49d0a075442f40304e48",
            "7afb9ebb2a3e45dfb966498fad896ae4",
            "7e8873350aa845b284ff5fc59da0319f",
            "2075e1665772420fba91d83ce9d4d4a5",
            "fd64480cd0404bd393e876aee375b6e4"
          ]
        },
        "id": "7DxZ_rBiU4C2",
        "outputId": "d1614b23-432a-4e93-b5c6-2f06133b2575"
      },
      "outputs": [
        {
          "data": {
            "application/vnd.jupyter.widget-view+json": {
              "model_id": "168cdf58cc2c456cab3351e06519a976",
              "version_major": 2,
              "version_minor": 0
            },
            "text/plain": [
              "Downloading:   0%|          | 0.00/480 [00:00<?, ?B/s]"
            ]
          },
          "metadata": {
            "tags": []
          },
          "output_type": "display_data"
        },
        {
          "data": {
            "application/vnd.jupyter.widget-view+json": {
              "model_id": "c3a9fd9076ad4e3c9f51211203855948",
              "version_major": 2,
              "version_minor": 0
            },
            "text/plain": [
              "Downloading:   0%|          | 0.00/899k [00:00<?, ?B/s]"
            ]
          },
          "metadata": {
            "tags": []
          },
          "output_type": "display_data"
        },
        {
          "data": {
            "application/vnd.jupyter.widget-view+json": {
              "model_id": "c708ee86e0414546a941bc33f9580560",
              "version_major": 2,
              "version_minor": 0
            },
            "text/plain": [
              "Downloading:   0%|          | 0.00/456k [00:00<?, ?B/s]"
            ]
          },
          "metadata": {
            "tags": []
          },
          "output_type": "display_data"
        },
        {
          "data": {
            "application/vnd.jupyter.widget-view+json": {
              "model_id": "b868b326f3924203a83849868afd890d",
              "version_major": 2,
              "version_minor": 0
            },
            "text/plain": [
              "Downloading:   0%|          | 0.00/1.36M [00:00<?, ?B/s]"
            ]
          },
          "metadata": {
            "tags": []
          },
          "output_type": "display_data"
        },
        {
          "data": {
            "application/vnd.jupyter.widget-view+json": {
              "model_id": "1e047384498d44eb8c9f359c8bb8c57f",
              "version_major": 2,
              "version_minor": 0
            },
            "text/plain": [
              "Downloading:   0%|          | 0.00/331M [00:00<?, ?B/s]"
            ]
          },
          "metadata": {
            "tags": []
          },
          "output_type": "display_data"
        }
      ],
      "source": [
        "model_cls = AutoModelForSequenceClassification\n",
        "\n",
        "\n",
        "hf_arch, hf_config, hf_tokenizer, hf_model = BLURR.get_hf_objects(\n",
        "    pretrained_model_name,\n",
        "    model_cls=model_cls,\n",
        "    config_kwargs={'num_labels': num_labels})"
      ]
    },
    {
      "cell_type": "code",
      "execution_count": 7,
      "metadata": {
        "id": "aCeG_LXSVuii"
      },
      "outputs": [],
      "source": [
        "blocks = (HF_TextBlock(hf_arch, hf_config, hf_tokenizer, hf_model), CategoryBlock)\n",
        "dblock = DataBlock(blocks=blocks,\n",
        "                   get_x=ColReader('sentence'),\n",
        "                   get_y=ColReader('label'),\n",
        "                   splitter=ColSplitter())\n",
        "\n",
        "dls = dblock.dataloaders(co_df, bs=4, val_bs=8)"
      ]
    },
    {
      "cell_type": "code",
      "execution_count": 8,
      "metadata": {
        "colab": {
          "base_uri": "https://localhost:8080/",
          "height": 394
        },
        "id": "At1rxP44enLG",
        "outputId": "b4ce3ae3-17ce-4eca-a9a7-a0f8691261b9"
      },
      "outputs": [
        {
          "data": {
            "text/html": [
              "<table border=\"1\" class=\"dataframe\">\n",
              "  <thead>\n",
              "    <tr style=\"text-align: right;\">\n",
              "      <th></th>\n",
              "      <th>text</th>\n",
              "      <th>category</th>\n",
              "    </tr>\n",
              "  </thead>\n",
              "  <tbody>\n",
              "    <tr>\n",
              "      <th>0</th>\n",
              "      <td>En una economía estacionaria quizá no valiera la pena mencionar todo esto, ya que en cada año los márgenes de tolerancia para la depreciación, con respecto a las casas viejas, quedarían compensados exactamente por las casas nuevas que se construyeran en sustitución de las que llegan al fin de su vida cada año; pero tales factores pueden ser de mucha importancia en una economía no estática, especialmente durante el periodo que sigue de inmediato a un vigoroso brote de inversión de capital a largo plazo; porque en tales circunstancias gran parte de las nuevas partidas de inversión puede ser absorbida por las mayores reservas financieras que hacen los empresarios para reparar y renovar el equipo de producción existente, el cual, aunque se desgasta con el tiempo, todavía no ha llegado a la fecha en que deben hacerse gastos que puedan aproximarse al total de la reserva financiera que se aparta; con la consecuencia de que los ingresos no pueden subir por encima de un nivel lo bastante bajo para corresponder a un total pequeño de inversión neta.</td>\n",
              "      <td>economía</td>\n",
              "    </tr>\n",
              "    <tr>\n",
              "      <th>1</th>\n",
              "      <td>Sus aportaciones al análisis económico son muy considerables y se pueden clasificar del modo siguiente: 1) se encuentra en la base de todos sus escritos, implícita, pero claramente, la percepción de la lógica de las relaciones por las cuales las cosas se interrelacionan económicamente, mérito un tanto reducido -no tiene por qué serlo mucho- por la prioridad de Child, Barbon y otros; 2) Davenant ha mejorado considerablemente, aunque sólo, podría decirse, mediante un empírico método de casos, los conocimientos de su época en materia de dinero, comercio internacional y hacienda; 3) ha sido una de las primeras autoridades de la época en cuestiones de hacienda pública: impuestos, deuda, etc.; 4) ha sido uno de los pocos que han entendido la tarea de la aritmética política y han cooperado con ella.</td>\n",
              "      <td>economía</td>\n",
              "    </tr>\n",
              "    <tr>\n",
              "      <th>2</th>\n",
              "      <td>Y también es verdad que siempre que intentamos interpretar actitudes humanas, sobre todo actitudes de hombres muy lejanos de nosotros cronológica o culturalmente, corremos el peligro de entenderlos mal no sólo si sustituimos groseramente sus actitudes por las nuestras, sino incluso cuando nos esforzamos cuanto podemos por penetrar en los modos de funcionamiento de su inteligencia; y esa situación se agrava aún por el hecho de que el mismo observador analista es producto de un determinado ambiente social -y de su situación personal en ese ambiente- que le condiciona para ver unas cosas y no otras y para verlas bajo una luz determinada.</td>\n",
              "      <td>economía</td>\n",
              "    </tr>\n",
              "    <tr>\n",
              "      <th>3</th>\n",
              "      <td>Si bien no está claro todavía la aportación económica que estén dispuestos a hacer o los gobiernos o la industria hacia el esfuerzo de investigación del cloro, parece que la industria, además de sus campañas de relaciones públicas para convencer al público que los compuestos del cloro son seguros, ha comenzado a estudiar opciones de sustitución en varias áreas donde hay señales crecientes de que la sociedad no está dispuesta a aceptar la incertidumbre científica y los riesgos.</td>\n",
              "      <td>ambiente</td>\n",
              "    </tr>\n",
              "  </tbody>\n",
              "</table>"
            ],
            "text/plain": [
              "<IPython.core.display.HTML object>"
            ]
          },
          "metadata": {
            "tags": []
          },
          "output_type": "display_data"
        }
      ],
      "source": [
        "dls.show_batch(dataloaders=dls)"
      ]
    },
    {
      "cell_type": "code",
      "execution_count": 9,
      "metadata": {
        "colab": {
          "base_uri": "https://localhost:8080/"
        },
        "id": "Ois0cUsyvXi5",
        "outputId": "e7d8233a-a69e-437a-afe5-973315285ac0"
      },
      "outputs": [
        {
          "data": {
            "text/plain": [
              "(2, torch.Size([4, 343]), torch.Size([4]), 5)"
            ]
          },
          "execution_count": 9,
          "metadata": {
            "tags": []
          },
          "output_type": "execute_result"
        }
      ],
      "source": [
        "b = dls.one_batch()\n",
        "\n",
        "len(b), b[0]['input_ids'].shape, b[1].shape, dls.c"
      ]
    },
    {
      "cell_type": "code",
      "execution_count": 10,
      "metadata": {
        "id": "6EJXK6dizxfm"
      },
      "outputs": [],
      "source": [
        "model = HF_BaseModelWrapper(hf_model)\n",
        "learn = Learner(dls, \n",
        "                model,\n",
        "                opt_func=Adam,\n",
        "                loss_func=CrossEntropyLossFlat(),\n",
        "                metrics=[F1Score(average=None)],\n",
        "                cbs=[HF_BaseModelCallback],\n",
        "                splitter=hf_splitter)\n",
        "learn = learn.to_fp16()\n",
        "learn.freeze()\n"
      ]
    },
    {
      "cell_type": "code",
      "execution_count": 11,
      "metadata": {
        "colab": {
          "base_uri": "https://localhost:8080/",
          "height": 1000
        },
        "id": "cLVcWQjnuV_E",
        "outputId": "486fd424-fcd1-48a5-92d6-a531428dad18"
      },
      "outputs": [
        {
          "data": {
            "text/html": [],
            "text/plain": [
              "<IPython.core.display.HTML object>"
            ]
          },
          "metadata": {
            "tags": []
          },
          "output_type": "display_data"
        },
        {
          "data": {
            "application/vnd.google.colaboratory.intrinsic+json": {
              "type": "string"
            },
            "text/plain": [
              "HF_BaseModelWrapper (Input shape: 4)\n",
              "============================================================================\n",
              "Layer (type)         Output Shape         Param #    Trainable \n",
              "============================================================================\n",
              "                     4 x 343 x 768       \n",
              "Embedding                                 38603520   False     \n",
              "Embedding                                 394752     False     \n",
              "Embedding                                 768        False     \n",
              "LayerNorm                                 1536       True      \n",
              "Dropout                                                        \n",
              "Linear                                    590592     False     \n",
              "Linear                                    590592     False     \n",
              "Linear                                    590592     False     \n",
              "Dropout                                                        \n",
              "Linear                                    590592     False     \n",
              "LayerNorm                                 1536       True      \n",
              "Dropout                                                        \n",
              "____________________________________________________________________________\n",
              "                     4 x 343 x 3072      \n",
              "Linear                                    2362368    False     \n",
              "____________________________________________________________________________\n",
              "                     4 x 343 x 768       \n",
              "Linear                                    2360064    False     \n",
              "LayerNorm                                 1536       True      \n",
              "Dropout                                                        \n",
              "Linear                                    590592     False     \n",
              "Linear                                    590592     False     \n",
              "Linear                                    590592     False     \n",
              "Dropout                                                        \n",
              "Linear                                    590592     False     \n",
              "LayerNorm                                 1536       True      \n",
              "Dropout                                                        \n",
              "____________________________________________________________________________\n",
              "                     4 x 343 x 3072      \n",
              "Linear                                    2362368    False     \n",
              "____________________________________________________________________________\n",
              "                     4 x 343 x 768       \n",
              "Linear                                    2360064    False     \n",
              "LayerNorm                                 1536       True      \n",
              "Dropout                                                        \n",
              "Linear                                    590592     False     \n",
              "Linear                                    590592     False     \n",
              "Linear                                    590592     False     \n",
              "Dropout                                                        \n",
              "Linear                                    590592     False     \n",
              "LayerNorm                                 1536       True      \n",
              "Dropout                                                        \n",
              "____________________________________________________________________________\n",
              "                     4 x 343 x 3072      \n",
              "Linear                                    2362368    False     \n",
              "____________________________________________________________________________\n",
              "                     4 x 343 x 768       \n",
              "Linear                                    2360064    False     \n",
              "LayerNorm                                 1536       True      \n",
              "Dropout                                                        \n",
              "Linear                                    590592     False     \n",
              "Linear                                    590592     False     \n",
              "Linear                                    590592     False     \n",
              "Dropout                                                        \n",
              "Linear                                    590592     False     \n",
              "LayerNorm                                 1536       True      \n",
              "Dropout                                                        \n",
              "____________________________________________________________________________\n",
              "                     4 x 343 x 3072      \n",
              "Linear                                    2362368    False     \n",
              "____________________________________________________________________________\n",
              "                     4 x 343 x 768       \n",
              "Linear                                    2360064    False     \n",
              "LayerNorm                                 1536       True      \n",
              "Dropout                                                        \n",
              "Linear                                    590592     False     \n",
              "Linear                                    590592     False     \n",
              "Linear                                    590592     False     \n",
              "Dropout                                                        \n",
              "Linear                                    590592     False     \n",
              "LayerNorm                                 1536       True      \n",
              "Dropout                                                        \n",
              "____________________________________________________________________________\n",
              "                     4 x 343 x 3072      \n",
              "Linear                                    2362368    False     \n",
              "____________________________________________________________________________\n",
              "                     4 x 343 x 768       \n",
              "Linear                                    2360064    False     \n",
              "LayerNorm                                 1536       True      \n",
              "Dropout                                                        \n",
              "Linear                                    590592     False     \n",
              "Linear                                    590592     False     \n",
              "Linear                                    590592     False     \n",
              "Dropout                                                        \n",
              "Linear                                    590592     False     \n",
              "LayerNorm                                 1536       True      \n",
              "Dropout                                                        \n",
              "____________________________________________________________________________\n",
              "                     4 x 343 x 3072      \n",
              "Linear                                    2362368    False     \n",
              "____________________________________________________________________________\n",
              "                     4 x 343 x 768       \n",
              "Linear                                    2360064    False     \n",
              "LayerNorm                                 1536       True      \n",
              "Dropout                                                        \n",
              "Linear                                    590592     True      \n",
              "Dropout                                                        \n",
              "____________________________________________________________________________\n",
              "                     4 x 5               \n",
              "Linear                                    3845       True      \n",
              "____________________________________________________________________________\n",
              "\n",
              "Total params: 82,122,245\n",
              "Total trainable params: 614,405\n",
              "Total non-trainable params: 81,507,840\n",
              "\n",
              "Optimizer used: <function Adam at 0x7f04481e3dd0>\n",
              "Loss function: FlattenedLoss of CrossEntropyLoss()\n",
              "\n",
              "Model frozen up to parameter group #2\n",
              "\n",
              "Callbacks:\n",
              "  - TrainEvalCallback\n",
              "  - HF_BaseModelCallback\n",
              "  - MixedPrecision\n",
              "  - Recorder\n",
              "  - ProgressCallback"
            ]
          },
          "execution_count": 11,
          "metadata": {
            "tags": []
          },
          "output_type": "execute_result"
        }
      ],
      "source": [
        "learn.summary()"
      ]
    },
    {
      "cell_type": "markdown",
      "metadata": {
        "id": "H6xy0dBffEgj"
      },
      "source": [
        "### Entrenar"
      ]
    },
    {
      "cell_type": "code",
      "execution_count": 12,
      "metadata": {
        "colab": {
          "base_uri": "https://localhost:8080/",
          "height": 300
        },
        "id": "OoOj2IZXuekq",
        "outputId": "f1da2a40-c22b-41c5-fea6-62f3295cde6c"
      },
      "outputs": [
        {
          "data": {
            "text/html": [],
            "text/plain": [
              "<IPython.core.display.HTML object>"
            ]
          },
          "metadata": {
            "tags": []
          },
          "output_type": "display_data"
        },
        {
          "data": {
            "text/plain": [
              "SuggestedLRs(valley=0.0002754228771664202)"
            ]
          },
          "execution_count": 12,
          "metadata": {
            "tags": []
          },
          "output_type": "execute_result"
        },
        {
          "data": {
            "image/png": "[encoded data removed]",
            "text/plain": [
              "<Figure size 432x288 with 1 Axes>"
            ]
          },
          "metadata": {
            "needs_background": "light",
            "tags": []
          },
          "output_type": "display_data"
        }
      ],
      "source": [
        "learn.lr_find()"
      ]
    },
    {
      "cell_type": "code",
      "execution_count": 13,
      "metadata": {
        "colab": {
          "base_uri": "https://localhost:8080/",
          "height": 80
        },
        "id": "1_-NC-AWut9y",
        "outputId": "802d3f5d-e22d-4e24-8154-764be6f96135"
      },
      "outputs": [
        {
          "data": {
            "text/html": [
              "<table border=\"1\" class=\"dataframe\">\n",
              "  <thead>\n",
              "    <tr style=\"text-align: left;\">\n",
              "      <th>epoch</th>\n",
              "      <th>train_loss</th>\n",
              "      <th>valid_loss</th>\n",
              "      <th>f1_score</th>\n",
              "      <th>time</th>\n",
              "    </tr>\n",
              "  </thead>\n",
              "  <tbody>\n",
              "    <tr>\n",
              "      <td>0</td>\n",
              "      <td>0.457684</td>\n",
              "      <td>0.406223</td>\n",
              "      <td>[0.68190476 0.68650372 0.7        0.89605157 0.85984355]</td>\n",
              "      <td>04:36</td>\n",
              "    </tr>\n",
              "  </tbody>\n",
              "</table>"
            ],
            "text/plain": [
              "<IPython.core.display.HTML object>"
            ]
          },
          "metadata": {
            "tags": []
          },
          "output_type": "display_data"
        }
      ],
      "source": [
        "learn.fit_one_cycle(1, lr_max=1e-3)"
      ]
    },
    {
      "cell_type": "code",
      "execution_count": 14,
      "metadata": {
        "colab": {
          "base_uri": "https://localhost:8080/",
          "height": 374
        },
        "id": "cfZrAk5t6p4B",
        "outputId": "0f51285c-c28f-487f-8346-d424d647a833"
      },
      "outputs": [
        {
          "data": {
            "text/html": [],
            "text/plain": [
              "<IPython.core.display.HTML object>"
            ]
          },
          "metadata": {
            "tags": []
          },
          "output_type": "display_data"
        },
        {
          "data": {
            "text/html": [
              "<table border=\"1\" class=\"dataframe\">\n",
              "  <thead>\n",
              "    <tr style=\"text-align: right;\">\n",
              "      <th></th>\n",
              "      <th>text</th>\n",
              "      <th>category</th>\n",
              "      <th>target</th>\n",
              "    </tr>\n",
              "  </thead>\n",
              "  <tbody>\n",
              "    <tr>\n",
              "      <th>0</th>\n",
              "      <td>Quedan reservadas, en todo caso, a las Fuerzas y Cuerpos de Seguridad del Estado bajo la dependencia del Gobierno los servicios policiales de carácter extracomunitario y supracomunitario como la vigilancia de puertos, aeropuertos, costas y fronteras, aduanas, control de entrada y salida del territorio nacional de españoles y extranjeros, régimen general de extranjería, extradición y expulsión, emigración e inmigración, pasaportes, documento nacional de identidad, trafico, armas y explosivos, resguardo fiscal del Estado, contrabando y fraude fiscal y las demás funciones que directamente les encomienda el artículo 104 de la Constitución [19] y las que les atribuya la Ley orgánica que lo desarrolle.</td>\n",
              "      <td>legal</td>\n",
              "      <td>legal</td>\n",
              "    </tr>\n",
              "    <tr>\n",
              "      <th>1</th>\n",
              "      <td>Otro software empaquetado es Asymetrix Compel PE; el software de presentación multimedia Mind Path; el paquete de emulación de fax FaxWorks; el software para la transferencia de archivos TranXit, que puede utilizar el puerto serie, el puerto paralelo o una conexión interna de dos puertos con conexión mediante infrarrojos; el capturador de vídeo Digital Video Producing; un software reproductor de CD-I; y un grupo de aplicaciones Lotus que incluyen ScreenCam, cc:Mail Mobile, y Lotus Organizer 2.0.</td>\n",
              "      <td>tecnología</td>\n",
              "      <td>tecnología</td>\n",
              "    </tr>\n",
              "    <tr>\n",
              "      <th>2</th>\n",
              "      <td>AL Departamento de Defensa de los Estados Unidos le atrajo la idea ya que en el evento de una catástrofe, como podía ser una guerra nuclear, los ordenadores de la nación podrían seguir comunicándose entre ellos incluso en el caso de que quedara destruida una cantidad considerable de la infraestructura de las comunicaciones, ya que aunque se caiga un enlace los datos pueden tomar otra ruta alternativa para llegar a su destino.</td>\n",
              "      <td>tecnología</td>\n",
              "      <td>tecnología</td>\n",
              "    </tr>\n",
              "    <tr>\n",
              "      <th>3</th>\n",
              "      <td>[2] La voz 'técnica' se debe entender aquí en un sentido muy amplio: es suficiente para constituir nivel científico el mero dominio de los hechos de algún campo, si ese dominio se ha adquirido sistemáticamente y se sitúa más allá del alcance del conocimiento que se puede obtener en dicho campo por la mera práctica; y no tiene importancia que cultivar ese dominio no requiera métodos elaborados incomprensibles para el lego.</td>\n",
              "      <td>economía</td>\n",
              "      <td>economía</td>\n",
              "    </tr>\n",
              "    <tr>\n",
              "      <th>4</th>\n",
              "      <td>Esta fortaleza del dólar se fundamenta en la buena situación de la economía norteamericana, que hace gala de un crecimiento sostenido, con pleno empleo y ausencia de tensiones inflacionistas, en un contexto internacional que le resulta muy favorable: contraste con la situación alemana, interés de Japón en depreciar el yen para relanzar su economía, dudas sobre el euro, etcétera.</td>\n",
              "      <td>economía</td>\n",
              "      <td>economía</td>\n",
              "    </tr>\n",
              "  </tbody>\n",
              "</table>"
            ],
            "text/plain": [
              "<IPython.core.display.HTML object>"
            ]
          },
          "metadata": {
            "tags": []
          },
          "output_type": "display_data"
        }
      ],
      "source": [
        "learn.show_results(learner=learn, max_n=5)"
      ]
    },
    {
      "cell_type": "markdown",
      "metadata": {
        "id": "RdKkOlYxdJy4"
      },
      "source": [
        "### Evaluar"
      ]
    },
    {
      "cell_type": "code",
      "execution_count": 15,
      "metadata": {
        "colab": {
          "base_uri": "https://localhost:8080/",
          "height": 51
        },
        "id": "1gNTXqq8dYf0",
        "outputId": "1a86687e-edf9-4b4b-a553-f9bfac044e86"
      },
      "outputs": [
        {
          "data": {
            "text/html": [],
            "text/plain": [
              "<IPython.core.display.HTML object>"
            ]
          },
          "metadata": {
            "tags": []
          },
          "output_type": "display_data"
        },
        {
          "data": {
            "text/plain": [
              "{'f1_score': array([0.68190476, 0.68650372, 0.7       , 0.89605157, 0.85984355]),\n",
              " 'loss': 0.4062231481075287}"
            ]
          },
          "execution_count": 15,
          "metadata": {
            "tags": []
          },
          "output_type": "execute_result"
        }
      ],
      "source": [
        "val_res = learn.validate()\n",
        "\n",
        "val_res_d = { 'loss': val_res[0]}\n",
        "for idx, m in enumerate(learn.metrics):\n",
        "    val_res_d[m.name] = val_res[idx+1]\n",
        "    \n",
        "val_res_d"
      ]
    },
    {
      "cell_type": "code",
      "execution_count": 16,
      "metadata": {
        "colab": {
          "base_uri": "https://localhost:8080/",
          "height": 51
        },
        "id": "oZkQ3w-rdioG",
        "outputId": "4ddd4163-a5c8-443c-a03b-befe20a65441"
      },
      "outputs": [
        {
          "data": {
            "text/html": [],
            "text/plain": [
              "<IPython.core.display.HTML object>"
            ]
          },
          "metadata": {
            "tags": []
          },
          "output_type": "display_data"
        },
        {
          "name": "stdout",
          "output_type": "stream",
          "text": [
            "torch.Size([10471, 5]) torch.Size([10471]) torch.Size([10471])\n",
            "TensorBase(0.4062) TensorBase(0.8488)\n"
          ]
        }
      ],
      "source": [
        "preds, targs, losses = learn.get_preds(with_loss=True)\n",
        "print(preds.shape, targs.shape, losses.shape)\n",
        "print(losses.mean(), accuracy(preds, targs))"
      ]
    },
    {
      "cell_type": "markdown",
      "metadata": {
        "id": "DL_45mtfdmpo"
      },
      "source": [
        "### Infererir"
      ]
    },
    {
      "cell_type": "code",
      "execution_count": 17,
      "metadata": {
        "id": "omxS6i9wdtpQ"
      },
      "outputs": [],
      "source": [
        "learn.export('iula_learner.pkl')"
      ]
    },
    {
      "cell_type": "code",
      "execution_count": 18,
      "metadata": {
        "id": "yKRBTFbVd8Gl"
      },
      "outputs": [],
      "source": [
        "inf_learn = load_learner('iula_learner.pkl')"
      ]
    },
    {
      "cell_type": "code",
      "execution_count": 19,
      "metadata": {
        "colab": {
          "base_uri": "https://localhost:8080/"
        },
        "id": "bB8XaRS3eCU2",
        "outputId": "2e4de191-dcac-4fa9-b345-440b4713d9ac"
      },
      "outputs": [
        {
          "data": {
            "text/plain": [
              "[(('economía',),\n",
              "  (#1) [tensor(1)],\n",
              "  (#1) [tensor([0.1612, 0.7954, 0.0080, 0.0328, 0.0026])]),\n",
              " (('medicina',),\n",
              "  (#1) [tensor(3)],\n",
              "  (#1) [tensor([4.2736e-04, 5.6976e-04, 1.2228e-05, 9.9791e-01, 1.0844e-03])])]"
            ]
          },
          "execution_count": 19,
          "metadata": {
            "tags": []
          },
          "output_type": "execute_result"
        }
      ],
      "source": [
        "inf_learn.blurr_predict(pd.DataFrame([\n",
        "    {'sentence': 'Según el BCE la inflación en el próximo año será menor al 2%'},\n",
        "    {'sentence': 'La cardiopatía congénita es tratable vía transplante'},\n",
        "]))"
      ]
    },
    {
      "cell_type": "code",
      "execution_count": 19,
      "metadata": {
        "id": "Gop7wWDRgRlD"
      },
      "outputs": [],
      "source": []
    }
  ],
  "metadata": {
    "accelerator": "GPU",
    "colab": {
      "authorship_tag": "ABX9TyPBYBO1FnJHRihkhy6RSjZV",
      "collapsed_sections": [],
      "include_colab_link": true,
      "mount_file_id": "https://github.com/hfoffani/HF-fastai/blob/main/nb40_iula_blurr_fastai_learner.ipynb",
      "name": "nb40_iula_blurr_fastai_learner.ipynb",
      "provenance": []
    },
    "kernelspec": {
      "display_name": "Python 3",
      "name": "python3"
    },
    "language_info": {
      "name": "python"
    },
    "widgets": {
      "application/vnd.jupyter.widget-state+json": {
        "0257bf7dc2bb4dcbbaeb9d1810f04445": {
          "model_module": "@jupyter-widgets/base",
          "model_name": "LayoutModel",
          "state": {
            "_model_module": "@jupyter-widgets/base",
            "_model_module_version": "1.2.0",
            "_model_name": "LayoutModel",
            "_view_count": null,
            "_view_module": "@jupyter-widgets/base",
            "_view_module_version": "1.2.0",
            "_view_name": "LayoutView",
            "align_content": null,
            "align_items": null,
            "align_self": null,
            "border": null,
            "bottom": null,
            "display": null,
            "flex": null,
            "flex_flow": null,
            "grid_area": null,
            "grid_auto_columns": null,
            "grid_auto_flow": null,
            "grid_auto_rows": null,
            "grid_column": null,
            "grid_gap": null,
            "grid_row": null,
            "grid_template_areas": null,
            "grid_template_columns": null,
            "grid_template_rows": null,
            "height": null,
            "justify_content": null,
            "justify_items": null,
            "left": null,
            "margin": null,
            "max_height": null,
            "max_width": null,
            "min_height": null,
            "min_width": null,
            "object_fit": null,
            "object_position": null,
            "order": null,
            "overflow": null,
            "overflow_x": null,
            "overflow_y": null,
            "padding": null,
            "right": null,
            "top": null,
            "visibility": null,
            "width": null
          }
        },
        "044c757f7f8f4ce18ce021dfe6d8b509": {
          "model_module": "@jupyter-widgets/controls",
          "model_name": "DescriptionStyleModel",
          "state": {
            "_model_module": "@jupyter-widgets/controls",
            "_model_module_version": "1.5.0",
            "_model_name": "DescriptionStyleModel",
            "_view_count": null,
            "_view_module": "@jupyter-widgets/base",
            "_view_module_version": "1.2.0",
            "_view_name": "StyleView",
            "description_width": ""
          }
        },
        "0f00206a79b84348885c1f1d8b327f45": {
          "model_module": "@jupyter-widgets/base",
          "model_name": "LayoutModel",
          "state": {
            "_model_module": "@jupyter-widgets/base",
            "_model_module_version": "1.2.0",
            "_model_name": "LayoutModel",
            "_view_count": null,
            "_view_module": "@jupyter-widgets/base",
            "_view_module_version": "1.2.0",
            "_view_name": "LayoutView",
            "align_content": null,
            "align_items": null,
            "align_self": null,
            "border": null,
            "bottom": null,
            "display": null,
            "flex": null,
            "flex_flow": null,
            "grid_area": null,
            "grid_auto_columns": null,
            "grid_auto_flow": null,
            "grid_auto_rows": null,
            "grid_column": null,
            "grid_gap": null,
            "grid_row": null,
            "grid_template_areas": null,
            "grid_template_columns": null,
            "grid_template_rows": null,
            "height": null,
            "justify_content": null,
            "justify_items": null,
            "left": null,
            "margin": null,
            "max_height": null,
            "max_width": null,
            "min_height": null,
            "min_width": null,
            "object_fit": null,
            "object_position": null,
            "order": null,
            "overflow": null,
            "overflow_x": null,
            "overflow_y": null,
            "padding": null,
            "right": null,
            "top": null,
            "visibility": null,
            "width": null
          }
        },
        "10552f00b2334a0ca3c73f042fbcf31b": {
          "model_module": "@jupyter-widgets/controls",
          "model_name": "HTMLModel",
          "state": {
            "_dom_classes": [],
            "_model_module": "@jupyter-widgets/controls",
            "_model_module_version": "1.5.0",
            "_model_name": "HTMLModel",
            "_view_count": null,
            "_view_module": "@jupyter-widgets/controls",
            "_view_module_version": "1.5.0",
            "_view_name": "HTMLView",
            "description": "",
            "description_tooltip": null,
            "layout": "IPY_MODEL_bf6c1ad4dfbe4b94ab3d0a6de3dc6217",
            "placeholder": "​",
            "style": "IPY_MODEL_462ec65c92cc4b239e53420d8a8e486d",
            "value": "Downloading: 100%"
          }
        },
        "168cdf58cc2c456cab3351e06519a976": {
          "model_module": "@jupyter-widgets/controls",
          "model_name": "HBoxModel",
          "state": {
            "_dom_classes": [],
            "_model_module": "@jupyter-widgets/controls",
            "_model_module_version": "1.5.0",
            "_model_name": "HBoxModel",
            "_view_count": null,
            "_view_module": "@jupyter-widgets/controls",
            "_view_module_version": "1.5.0",
            "_view_name": "HBoxView",
            "box_style": "",
            "children": [
              "IPY_MODEL_10552f00b2334a0ca3c73f042fbcf31b",
              "IPY_MODEL_47c32ab14f95404389dfcb24f2fec603",
              "IPY_MODEL_3ad44be0bb454bb7a8694b7033c2ea0f"
            ],
            "layout": "IPY_MODEL_0f00206a79b84348885c1f1d8b327f45"
          }
        },
        "1e047384498d44eb8c9f359c8bb8c57f": {
          "model_module": "@jupyter-widgets/controls",
          "model_name": "HBoxModel",
          "state": {
            "_dom_classes": [],
            "_model_module": "@jupyter-widgets/controls",
            "_model_module_version": "1.5.0",
            "_model_name": "HBoxModel",
            "_view_count": null,
            "_view_module": "@jupyter-widgets/controls",
            "_view_module_version": "1.5.0",
            "_view_name": "HBoxView",
            "box_style": "",
            "children": [
              "IPY_MODEL_c7b31229e451463d88a0e84356c3b73b",
              "IPY_MODEL_653f770907044ad583f8879da012bdfa",
              "IPY_MODEL_e59d1e63fe544e548af5a670f2942de5"
            ],
            "layout": "IPY_MODEL_54008d13c58c4dadb2392f09447a3768"
          }
        },
        "2075e1665772420fba91d83ce9d4d4a5": {
          "model_module": "@jupyter-widgets/controls",
          "model_name": "DescriptionStyleModel",
          "state": {
            "_model_module": "@jupyter-widgets/controls",
            "_model_module_version": "1.5.0",
            "_model_name": "DescriptionStyleModel",
            "_view_count": null,
            "_view_module": "@jupyter-widgets/base",
            "_view_module_version": "1.2.0",
            "_view_name": "StyleView",
            "description_width": ""
          }
        },
        "281ba809baaf4ec98f2ffaff05671161": {
          "model_module": "@jupyter-widgets/controls",
          "model_name": "FloatProgressModel",
          "state": {
            "_dom_classes": [],
            "_model_module": "@jupyter-widgets/controls",
            "_model_module_version": "1.5.0",
            "_model_name": "FloatProgressModel",
            "_view_count": null,
            "_view_module": "@jupyter-widgets/controls",
            "_view_module_version": "1.5.0",
            "_view_name": "ProgressView",
            "bar_style": "success",
            "description": "",
            "description_tooltip": null,
            "layout": "IPY_MODEL_3a9cc1f120b14221b71f2f5bc3cf803b",
            "max": 1355863,
            "min": 0,
            "orientation": "horizontal",
            "style": "IPY_MODEL_a15dd706bd2d4352a3e952a51bec2529",
            "value": 1355863
          }
        },
        "2f0cc9a0b4974fdebc93c37b574f357c": {
          "model_module": "@jupyter-widgets/controls",
          "model_name": "DescriptionStyleModel",
          "state": {
            "_model_module": "@jupyter-widgets/controls",
            "_model_module_version": "1.5.0",
            "_model_name": "DescriptionStyleModel",
            "_view_count": null,
            "_view_module": "@jupyter-widgets/base",
            "_view_module_version": "1.2.0",
            "_view_name": "StyleView",
            "description_width": ""
          }
        },
        "37e901c8dc394d47ac3758d69bdf00e5": {
          "model_module": "@jupyter-widgets/base",
          "model_name": "LayoutModel",
          "state": {
            "_model_module": "@jupyter-widgets/base",
            "_model_module_version": "1.2.0",
            "_model_name": "LayoutModel",
            "_view_count": null,
            "_view_module": "@jupyter-widgets/base",
            "_view_module_version": "1.2.0",
            "_view_name": "LayoutView",
            "align_content": null,
            "align_items": null,
            "align_self": null,
            "border": null,
            "bottom": null,
            "display": null,
            "flex": null,
            "flex_flow": null,
            "grid_area": null,
            "grid_auto_columns": null,
            "grid_auto_flow": null,
            "grid_auto_rows": null,
            "grid_column": null,
            "grid_gap": null,
            "grid_row": null,
            "grid_template_areas": null,
            "grid_template_columns": null,
            "grid_template_rows": null,
            "height": null,
            "justify_content": null,
            "justify_items": null,
            "left": null,
            "margin": null,
            "max_height": null,
            "max_width": null,
            "min_height": null,
            "min_width": null,
            "object_fit": null,
            "object_position": null,
            "order": null,
            "overflow": null,
            "overflow_x": null,
            "overflow_y": null,
            "padding": null,
            "right": null,
            "top": null,
            "visibility": null,
            "width": null
          }
        },
        "3a9cc1f120b14221b71f2f5bc3cf803b": {
          "model_module": "@jupyter-widgets/base",
          "model_name": "LayoutModel",
          "state": {
            "_model_module": "@jupyter-widgets/base",
            "_model_module_version": "1.2.0",
            "_model_name": "LayoutModel",
            "_view_count": null,
            "_view_module": "@jupyter-widgets/base",
            "_view_module_version": "1.2.0",
            "_view_name": "LayoutView",
            "align_content": null,
            "align_items": null,
            "align_self": null,
            "border": null,
            "bottom": null,
            "display": null,
            "flex": null,
            "flex_flow": null,
            "grid_area": null,
            "grid_auto_columns": null,
            "grid_auto_flow": null,
            "grid_auto_rows": null,
            "grid_column": null,
            "grid_gap": null,
            "grid_row": null,
            "grid_template_areas": null,
            "grid_template_columns": null,
            "grid_template_rows": null,
            "height": null,
            "justify_content": null,
            "justify_items": null,
            "left": null,
            "margin": null,
            "max_height": null,
            "max_width": null,
            "min_height": null,
            "min_width": null,
            "object_fit": null,
            "object_position": null,
            "order": null,
            "overflow": null,
            "overflow_x": null,
            "overflow_y": null,
            "padding": null,
            "right": null,
            "top": null,
            "visibility": null,
            "width": null
          }
        },
        "3ad44be0bb454bb7a8694b7033c2ea0f": {
          "model_module": "@jupyter-widgets/controls",
          "model_name": "HTMLModel",
          "state": {
            "_dom_classes": [],
            "_model_module": "@jupyter-widgets/controls",
            "_model_module_version": "1.5.0",
            "_model_name": "HTMLModel",
            "_view_count": null,
            "_view_module": "@jupyter-widgets/controls",
            "_view_module_version": "1.5.0",
            "_view_name": "HTMLView",
            "description": "",
            "description_tooltip": null,
            "layout": "IPY_MODEL_3e1eb5a582dc497a8d41f33b0304bee1",
            "placeholder": "​",
            "style": "IPY_MODEL_4f02a44ee59845aaa119d640f86495e8",
            "value": " 480/480 [00:00&lt;00:00, 9.43kB/s]"
          }
        },
        "3e1eb5a582dc497a8d41f33b0304bee1": {
          "model_module": "@jupyter-widgets/base",
          "model_name": "LayoutModel",
          "state": {
            "_model_module": "@jupyter-widgets/base",
            "_model_module_version": "1.2.0",
            "_model_name": "LayoutModel",
            "_view_count": null,
            "_view_module": "@jupyter-widgets/base",
            "_view_module_version": "1.2.0",
            "_view_name": "LayoutView",
            "align_content": null,
            "align_items": null,
            "align_self": null,
            "border": null,
            "bottom": null,
            "display": null,
            "flex": null,
            "flex_flow": null,
            "grid_area": null,
            "grid_auto_columns": null,
            "grid_auto_flow": null,
            "grid_auto_rows": null,
            "grid_column": null,
            "grid_gap": null,
            "grid_row": null,
            "grid_template_areas": null,
            "grid_template_columns": null,
            "grid_template_rows": null,
            "height": null,
            "justify_content": null,
            "justify_items": null,
            "left": null,
            "margin": null,
            "max_height": null,
            "max_width": null,
            "min_height": null,
            "min_width": null,
            "object_fit": null,
            "object_position": null,
            "order": null,
            "overflow": null,
            "overflow_x": null,
            "overflow_y": null,
            "padding": null,
            "right": null,
            "top": null,
            "visibility": null,
            "width": null
          }
        },
        "4240dd8bc6b640c08e6412a18a9fd933": {
          "model_module": "@jupyter-widgets/controls",
          "model_name": "ProgressStyleModel",
          "state": {
            "_model_module": "@jupyter-widgets/controls",
            "_model_module_version": "1.5.0",
            "_model_name": "ProgressStyleModel",
            "_view_count": null,
            "_view_module": "@jupyter-widgets/base",
            "_view_module_version": "1.2.0",
            "_view_name": "StyleView",
            "bar_color": null,
            "description_width": ""
          }
        },
        "462ec65c92cc4b239e53420d8a8e486d": {
          "model_module": "@jupyter-widgets/controls",
          "model_name": "DescriptionStyleModel",
          "state": {
            "_model_module": "@jupyter-widgets/controls",
            "_model_module_version": "1.5.0",
            "_model_name": "DescriptionStyleModel",
            "_view_count": null,
            "_view_module": "@jupyter-widgets/base",
            "_view_module_version": "1.2.0",
            "_view_name": "StyleView",
            "description_width": ""
          }
        },
        "47c32ab14f95404389dfcb24f2fec603": {
          "model_module": "@jupyter-widgets/controls",
          "model_name": "FloatProgressModel",
          "state": {
            "_dom_classes": [],
            "_model_module": "@jupyter-widgets/controls",
            "_model_module_version": "1.5.0",
            "_model_name": "FloatProgressModel",
            "_view_count": null,
            "_view_module": "@jupyter-widgets/controls",
            "_view_module_version": "1.5.0",
            "_view_name": "ProgressView",
            "bar_style": "success",
            "description": "",
            "description_tooltip": null,
            "layout": "IPY_MODEL_50722a55568642dd87d109868cb5f9d4",
            "max": 480,
            "min": 0,
            "orientation": "horizontal",
            "style": "IPY_MODEL_4240dd8bc6b640c08e6412a18a9fd933",
            "value": 480
          }
        },
        "4b4e06f348204f98b4f94a30e247b96a": {
          "model_module": "@jupyter-widgets/controls",
          "model_name": "DescriptionStyleModel",
          "state": {
            "_model_module": "@jupyter-widgets/controls",
            "_model_module_version": "1.5.0",
            "_model_name": "DescriptionStyleModel",
            "_view_count": null,
            "_view_module": "@jupyter-widgets/base",
            "_view_module_version": "1.2.0",
            "_view_name": "StyleView",
            "description_width": ""
          }
        },
        "4f02a44ee59845aaa119d640f86495e8": {
          "model_module": "@jupyter-widgets/controls",
          "model_name": "DescriptionStyleModel",
          "state": {
            "_model_module": "@jupyter-widgets/controls",
            "_model_module_version": "1.5.0",
            "_model_name": "DescriptionStyleModel",
            "_view_count": null,
            "_view_module": "@jupyter-widgets/base",
            "_view_module_version": "1.2.0",
            "_view_name": "StyleView",
            "description_width": ""
          }
        },
        "4fafb1c4b2bd4f99a3cac36b581f5ca4": {
          "model_module": "@jupyter-widgets/base",
          "model_name": "LayoutModel",
          "state": {
            "_model_module": "@jupyter-widgets/base",
            "_model_module_version": "1.2.0",
            "_model_name": "LayoutModel",
            "_view_count": null,
            "_view_module": "@jupyter-widgets/base",
            "_view_module_version": "1.2.0",
            "_view_name": "LayoutView",
            "align_content": null,
            "align_items": null,
            "align_self": null,
            "border": null,
            "bottom": null,
            "display": null,
            "flex": null,
            "flex_flow": null,
            "grid_area": null,
            "grid_auto_columns": null,
            "grid_auto_flow": null,
            "grid_auto_rows": null,
            "grid_column": null,
            "grid_gap": null,
            "grid_row": null,
            "grid_template_areas": null,
            "grid_template_columns": null,
            "grid_template_rows": null,
            "height": null,
            "justify_content": null,
            "justify_items": null,
            "left": null,
            "margin": null,
            "max_height": null,
            "max_width": null,
            "min_height": null,
            "min_width": null,
            "object_fit": null,
            "object_position": null,
            "order": null,
            "overflow": null,
            "overflow_x": null,
            "overflow_y": null,
            "padding": null,
            "right": null,
            "top": null,
            "visibility": null,
            "width": null
          }
        },
        "50722a55568642dd87d109868cb5f9d4": {
          "model_module": "@jupyter-widgets/base",
          "model_name": "LayoutModel",
          "state": {
            "_model_module": "@jupyter-widgets/base",
            "_model_module_version": "1.2.0",
            "_model_name": "LayoutModel",
            "_view_count": null,
            "_view_module": "@jupyter-widgets/base",
            "_view_module_version": "1.2.0",
            "_view_name": "LayoutView",
            "align_content": null,
            "align_items": null,
            "align_self": null,
            "border": null,
            "bottom": null,
            "display": null,
            "flex": null,
            "flex_flow": null,
            "grid_area": null,
            "grid_auto_columns": null,
            "grid_auto_flow": null,
            "grid_auto_rows": null,
            "grid_column": null,
            "grid_gap": null,
            "grid_row": null,
            "grid_template_areas": null,
            "grid_template_columns": null,
            "grid_template_rows": null,
            "height": null,
            "justify_content": null,
            "justify_items": null,
            "left": null,
            "margin": null,
            "max_height": null,
            "max_width": null,
            "min_height": null,
            "min_width": null,
            "object_fit": null,
            "object_position": null,
            "order": null,
            "overflow": null,
            "overflow_x": null,
            "overflow_y": null,
            "padding": null,
            "right": null,
            "top": null,
            "visibility": null,
            "width": null
          }
        },
        "54008d13c58c4dadb2392f09447a3768": {
          "model_module": "@jupyter-widgets/base",
          "model_name": "LayoutModel",
          "state": {
            "_model_module": "@jupyter-widgets/base",
            "_model_module_version": "1.2.0",
            "_model_name": "LayoutModel",
            "_view_count": null,
            "_view_module": "@jupyter-widgets/base",
            "_view_module_version": "1.2.0",
            "_view_name": "LayoutView",
            "align_content": null,
            "align_items": null,
            "align_self": null,
            "border": null,
            "bottom": null,
            "display": null,
            "flex": null,
            "flex_flow": null,
            "grid_area": null,
            "grid_auto_columns": null,
            "grid_auto_flow": null,
            "grid_auto_rows": null,
            "grid_column": null,
            "grid_gap": null,
            "grid_row": null,
            "grid_template_areas": null,
            "grid_template_columns": null,
            "grid_template_rows": null,
            "height": null,
            "justify_content": null,
            "justify_items": null,
            "left": null,
            "margin": null,
            "max_height": null,
            "max_width": null,
            "min_height": null,
            "min_width": null,
            "object_fit": null,
            "object_position": null,
            "order": null,
            "overflow": null,
            "overflow_x": null,
            "overflow_y": null,
            "padding": null,
            "right": null,
            "top": null,
            "visibility": null,
            "width": null
          }
        },
        "5645a30eae1746fdbfafdbf8c26ed679": {
          "model_module": "@jupyter-widgets/controls",
          "model_name": "DescriptionStyleModel",
          "state": {
            "_model_module": "@jupyter-widgets/controls",
            "_model_module_version": "1.5.0",
            "_model_name": "DescriptionStyleModel",
            "_view_count": null,
            "_view_module": "@jupyter-widgets/base",
            "_view_module_version": "1.2.0",
            "_view_name": "StyleView",
            "description_width": ""
          }
        },
        "5753bcf8a784434cb17de596ac076c84": {
          "model_module": "@jupyter-widgets/base",
          "model_name": "LayoutModel",
          "state": {
            "_model_module": "@jupyter-widgets/base",
            "_model_module_version": "1.2.0",
            "_model_name": "LayoutModel",
            "_view_count": null,
            "_view_module": "@jupyter-widgets/base",
            "_view_module_version": "1.2.0",
            "_view_name": "LayoutView",
            "align_content": null,
            "align_items": null,
            "align_self": null,
            "border": null,
            "bottom": null,
            "display": null,
            "flex": null,
            "flex_flow": null,
            "grid_area": null,
            "grid_auto_columns": null,
            "grid_auto_flow": null,
            "grid_auto_rows": null,
            "grid_column": null,
            "grid_gap": null,
            "grid_row": null,
            "grid_template_areas": null,
            "grid_template_columns": null,
            "grid_template_rows": null,
            "height": null,
            "justify_content": null,
            "justify_items": null,
            "left": null,
            "margin": null,
            "max_height": null,
            "max_width": null,
            "min_height": null,
            "min_width": null,
            "object_fit": null,
            "object_position": null,
            "order": null,
            "overflow": null,
            "overflow_x": null,
            "overflow_y": null,
            "padding": null,
            "right": null,
            "top": null,
            "visibility": null,
            "width": null
          }
        },
        "601d2b2d132b4af68241b1aefe2a26cb": {
          "model_module": "@jupyter-widgets/base",
          "model_name": "LayoutModel",
          "state": {
            "_model_module": "@jupyter-widgets/base",
            "_model_module_version": "1.2.0",
            "_model_name": "LayoutModel",
            "_view_count": null,
            "_view_module": "@jupyter-widgets/base",
            "_view_module_version": "1.2.0",
            "_view_name": "LayoutView",
            "align_content": null,
            "align_items": null,
            "align_self": null,
            "border": null,
            "bottom": null,
            "display": null,
            "flex": null,
            "flex_flow": null,
            "grid_area": null,
            "grid_auto_columns": null,
            "grid_auto_flow": null,
            "grid_auto_rows": null,
            "grid_column": null,
            "grid_gap": null,
            "grid_row": null,
            "grid_template_areas": null,
            "grid_template_columns": null,
            "grid_template_rows": null,
            "height": null,
            "justify_content": null,
            "justify_items": null,
            "left": null,
            "margin": null,
            "max_height": null,
            "max_width": null,
            "min_height": null,
            "min_width": null,
            "object_fit": null,
            "object_position": null,
            "order": null,
            "overflow": null,
            "overflow_x": null,
            "overflow_y": null,
            "padding": null,
            "right": null,
            "top": null,
            "visibility": null,
            "width": null
          }
        },
        "653f770907044ad583f8879da012bdfa": {
          "model_module": "@jupyter-widgets/controls",
          "model_name": "FloatProgressModel",
          "state": {
            "_dom_classes": [],
            "_model_module": "@jupyter-widgets/controls",
            "_model_module_version": "1.5.0",
            "_model_name": "FloatProgressModel",
            "_view_count": null,
            "_view_module": "@jupyter-widgets/controls",
            "_view_module_version": "1.5.0",
            "_view_name": "ProgressView",
            "bar_style": "success",
            "description": "",
            "description_tooltip": null,
            "layout": "IPY_MODEL_7e8873350aa845b284ff5fc59da0319f",
            "max": 331070498,
            "min": 0,
            "orientation": "horizontal",
            "style": "IPY_MODEL_7afb9ebb2a3e45dfb966498fad896ae4",
            "value": 331070498
          }
        },
        "719ec8ff6fe1447f98facc0ae0f3acf7": {
          "model_module": "@jupyter-widgets/controls",
          "model_name": "DescriptionStyleModel",
          "state": {
            "_model_module": "@jupyter-widgets/controls",
            "_model_module_version": "1.5.0",
            "_model_name": "DescriptionStyleModel",
            "_view_count": null,
            "_view_module": "@jupyter-widgets/base",
            "_view_module_version": "1.2.0",
            "_view_name": "StyleView",
            "description_width": ""
          }
        },
        "7afb9ebb2a3e45dfb966498fad896ae4": {
          "model_module": "@jupyter-widgets/controls",
          "model_name": "ProgressStyleModel",
          "state": {
            "_model_module": "@jupyter-widgets/controls",
            "_model_module_version": "1.5.0",
            "_model_name": "ProgressStyleModel",
            "_view_count": null,
            "_view_module": "@jupyter-widgets/base",
            "_view_module_version": "1.2.0",
            "_view_name": "StyleView",
            "bar_color": null,
            "description_width": ""
          }
        },
        "7d42aef949ae49d0a075442f40304e48": {
          "model_module": "@jupyter-widgets/base",
          "model_name": "LayoutModel",
          "state": {
            "_model_module": "@jupyter-widgets/base",
            "_model_module_version": "1.2.0",
            "_model_name": "LayoutModel",
            "_view_count": null,
            "_view_module": "@jupyter-widgets/base",
            "_view_module_version": "1.2.0",
            "_view_name": "LayoutView",
            "align_content": null,
            "align_items": null,
            "align_self": null,
            "border": null,
            "bottom": null,
            "display": null,
            "flex": null,
            "flex_flow": null,
            "grid_area": null,
            "grid_auto_columns": null,
            "grid_auto_flow": null,
            "grid_auto_rows": null,
            "grid_column": null,
            "grid_gap": null,
            "grid_row": null,
            "grid_template_areas": null,
            "grid_template_columns": null,
            "grid_template_rows": null,
            "height": null,
            "justify_content": null,
            "justify_items": null,
            "left": null,
            "margin": null,
            "max_height": null,
            "max_width": null,
            "min_height": null,
            "min_width": null,
            "object_fit": null,
            "object_position": null,
            "order": null,
            "overflow": null,
            "overflow_x": null,
            "overflow_y": null,
            "padding": null,
            "right": null,
            "top": null,
            "visibility": null,
            "width": null
          }
        },
        "7e8873350aa845b284ff5fc59da0319f": {
          "model_module": "@jupyter-widgets/base",
          "model_name": "LayoutModel",
          "state": {
            "_model_module": "@jupyter-widgets/base",
            "_model_module_version": "1.2.0",
            "_model_name": "LayoutModel",
            "_view_count": null,
            "_view_module": "@jupyter-widgets/base",
            "_view_module_version": "1.2.0",
            "_view_name": "LayoutView",
            "align_content": null,
            "align_items": null,
            "align_self": null,
            "border": null,
            "bottom": null,
            "display": null,
            "flex": null,
            "flex_flow": null,
            "grid_area": null,
            "grid_auto_columns": null,
            "grid_auto_flow": null,
            "grid_auto_rows": null,
            "grid_column": null,
            "grid_gap": null,
            "grid_row": null,
            "grid_template_areas": null,
            "grid_template_columns": null,
            "grid_template_rows": null,
            "height": null,
            "justify_content": null,
            "justify_items": null,
            "left": null,
            "margin": null,
            "max_height": null,
            "max_width": null,
            "min_height": null,
            "min_width": null,
            "object_fit": null,
            "object_position": null,
            "order": null,
            "overflow": null,
            "overflow_x": null,
            "overflow_y": null,
            "padding": null,
            "right": null,
            "top": null,
            "visibility": null,
            "width": null
          }
        },
        "8dc1875ed6c7493fa5c6375c4c19304f": {
          "model_module": "@jupyter-widgets/controls",
          "model_name": "FloatProgressModel",
          "state": {
            "_dom_classes": [],
            "_model_module": "@jupyter-widgets/controls",
            "_model_module_version": "1.5.0",
            "_model_name": "FloatProgressModel",
            "_view_count": null,
            "_view_module": "@jupyter-widgets/controls",
            "_view_module_version": "1.5.0",
            "_view_name": "ProgressView",
            "bar_style": "success",
            "description": "",
            "description_tooltip": null,
            "layout": "IPY_MODEL_c9c3da784c2a40258aad3f1f38d8847f",
            "max": 898823,
            "min": 0,
            "orientation": "horizontal",
            "style": "IPY_MODEL_917dcef2e32646e9bffcef2401cb1ccd",
            "value": 898823
          }
        },
        "917dcef2e32646e9bffcef2401cb1ccd": {
          "model_module": "@jupyter-widgets/controls",
          "model_name": "ProgressStyleModel",
          "state": {
            "_model_module": "@jupyter-widgets/controls",
            "_model_module_version": "1.5.0",
            "_model_name": "ProgressStyleModel",
            "_view_count": null,
            "_view_module": "@jupyter-widgets/base",
            "_view_module_version": "1.2.0",
            "_view_name": "StyleView",
            "bar_color": null,
            "description_width": ""
          }
        },
        "94bb78939d7547c18790e8028ae2921e": {
          "model_module": "@jupyter-widgets/base",
          "model_name": "LayoutModel",
          "state": {
            "_model_module": "@jupyter-widgets/base",
            "_model_module_version": "1.2.0",
            "_model_name": "LayoutModel",
            "_view_count": null,
            "_view_module": "@jupyter-widgets/base",
            "_view_module_version": "1.2.0",
            "_view_name": "LayoutView",
            "align_content": null,
            "align_items": null,
            "align_self": null,
            "border": null,
            "bottom": null,
            "display": null,
            "flex": null,
            "flex_flow": null,
            "grid_area": null,
            "grid_auto_columns": null,
            "grid_auto_flow": null,
            "grid_auto_rows": null,
            "grid_column": null,
            "grid_gap": null,
            "grid_row": null,
            "grid_template_areas": null,
            "grid_template_columns": null,
            "grid_template_rows": null,
            "height": null,
            "justify_content": null,
            "justify_items": null,
            "left": null,
            "margin": null,
            "max_height": null,
            "max_width": null,
            "min_height": null,
            "min_width": null,
            "object_fit": null,
            "object_position": null,
            "order": null,
            "overflow": null,
            "overflow_x": null,
            "overflow_y": null,
            "padding": null,
            "right": null,
            "top": null,
            "visibility": null,
            "width": null
          }
        },
        "9712c30e4dda4afaaa2a482892bfa5ab": {
          "model_module": "@jupyter-widgets/controls",
          "model_name": "ProgressStyleModel",
          "state": {
            "_model_module": "@jupyter-widgets/controls",
            "_model_module_version": "1.5.0",
            "_model_name": "ProgressStyleModel",
            "_view_count": null,
            "_view_module": "@jupyter-widgets/base",
            "_view_module_version": "1.2.0",
            "_view_name": "StyleView",
            "bar_color": null,
            "description_width": ""
          }
        },
        "a15dd706bd2d4352a3e952a51bec2529": {
          "model_module": "@jupyter-widgets/controls",
          "model_name": "ProgressStyleModel",
          "state": {
            "_model_module": "@jupyter-widgets/controls",
            "_model_module_version": "1.5.0",
            "_model_name": "ProgressStyleModel",
            "_view_count": null,
            "_view_module": "@jupyter-widgets/base",
            "_view_module_version": "1.2.0",
            "_view_name": "StyleView",
            "bar_color": null,
            "description_width": ""
          }
        },
        "a21cc27df1ac4aebb9341c5f43b447f4": {
          "model_module": "@jupyter-widgets/controls",
          "model_name": "DescriptionStyleModel",
          "state": {
            "_model_module": "@jupyter-widgets/controls",
            "_model_module_version": "1.5.0",
            "_model_name": "DescriptionStyleModel",
            "_view_count": null,
            "_view_module": "@jupyter-widgets/base",
            "_view_module_version": "1.2.0",
            "_view_name": "StyleView",
            "description_width": ""
          }
        },
        "acf8fe21ac584eb3955999052a506499": {
          "model_module": "@jupyter-widgets/controls",
          "model_name": "FloatProgressModel",
          "state": {
            "_dom_classes": [],
            "_model_module": "@jupyter-widgets/controls",
            "_model_module_version": "1.5.0",
            "_model_name": "FloatProgressModel",
            "_view_count": null,
            "_view_module": "@jupyter-widgets/controls",
            "_view_module_version": "1.5.0",
            "_view_name": "ProgressView",
            "bar_style": "success",
            "description": "",
            "description_tooltip": null,
            "layout": "IPY_MODEL_0257bf7dc2bb4dcbbaeb9d1810f04445",
            "max": 456318,
            "min": 0,
            "orientation": "horizontal",
            "style": "IPY_MODEL_9712c30e4dda4afaaa2a482892bfa5ab",
            "value": 456318
          }
        },
        "b62a870410234ed18157e875e6064c46": {
          "model_module": "@jupyter-widgets/controls",
          "model_name": "DescriptionStyleModel",
          "state": {
            "_model_module": "@jupyter-widgets/controls",
            "_model_module_version": "1.5.0",
            "_model_name": "DescriptionStyleModel",
            "_view_count": null,
            "_view_module": "@jupyter-widgets/base",
            "_view_module_version": "1.2.0",
            "_view_name": "StyleView",
            "description_width": ""
          }
        },
        "b868b326f3924203a83849868afd890d": {
          "model_module": "@jupyter-widgets/controls",
          "model_name": "HBoxModel",
          "state": {
            "_dom_classes": [],
            "_model_module": "@jupyter-widgets/controls",
            "_model_module_version": "1.5.0",
            "_model_name": "HBoxModel",
            "_view_count": null,
            "_view_module": "@jupyter-widgets/controls",
            "_view_module_version": "1.5.0",
            "_view_name": "HBoxView",
            "box_style": "",
            "children": [
              "IPY_MODEL_f531fe2fb68f43b384bd84200d7e18a5",
              "IPY_MODEL_281ba809baaf4ec98f2ffaff05671161",
              "IPY_MODEL_fd4c4d9abdf1471c87044fd830b48f2b"
            ],
            "layout": "IPY_MODEL_4fafb1c4b2bd4f99a3cac36b581f5ca4"
          }
        },
        "bf6c1ad4dfbe4b94ab3d0a6de3dc6217": {
          "model_module": "@jupyter-widgets/base",
          "model_name": "LayoutModel",
          "state": {
            "_model_module": "@jupyter-widgets/base",
            "_model_module_version": "1.2.0",
            "_model_name": "LayoutModel",
            "_view_count": null,
            "_view_module": "@jupyter-widgets/base",
            "_view_module_version": "1.2.0",
            "_view_name": "LayoutView",
            "align_content": null,
            "align_items": null,
            "align_self": null,
            "border": null,
            "bottom": null,
            "display": null,
            "flex": null,
            "flex_flow": null,
            "grid_area": null,
            "grid_auto_columns": null,
            "grid_auto_flow": null,
            "grid_auto_rows": null,
            "grid_column": null,
            "grid_gap": null,
            "grid_row": null,
            "grid_template_areas": null,
            "grid_template_columns": null,
            "grid_template_rows": null,
            "height": null,
            "justify_content": null,
            "justify_items": null,
            "left": null,
            "margin": null,
            "max_height": null,
            "max_width": null,
            "min_height": null,
            "min_width": null,
            "object_fit": null,
            "object_position": null,
            "order": null,
            "overflow": null,
            "overflow_x": null,
            "overflow_y": null,
            "padding": null,
            "right": null,
            "top": null,
            "visibility": null,
            "width": null
          }
        },
        "c3a9fd9076ad4e3c9f51211203855948": {
          "model_module": "@jupyter-widgets/controls",
          "model_name": "HBoxModel",
          "state": {
            "_dom_classes": [],
            "_model_module": "@jupyter-widgets/controls",
            "_model_module_version": "1.5.0",
            "_model_name": "HBoxModel",
            "_view_count": null,
            "_view_module": "@jupyter-widgets/controls",
            "_view_module_version": "1.5.0",
            "_view_name": "HBoxView",
            "box_style": "",
            "children": [
              "IPY_MODEL_c6e8b5c992cd4411a627825b09b5fd88",
              "IPY_MODEL_8dc1875ed6c7493fa5c6375c4c19304f",
              "IPY_MODEL_ff2802e132c3426d935c735986ac3df9"
            ],
            "layout": "IPY_MODEL_94bb78939d7547c18790e8028ae2921e"
          }
        },
        "c6e8b5c992cd4411a627825b09b5fd88": {
          "model_module": "@jupyter-widgets/controls",
          "model_name": "HTMLModel",
          "state": {
            "_dom_classes": [],
            "_model_module": "@jupyter-widgets/controls",
            "_model_module_version": "1.5.0",
            "_model_name": "HTMLModel",
            "_view_count": null,
            "_view_module": "@jupyter-widgets/controls",
            "_view_module_version": "1.5.0",
            "_view_name": "HTMLView",
            "description": "",
            "description_tooltip": null,
            "layout": "IPY_MODEL_5753bcf8a784434cb17de596ac076c84",
            "placeholder": "​",
            "style": "IPY_MODEL_719ec8ff6fe1447f98facc0ae0f3acf7",
            "value": "Downloading: 100%"
          }
        },
        "c708ee86e0414546a941bc33f9580560": {
          "model_module": "@jupyter-widgets/controls",
          "model_name": "HBoxModel",
          "state": {
            "_dom_classes": [],
            "_model_module": "@jupyter-widgets/controls",
            "_model_module_version": "1.5.0",
            "_model_name": "HBoxModel",
            "_view_count": null,
            "_view_module": "@jupyter-widgets/controls",
            "_view_module_version": "1.5.0",
            "_view_name": "HBoxView",
            "box_style": "",
            "children": [
              "IPY_MODEL_eab7c26b57d140eb8b08268100f5a193",
              "IPY_MODEL_acf8fe21ac584eb3955999052a506499",
              "IPY_MODEL_e80fbc0114ea429c80fe3b58757ecd84"
            ],
            "layout": "IPY_MODEL_f8a7d75029064d188d95399b8ca4ab48"
          }
        },
        "c7b31229e451463d88a0e84356c3b73b": {
          "model_module": "@jupyter-widgets/controls",
          "model_name": "HTMLModel",
          "state": {
            "_dom_classes": [],
            "_model_module": "@jupyter-widgets/controls",
            "_model_module_version": "1.5.0",
            "_model_name": "HTMLModel",
            "_view_count": null,
            "_view_module": "@jupyter-widgets/controls",
            "_view_module_version": "1.5.0",
            "_view_name": "HTMLView",
            "description": "",
            "description_tooltip": null,
            "layout": "IPY_MODEL_7d42aef949ae49d0a075442f40304e48",
            "placeholder": "​",
            "style": "IPY_MODEL_2f0cc9a0b4974fdebc93c37b574f357c",
            "value": "Downloading: 100%"
          }
        },
        "c9c3da784c2a40258aad3f1f38d8847f": {
          "model_module": "@jupyter-widgets/base",
          "model_name": "LayoutModel",
          "state": {
            "_model_module": "@jupyter-widgets/base",
            "_model_module_version": "1.2.0",
            "_model_name": "LayoutModel",
            "_view_count": null,
            "_view_module": "@jupyter-widgets/base",
            "_view_module_version": "1.2.0",
            "_view_name": "LayoutView",
            "align_content": null,
            "align_items": null,
            "align_self": null,
            "border": null,
            "bottom": null,
            "display": null,
            "flex": null,
            "flex_flow": null,
            "grid_area": null,
            "grid_auto_columns": null,
            "grid_auto_flow": null,
            "grid_auto_rows": null,
            "grid_column": null,
            "grid_gap": null,
            "grid_row": null,
            "grid_template_areas": null,
            "grid_template_columns": null,
            "grid_template_rows": null,
            "height": null,
            "justify_content": null,
            "justify_items": null,
            "left": null,
            "margin": null,
            "max_height": null,
            "max_width": null,
            "min_height": null,
            "min_width": null,
            "object_fit": null,
            "object_position": null,
            "order": null,
            "overflow": null,
            "overflow_x": null,
            "overflow_y": null,
            "padding": null,
            "right": null,
            "top": null,
            "visibility": null,
            "width": null
          }
        },
        "d274133d0d784b309c5e81a0946a5dc1": {
          "model_module": "@jupyter-widgets/base",
          "model_name": "LayoutModel",
          "state": {
            "_model_module": "@jupyter-widgets/base",
            "_model_module_version": "1.2.0",
            "_model_name": "LayoutModel",
            "_view_count": null,
            "_view_module": "@jupyter-widgets/base",
            "_view_module_version": "1.2.0",
            "_view_name": "LayoutView",
            "align_content": null,
            "align_items": null,
            "align_self": null,
            "border": null,
            "bottom": null,
            "display": null,
            "flex": null,
            "flex_flow": null,
            "grid_area": null,
            "grid_auto_columns": null,
            "grid_auto_flow": null,
            "grid_auto_rows": null,
            "grid_column": null,
            "grid_gap": null,
            "grid_row": null,
            "grid_template_areas": null,
            "grid_template_columns": null,
            "grid_template_rows": null,
            "height": null,
            "justify_content": null,
            "justify_items": null,
            "left": null,
            "margin": null,
            "max_height": null,
            "max_width": null,
            "min_height": null,
            "min_width": null,
            "object_fit": null,
            "object_position": null,
            "order": null,
            "overflow": null,
            "overflow_x": null,
            "overflow_y": null,
            "padding": null,
            "right": null,
            "top": null,
            "visibility": null,
            "width": null
          }
        },
        "decb3a2ca9f14c479610ece78f9cb432": {
          "model_module": "@jupyter-widgets/base",
          "model_name": "LayoutModel",
          "state": {
            "_model_module": "@jupyter-widgets/base",
            "_model_module_version": "1.2.0",
            "_model_name": "LayoutModel",
            "_view_count": null,
            "_view_module": "@jupyter-widgets/base",
            "_view_module_version": "1.2.0",
            "_view_name": "LayoutView",
            "align_content": null,
            "align_items": null,
            "align_self": null,
            "border": null,
            "bottom": null,
            "display": null,
            "flex": null,
            "flex_flow": null,
            "grid_area": null,
            "grid_auto_columns": null,
            "grid_auto_flow": null,
            "grid_auto_rows": null,
            "grid_column": null,
            "grid_gap": null,
            "grid_row": null,
            "grid_template_areas": null,
            "grid_template_columns": null,
            "grid_template_rows": null,
            "height": null,
            "justify_content": null,
            "justify_items": null,
            "left": null,
            "margin": null,
            "max_height": null,
            "max_width": null,
            "min_height": null,
            "min_width": null,
            "object_fit": null,
            "object_position": null,
            "order": null,
            "overflow": null,
            "overflow_x": null,
            "overflow_y": null,
            "padding": null,
            "right": null,
            "top": null,
            "visibility": null,
            "width": null
          }
        },
        "e59d1e63fe544e548af5a670f2942de5": {
          "model_module": "@jupyter-widgets/controls",
          "model_name": "HTMLModel",
          "state": {
            "_dom_classes": [],
            "_model_module": "@jupyter-widgets/controls",
            "_model_module_version": "1.5.0",
            "_model_name": "HTMLModel",
            "_view_count": null,
            "_view_module": "@jupyter-widgets/controls",
            "_view_module_version": "1.5.0",
            "_view_name": "HTMLView",
            "description": "",
            "description_tooltip": null,
            "layout": "IPY_MODEL_fd64480cd0404bd393e876aee375b6e4",
            "placeholder": "​",
            "style": "IPY_MODEL_2075e1665772420fba91d83ce9d4d4a5",
            "value": " 331M/331M [00:08&lt;00:00, 44.4MB/s]"
          }
        },
        "e80fbc0114ea429c80fe3b58757ecd84": {
          "model_module": "@jupyter-widgets/controls",
          "model_name": "HTMLModel",
          "state": {
            "_dom_classes": [],
            "_model_module": "@jupyter-widgets/controls",
            "_model_module_version": "1.5.0",
            "_model_name": "HTMLModel",
            "_view_count": null,
            "_view_module": "@jupyter-widgets/controls",
            "_view_module_version": "1.5.0",
            "_view_name": "HTMLView",
            "description": "",
            "description_tooltip": null,
            "layout": "IPY_MODEL_decb3a2ca9f14c479610ece78f9cb432",
            "placeholder": "​",
            "style": "IPY_MODEL_5645a30eae1746fdbfafdbf8c26ed679",
            "value": " 456k/456k [00:00&lt;00:00, 1.72MB/s]"
          }
        },
        "eab7c26b57d140eb8b08268100f5a193": {
          "model_module": "@jupyter-widgets/controls",
          "model_name": "HTMLModel",
          "state": {
            "_dom_classes": [],
            "_model_module": "@jupyter-widgets/controls",
            "_model_module_version": "1.5.0",
            "_model_name": "HTMLModel",
            "_view_count": null,
            "_view_module": "@jupyter-widgets/controls",
            "_view_module_version": "1.5.0",
            "_view_name": "HTMLView",
            "description": "",
            "description_tooltip": null,
            "layout": "IPY_MODEL_601d2b2d132b4af68241b1aefe2a26cb",
            "placeholder": "​",
            "style": "IPY_MODEL_4b4e06f348204f98b4f94a30e247b96a",
            "value": "Downloading: 100%"
          }
        },
        "ed4fe07e04c7445b86ff052e06bf108e": {
          "model_module": "@jupyter-widgets/base",
          "model_name": "LayoutModel",
          "state": {
            "_model_module": "@jupyter-widgets/base",
            "_model_module_version": "1.2.0",
            "_model_name": "LayoutModel",
            "_view_count": null,
            "_view_module": "@jupyter-widgets/base",
            "_view_module_version": "1.2.0",
            "_view_name": "LayoutView",
            "align_content": null,
            "align_items": null,
            "align_self": null,
            "border": null,
            "bottom": null,
            "display": null,
            "flex": null,
            "flex_flow": null,
            "grid_area": null,
            "grid_auto_columns": null,
            "grid_auto_flow": null,
            "grid_auto_rows": null,
            "grid_column": null,
            "grid_gap": null,
            "grid_row": null,
            "grid_template_areas": null,
            "grid_template_columns": null,
            "grid_template_rows": null,
            "height": null,
            "justify_content": null,
            "justify_items": null,
            "left": null,
            "margin": null,
            "max_height": null,
            "max_width": null,
            "min_height": null,
            "min_width": null,
            "object_fit": null,
            "object_position": null,
            "order": null,
            "overflow": null,
            "overflow_x": null,
            "overflow_y": null,
            "padding": null,
            "right": null,
            "top": null,
            "visibility": null,
            "width": null
          }
        },
        "f531fe2fb68f43b384bd84200d7e18a5": {
          "model_module": "@jupyter-widgets/controls",
          "model_name": "HTMLModel",
          "state": {
            "_dom_classes": [],
            "_model_module": "@jupyter-widgets/controls",
            "_model_module_version": "1.5.0",
            "_model_name": "HTMLModel",
            "_view_count": null,
            "_view_module": "@jupyter-widgets/controls",
            "_view_module_version": "1.5.0",
            "_view_name": "HTMLView",
            "description": "",
            "description_tooltip": null,
            "layout": "IPY_MODEL_37e901c8dc394d47ac3758d69bdf00e5",
            "placeholder": "​",
            "style": "IPY_MODEL_a21cc27df1ac4aebb9341c5f43b447f4",
            "value": "Downloading: 100%"
          }
        },
        "f8a7d75029064d188d95399b8ca4ab48": {
          "model_module": "@jupyter-widgets/base",
          "model_name": "LayoutModel",
          "state": {
            "_model_module": "@jupyter-widgets/base",
            "_model_module_version": "1.2.0",
            "_model_name": "LayoutModel",
            "_view_count": null,
            "_view_module": "@jupyter-widgets/base",
            "_view_module_version": "1.2.0",
            "_view_name": "LayoutView",
            "align_content": null,
            "align_items": null,
            "align_self": null,
            "border": null,
            "bottom": null,
            "display": null,
            "flex": null,
            "flex_flow": null,
            "grid_area": null,
            "grid_auto_columns": null,
            "grid_auto_flow": null,
            "grid_auto_rows": null,
            "grid_column": null,
            "grid_gap": null,
            "grid_row": null,
            "grid_template_areas": null,
            "grid_template_columns": null,
            "grid_template_rows": null,
            "height": null,
            "justify_content": null,
            "justify_items": null,
            "left": null,
            "margin": null,
            "max_height": null,
            "max_width": null,
            "min_height": null,
            "min_width": null,
            "object_fit": null,
            "object_position": null,
            "order": null,
            "overflow": null,
            "overflow_x": null,
            "overflow_y": null,
            "padding": null,
            "right": null,
            "top": null,
            "visibility": null,
            "width": null
          }
        },
        "fd4c4d9abdf1471c87044fd830b48f2b": {
          "model_module": "@jupyter-widgets/controls",
          "model_name": "HTMLModel",
          "state": {
            "_dom_classes": [],
            "_model_module": "@jupyter-widgets/controls",
            "_model_module_version": "1.5.0",
            "_model_name": "HTMLModel",
            "_view_count": null,
            "_view_module": "@jupyter-widgets/controls",
            "_view_module_version": "1.5.0",
            "_view_name": "HTMLView",
            "description": "",
            "description_tooltip": null,
            "layout": "IPY_MODEL_d274133d0d784b309c5e81a0946a5dc1",
            "placeholder": "​",
            "style": "IPY_MODEL_044c757f7f8f4ce18ce021dfe6d8b509",
            "value": " 1.36M/1.36M [00:00&lt;00:00, 5.15MB/s]"
          }
        },
        "fd64480cd0404bd393e876aee375b6e4": {
          "model_module": "@jupyter-widgets/base",
          "model_name": "LayoutModel",
          "state": {
            "_model_module": "@jupyter-widgets/base",
            "_model_module_version": "1.2.0",
            "_model_name": "LayoutModel",
            "_view_count": null,
            "_view_module": "@jupyter-widgets/base",
            "_view_module_version": "1.2.0",
            "_view_name": "LayoutView",
            "align_content": null,
            "align_items": null,
            "align_self": null,
            "border": null,
            "bottom": null,
            "display": null,
            "flex": null,
            "flex_flow": null,
            "grid_area": null,
            "grid_auto_columns": null,
            "grid_auto_flow": null,
            "grid_auto_rows": null,
            "grid_column": null,
            "grid_gap": null,
            "grid_row": null,
            "grid_template_areas": null,
            "grid_template_columns": null,
            "grid_template_rows": null,
            "height": null,
            "justify_content": null,
            "justify_items": null,
            "left": null,
            "margin": null,
            "max_height": null,
            "max_width": null,
            "min_height": null,
            "min_width": null,
            "object_fit": null,
            "object_position": null,
            "order": null,
            "overflow": null,
            "overflow_x": null,
            "overflow_y": null,
            "padding": null,
            "right": null,
            "top": null,
            "visibility": null,
            "width": null
          }
        },
        "ff2802e132c3426d935c735986ac3df9": {
          "model_module": "@jupyter-widgets/controls",
          "model_name": "HTMLModel",
          "state": {
            "_dom_classes": [],
            "_model_module": "@jupyter-widgets/controls",
            "_model_module_version": "1.5.0",
            "_model_name": "HTMLModel",
            "_view_count": null,
            "_view_module": "@jupyter-widgets/controls",
            "_view_module_version": "1.5.0",
            "_view_name": "HTMLView",
            "description": "",
            "description_tooltip": null,
            "layout": "IPY_MODEL_ed4fe07e04c7445b86ff052e06bf108e",
            "placeholder": "​",
            "style": "IPY_MODEL_b62a870410234ed18157e875e6064c46",
            "value": " 899k/899k [00:00&lt;00:00, 1.62MB/s]"
          }
        }
      }
    }
  },
  "nbformat": 4,
  "nbformat_minor": 0
}
