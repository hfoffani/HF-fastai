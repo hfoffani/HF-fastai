{
  "nbformat": 4,
  "nbformat_minor": 0,
  "metadata": {
    "colab": {
      "name": "nb30_iula_blurr_blearner.ipynb",
      "provenance": [],
      "collapsed_sections": [],
      "mount_file_id": "https://github.com/hfoffani/HF-fastai/blob/main/nb30_iula_blurr_blearner.ipynb",
      "authorship_tag": "ABX9TyP73Ygg2cShTG3ZwfrEbfcx",
      "include_colab_link": true
    },
    "kernelspec": {
      "name": "python3",
      "display_name": "Python 3"
    },
    "language_info": {
      "name": "python"
    },
    "accelerator": "GPU"
  },
  "cells": [
    {
      "cell_type": "markdown",
      "metadata": {
        "id": "view-in-github",
        "colab_type": "text"
      },
      "source": [
        "<a href=\"https://colab.research.google.com/github/hfoffani/HF-fastai/blob/main/nb30_iula_blurr_blearner.ipynb\" target=\"_parent\"><img src=\"https://colab.research.google.com/assets/colab-badge.svg\" alt=\"Open In Colab\"/></a>"
      ]
    },
    {
      "cell_type": "code",
      "metadata": {
        "id": "YBgYA_8HSmfy"
      },
      "source": [
        "!pip install -Uqq transformers datasets tqdm\n",
        "!pip install -Uqq ohmeow-blurr"
      ],
      "execution_count": 24,
      "outputs": []
    },
    {
      "cell_type": "code",
      "metadata": {
        "id": "nxE6Bii3b0K1",
        "outputId": "595643d8-60fa-4ebf-8801-566420d67664",
        "colab": {
          "base_uri": "https://localhost:8080/"
        }
      },
      "source": [
        "from google.colab import drive\n",
        "drive.mount('/content/drive')"
      ],
      "execution_count": 25,
      "outputs": [
        {
          "output_type": "stream",
          "text": [
            "Drive already mounted at /content/drive; to attempt to forcibly remount, call drive.mount(\"/content/drive\", force_remount=True).\n"
          ],
          "name": "stdout"
        }
      ]
    },
    {
      "cell_type": "code",
      "metadata": {
        "id": "NnVTla8IS5v-"
      },
      "source": [
        "import os\n",
        "\n",
        "import pandas as pd\n",
        "\n",
        "from transformers import AutoModelForSequenceClassification\n",
        "\n",
        "from blurr.utils import BLURR\n",
        "from blurr.data.core import HF_TextBlock\n",
        "from blurr.modeling.core import Blearner\n",
        "\n",
        "from fastai.text.all import *\n"
      ],
      "execution_count": 26,
      "outputs": []
    },
    {
      "cell_type": "markdown",
      "metadata": {
        "id": "RHeXVoqAfX41"
      },
      "source": [
        "### Leer Corpus"
      ]
    },
    {
      "cell_type": "code",
      "metadata": {
        "id": "APPdcX6aUp63",
        "colab": {
          "base_uri": "https://localhost:8080/",
          "height": 470
        },
        "outputId": "065aea7b-efa2-407e-b49c-b29870a2959f"
      },
      "source": [
        "co_df = pd.read_csv('/content/drive/MyDrive/iula-es.csv')\n",
        "num_labels = co_df['label'].nunique()\n",
        "co_df"
      ],
      "execution_count": 27,
      "outputs": [
        {
          "output_type": "execute_result",
          "data": {
            "text/html": [
              "<div>\n",
              "<style scoped>\n",
              "    .dataframe tbody tr th:only-of-type {\n",
              "        vertical-align: middle;\n",
              "    }\n",
              "\n",
              "    .dataframe tbody tr th {\n",
              "        vertical-align: top;\n",
              "    }\n",
              "\n",
              "    .dataframe thead th {\n",
              "        text-align: right;\n",
              "    }\n",
              "</style>\n",
              "<table border=\"1\" class=\"dataframe\">\n",
              "  <thead>\n",
              "    <tr style=\"text-align: right;\">\n",
              "      <th></th>\n",
              "      <th>label</th>\n",
              "      <th>sentence</th>\n",
              "      <th>is_valid</th>\n",
              "    </tr>\n",
              "  </thead>\n",
              "  <tbody>\n",
              "    <tr>\n",
              "      <th>0</th>\n",
              "      <td>economía</td>\n",
              "      <td>LOS POSTULADOS DE LA ECONOMÍA CLÁSICA</td>\n",
              "      <td>True</td>\n",
              "    </tr>\n",
              "    <tr>\n",
              "      <th>1</th>\n",
              "      <td>economía</td>\n",
              "      <td>La mayor parte de los tratados sobre la teoría del valor y de la producción se refieren, en primer término, a la distribución de un volumen dado de recursos empleados en diferentes usos, y a las condiciones que, supuesta la ocupación de esta cantidad de recursos, determinen su remuneración relativa y el relativo valor de sus productos [1]</td>\n",
              "      <td>False</td>\n",
              "    </tr>\n",
              "    <tr>\n",
              "      <th>2</th>\n",
              "      <td>economía</td>\n",
              "      <td>También se ha sujetado con frecuencia a un procedimiento descriptivo lo relativo al monto de los recursos disponibles (entendiendo por tales el volumen de población susceptible de tomar empleo), los límites de la riqueza natural y el equipo de producción acumulado; pero rara vez se ha examinado detenidamente en la teoría pura, la explicación de lo que determina la ocupación real de los recursos disponibles.</td>\n",
              "      <td>False</td>\n",
              "    </tr>\n",
              "    <tr>\n",
              "      <th>3</th>\n",
              "      <td>economía</td>\n",
              "      <td>Decir que no se ha considerado en absoluto, seria absurdo, por supuesto; porque todo estudio sobre los altibajos de la ocupación, que han sido muchos, ha tenido que ver con el tema.</td>\n",
              "      <td>False</td>\n",
              "    </tr>\n",
              "    <tr>\n",
              "      <th>4</th>\n",
              "      <td>economía</td>\n",
              "      <td>No quiero decir que se haya pasado por alto, sino que la teoría fundamental en que descansa se ha creído tan sencilla y evidente que casi no había para qué mencionarla [2]</td>\n",
              "      <td>False</td>\n",
              "    </tr>\n",
              "    <tr>\n",
              "      <th>...</th>\n",
              "      <td>...</td>\n",
              "      <td>...</td>\n",
              "      <td>...</td>\n",
              "    </tr>\n",
              "    <tr>\n",
              "      <th>52350</th>\n",
              "      <td>medicina</td>\n",
              "      <td>Diarrea.</td>\n",
              "      <td>True</td>\n",
              "    </tr>\n",
              "    <tr>\n",
              "      <th>52351</th>\n",
              "      <td>medicina</td>\n",
              "      <td>Debilidad.</td>\n",
              "      <td>False</td>\n",
              "    </tr>\n",
              "    <tr>\n",
              "      <th>52352</th>\n",
              "      <td>medicina</td>\n",
              "      <td>Gusto alterado.</td>\n",
              "      <td>False</td>\n",
              "    </tr>\n",
              "    <tr>\n",
              "      <th>52353</th>\n",
              "      <td>medicina</td>\n",
              "      <td>Parestesias peribucales.</td>\n",
              "      <td>False</td>\n",
              "    </tr>\n",
              "    <tr>\n",
              "      <th>52354</th>\n",
              "      <td>medicina</td>\n",
              "      <td>Total de abandonos .</td>\n",
              "      <td>False</td>\n",
              "    </tr>\n",
              "  </tbody>\n",
              "</table>\n",
              "<p>52355 rows × 3 columns</p>\n",
              "</div>"
            ],
            "text/plain": [
              "          label  ... is_valid\n",
              "0      economía  ...     True\n",
              "1      economía  ...    False\n",
              "2      economía  ...    False\n",
              "3      economía  ...    False\n",
              "4      economía  ...    False\n",
              "...         ...  ...      ...\n",
              "52350  medicina  ...     True\n",
              "52351  medicina  ...    False\n",
              "52352  medicina  ...    False\n",
              "52353  medicina  ...    False\n",
              "52354  medicina  ...    False\n",
              "\n",
              "[52355 rows x 3 columns]"
            ]
          },
          "metadata": {
            "tags": []
          },
          "execution_count": 27
        }
      ]
    },
    {
      "cell_type": "markdown",
      "metadata": {
        "id": "t4mHr7-fe-U-"
      },
      "source": [
        "### Modelar"
      ]
    },
    {
      "cell_type": "code",
      "metadata": {
        "id": "_etW7yzdTCVv"
      },
      "source": [
        "\n",
        "# pretrained_model_name = \"distilbert-base-uncased\"\n",
        "# pretrained_model_name = \"bert-base-uncased\"\n",
        "# pretrained_model_name = \"nlptown/bert-base-multilingual-uncased-sentiment\"\n",
        "pretrained_model_name = \"distilroberta-base\""
      ],
      "execution_count": 28,
      "outputs": []
    },
    {
      "cell_type": "code",
      "metadata": {
        "id": "7DxZ_rBiU4C2"
      },
      "source": [
        "model_cls = AutoModelForSequenceClassification\n",
        "\n",
        "hf_arch, hf_config, hf_tokenizer, hf_model = BLURR.get_hf_objects(\n",
        "    pretrained_model_name,\n",
        "    model_cls=model_cls,\n",
        "    config_kwargs={'num_labels': num_labels})"
      ],
      "execution_count": 29,
      "outputs": []
    },
    {
      "cell_type": "code",
      "metadata": {
        "id": "aCeG_LXSVuii"
      },
      "source": [
        "blocks = (HF_TextBlock(hf_arch, hf_config, hf_tokenizer, hf_model), CategoryBlock)\n",
        "dblock = DataBlock(blocks=blocks,\n",
        "                   get_x=ColReader('sentence'),\n",
        "                   get_y=ColReader('label'),\n",
        "                   splitter=ColSplitter())\n",
        "\n",
        "dls = dblock.dataloaders(co_df, bs=4, val_bs=8)"
      ],
      "execution_count": 30,
      "outputs": []
    },
    {
      "cell_type": "code",
      "metadata": {
        "colab": {
          "base_uri": "https://localhost:8080/",
          "height": 309
        },
        "id": "At1rxP44enLG",
        "outputId": "83f647e1-9f26-41e7-d1a0-b9aca426d28f"
      },
      "source": [
        "dls.show_batch(dataloaders=dls)"
      ],
      "execution_count": 31,
      "outputs": [
        {
          "output_type": "display_data",
          "data": {
            "text/html": [
              "<table border=\"1\" class=\"dataframe\">\n",
              "  <thead>\n",
              "    <tr style=\"text-align: right;\">\n",
              "      <th></th>\n",
              "      <th>text</th>\n",
              "      <th>category</th>\n",
              "    </tr>\n",
              "  </thead>\n",
              "  <tbody>\n",
              "    <tr>\n",
              "      <th>0</th>\n",
              "      <td>En una economía estacionaria quizá no valiera la pena mencionar todo esto, ya que en cada año los márgenes de tolerancia para la depreciación, con respecto a las casas viejas, quedarían compensados exactamente por las casas nuevas que se construyeran en sustitución de las que llegan al fin de su vida cada año; pero tales factores pueden ser de mucha importancia en una economía no estática, especialmente durante el periodo que sigue de inmediato a un vigoroso brote de inversión de capital a largo plazo; porque en tales circunstancias gran parte de las nuevas partidas de inversión puede ser absorbida por las mayores reservas financieras que hacen los empresarios para reparar y renovar el equipo de producción existente, el cual, aunque se desgasta con el tiempo, todavía no ha llegado a la fecha en que deben hacerse gastos que puedan aproximarse al total de la reserva financiera que se aparta; con la consecuencia de que los ingresos no pueden subir por encima de un nivel lo bastante bajo para corresponder a un total pequeño de inversión neta.</td>\n",
              "      <td>economía</td>\n",
              "    </tr>\n",
              "    <tr>\n",
              "      <th>1</th>\n",
              "      <td>A partir de 1821 vagabundeó por el Canadá, los Estados Unidos y otros países, incluidas las islas Hawai, realizando en todas partes rudos trabajos (los dos empleos que tuvo de maestro elemental fueron los más adecuados a su carácter), hasta que, poco antes de su muerte, quedó varado, ya rotos los mástiles, en el puerto de una casa amiga, en Clifton, Staten Island.</td>\n",
              "      <td>economía</td>\n",
              "    </tr>\n",
              "    <tr>\n",
              "      <th>2</th>\n",
              "      <td>Con el fin de acelerar los descubrimientos sobre los mecanismos fisiopatológicos que llevan al desarrollo de enfermedades cardiovasculares y de traducir estos resultados en prevención y tratamientos, se estimulará la investigación multidisciplinar asociando la competencia de médicos y científicos de formación diferente en la investigación cardiovascular fundamental y clínica y en la genética molecular.</td>\n",
              "      <td>medicina</td>\n",
              "    </tr>\n",
              "    <tr>\n",
              "      <th>3</th>\n",
              "      <td>Por este motivo, los hechos propios de la situación presente entran, desproporcionadamente en cierto sentido, en la formación de nuestras expectativas a largo plazo, siendo nuestra costumbre fijarnos en la situación actual, para proyectarla en el futuro, modificándola únicamente según los motivos más o menos definidos que tengamos para esperar una variación.</td>\n",
              "      <td>economía</td>\n",
              "    </tr>\n",
              "  </tbody>\n",
              "</table>"
            ],
            "text/plain": [
              "<IPython.core.display.HTML object>"
            ]
          },
          "metadata": {
            "tags": []
          }
        }
      ]
    },
    {
      "cell_type": "code",
      "metadata": {
        "colab": {
          "base_uri": "https://localhost:8080/"
        },
        "id": "Ois0cUsyvXi5",
        "outputId": "5cc3e0c3-a614-4e2f-8737-96a3d7d50af1"
      },
      "source": [
        "b = dls.one_batch()\n",
        "\n",
        "len(b), b[0]['input_ids'].shape, b[1].shape, dls.c"
      ],
      "execution_count": 32,
      "outputs": [
        {
          "output_type": "execute_result",
          "data": {
            "text/plain": [
              "(2, torch.Size([4, 343]), torch.Size([4]), 5)"
            ]
          },
          "metadata": {
            "tags": []
          },
          "execution_count": 32
        }
      ]
    },
    {
      "cell_type": "code",
      "metadata": {
        "id": "6EJXK6dizxfm"
      },
      "source": [
        "learn = Blearner(dls, hf_model,\n",
        "                 metrics=[F1Score(average=None)])\n",
        "learn = learn.to_fp16()\n",
        "learn.unfreeze()\n"
      ],
      "execution_count": 33,
      "outputs": []
    },
    {
      "cell_type": "code",
      "metadata": {
        "colab": {
          "base_uri": "https://localhost:8080/",
          "height": 1000
        },
        "id": "cLVcWQjnuV_E",
        "outputId": "5cf8952b-d0b7-4b64-e00a-ed30a3a81223"
      },
      "source": [
        "learn.summary()"
      ],
      "execution_count": 34,
      "outputs": [
        {
          "output_type": "display_data",
          "data": {
            "text/html": [
              ""
            ],
            "text/plain": [
              "<IPython.core.display.HTML object>"
            ]
          },
          "metadata": {
            "tags": []
          }
        },
        {
          "output_type": "execute_result",
          "data": {
            "application/vnd.google.colaboratory.intrinsic+json": {
              "type": "string"
            },
            "text/plain": [
              "HF_BaseModelWrapper (Input shape: 4)\n",
              "============================================================================\n",
              "Layer (type)         Output Shape         Param #    Trainable \n",
              "============================================================================\n",
              "                     4 x 343 x 768       \n",
              "Embedding                                 38603520   True      \n",
              "Embedding                                 394752     True      \n",
              "Embedding                                 768        True      \n",
              "LayerNorm                                 1536       True      \n",
              "Dropout                                                        \n",
              "Linear                                    590592     True      \n",
              "Linear                                    590592     True      \n",
              "Linear                                    590592     True      \n",
              "Dropout                                                        \n",
              "Linear                                    590592     True      \n",
              "LayerNorm                                 1536       True      \n",
              "Dropout                                                        \n",
              "____________________________________________________________________________\n",
              "                     4 x 343 x 3072      \n",
              "Linear                                    2362368    True      \n",
              "____________________________________________________________________________\n",
              "                     4 x 343 x 768       \n",
              "Linear                                    2360064    True      \n",
              "LayerNorm                                 1536       True      \n",
              "Dropout                                                        \n",
              "Linear                                    590592     True      \n",
              "Linear                                    590592     True      \n",
              "Linear                                    590592     True      \n",
              "Dropout                                                        \n",
              "Linear                                    590592     True      \n",
              "LayerNorm                                 1536       True      \n",
              "Dropout                                                        \n",
              "____________________________________________________________________________\n",
              "                     4 x 343 x 3072      \n",
              "Linear                                    2362368    True      \n",
              "____________________________________________________________________________\n",
              "                     4 x 343 x 768       \n",
              "Linear                                    2360064    True      \n",
              "LayerNorm                                 1536       True      \n",
              "Dropout                                                        \n",
              "Linear                                    590592     True      \n",
              "Linear                                    590592     True      \n",
              "Linear                                    590592     True      \n",
              "Dropout                                                        \n",
              "Linear                                    590592     True      \n",
              "LayerNorm                                 1536       True      \n",
              "Dropout                                                        \n",
              "____________________________________________________________________________\n",
              "                     4 x 343 x 3072      \n",
              "Linear                                    2362368    True      \n",
              "____________________________________________________________________________\n",
              "                     4 x 343 x 768       \n",
              "Linear                                    2360064    True      \n",
              "LayerNorm                                 1536       True      \n",
              "Dropout                                                        \n",
              "Linear                                    590592     True      \n",
              "Linear                                    590592     True      \n",
              "Linear                                    590592     True      \n",
              "Dropout                                                        \n",
              "Linear                                    590592     True      \n",
              "LayerNorm                                 1536       True      \n",
              "Dropout                                                        \n",
              "____________________________________________________________________________\n",
              "                     4 x 343 x 3072      \n",
              "Linear                                    2362368    True      \n",
              "____________________________________________________________________________\n",
              "                     4 x 343 x 768       \n",
              "Linear                                    2360064    True      \n",
              "LayerNorm                                 1536       True      \n",
              "Dropout                                                        \n",
              "Linear                                    590592     True      \n",
              "Linear                                    590592     True      \n",
              "Linear                                    590592     True      \n",
              "Dropout                                                        \n",
              "Linear                                    590592     True      \n",
              "LayerNorm                                 1536       True      \n",
              "Dropout                                                        \n",
              "____________________________________________________________________________\n",
              "                     4 x 343 x 3072      \n",
              "Linear                                    2362368    True      \n",
              "____________________________________________________________________________\n",
              "                     4 x 343 x 768       \n",
              "Linear                                    2360064    True      \n",
              "LayerNorm                                 1536       True      \n",
              "Dropout                                                        \n",
              "Linear                                    590592     True      \n",
              "Linear                                    590592     True      \n",
              "Linear                                    590592     True      \n",
              "Dropout                                                        \n",
              "Linear                                    590592     True      \n",
              "LayerNorm                                 1536       True      \n",
              "Dropout                                                        \n",
              "____________________________________________________________________________\n",
              "                     4 x 343 x 3072      \n",
              "Linear                                    2362368    True      \n",
              "____________________________________________________________________________\n",
              "                     4 x 343 x 768       \n",
              "Linear                                    2360064    True      \n",
              "LayerNorm                                 1536       True      \n",
              "Dropout                                                        \n",
              "Linear                                    590592     True      \n",
              "Dropout                                                        \n",
              "____________________________________________________________________________\n",
              "                     4 x 5               \n",
              "Linear                                    3845       True      \n",
              "____________________________________________________________________________\n",
              "\n",
              "Total params: 82,122,245\n",
              "Total trainable params: 82,122,245\n",
              "Total non-trainable params: 0\n",
              "\n",
              "Optimizer used: <function Adam at 0x7f201afcd3b0>\n",
              "Loss function: FlattenedLoss of CrossEntropyLoss()\n",
              "\n",
              "Model unfrozen\n",
              "\n",
              "Callbacks:\n",
              "  - TrainEvalCallback\n",
              "  - HF_BaseModelCallback\n",
              "  - MixedPrecision\n",
              "  - Recorder\n",
              "  - ProgressCallback"
            ]
          },
          "metadata": {
            "tags": []
          },
          "execution_count": 34
        }
      ]
    },
    {
      "cell_type": "markdown",
      "metadata": {
        "id": "H6xy0dBffEgj"
      },
      "source": [
        "### Entrenar"
      ]
    },
    {
      "cell_type": "code",
      "metadata": {
        "colab": {
          "base_uri": "https://localhost:8080/",
          "height": 300
        },
        "id": "OoOj2IZXuekq",
        "outputId": "6c6b4617-a54d-4836-c151-70a743a2bba3"
      },
      "source": [
        "learn.lr_find()"
      ],
      "execution_count": 35,
      "outputs": [
        {
          "output_type": "display_data",
          "data": {
            "text/html": [
              ""
            ],
            "text/plain": [
              "<IPython.core.display.HTML object>"
            ]
          },
          "metadata": {
            "tags": []
          }
        },
        {
          "output_type": "execute_result",
          "data": {
            "text/plain": [
              "SuggestedLRs(valley=0.00019054606673307717)"
            ]
          },
          "metadata": {
            "tags": []
          },
          "execution_count": 35
        },
        {
          "output_type": "display_data",
          "data": {
            "image/png": "[encoded data removed]",
            "text/plain": [
              "<Figure size 432x288 with 1 Axes>"
            ]
          },
          "metadata": {
            "tags": [],
            "needs_background": "light"
          }
        }
      ]
    },
    {
      "cell_type": "code",
      "metadata": {
        "colab": {
          "base_uri": "https://localhost:8080/",
          "height": 80
        },
        "id": "1_-NC-AWut9y",
        "outputId": "4a89f82f-e40d-4392-8ee8-0ce49032b090"
      },
      "source": [
        "learn.fit_one_cycle(1, lr_max=3e-3)"
      ],
      "execution_count": 36,
      "outputs": [
        {
          "output_type": "display_data",
          "data": {
            "text/html": [
              "<table border=\"1\" class=\"dataframe\">\n",
              "  <thead>\n",
              "    <tr style=\"text-align: left;\">\n",
              "      <th>epoch</th>\n",
              "      <th>train_loss</th>\n",
              "      <th>valid_loss</th>\n",
              "      <th>f1_score</th>\n",
              "      <th>time</th>\n",
              "    </tr>\n",
              "  </thead>\n",
              "  <tbody>\n",
              "    <tr>\n",
              "      <td>0</td>\n",
              "      <td>1.193148</td>\n",
              "      <td>1.183186</td>\n",
              "      <td>[0.        0.        0.        0.6754791 0.       ]</td>\n",
              "      <td>12:03</td>\n",
              "    </tr>\n",
              "  </tbody>\n",
              "</table>"
            ],
            "text/plain": [
              "<IPython.core.display.HTML object>"
            ]
          },
          "metadata": {
            "tags": []
          }
        }
      ]
    },
    {
      "cell_type": "code",
      "metadata": {
        "colab": {
          "base_uri": "https://localhost:8080/",
          "height": 408
        },
        "id": "cfZrAk5t6p4B",
        "outputId": "42963846-f89b-4aae-88b1-c83decdc7fab"
      },
      "source": [
        "learn.show_results(learner=learn, max_n=5)"
      ],
      "execution_count": 37,
      "outputs": [
        {
          "output_type": "display_data",
          "data": {
            "text/html": [
              ""
            ],
            "text/plain": [
              "<IPython.core.display.HTML object>"
            ]
          },
          "metadata": {
            "tags": []
          }
        },
        {
          "output_type": "display_data",
          "data": {
            "text/html": [
              "<table border=\"1\" class=\"dataframe\">\n",
              "  <thead>\n",
              "    <tr style=\"text-align: right;\">\n",
              "      <th></th>\n",
              "      <th>text</th>\n",
              "      <th>category</th>\n",
              "      <th>target</th>\n",
              "    </tr>\n",
              "  </thead>\n",
              "  <tbody>\n",
              "    <tr>\n",
              "      <th>0</th>\n",
              "      <td>Quedan reservadas, en todo caso, a las Fuerzas y Cuerpos de Seguridad del Estado bajo la dependencia del Gobierno los servicios policiales de carácter extracomunitario y supracomunitario como la vigilancia de puertos, aeropuertos, costas y fronteras, aduanas, control de entrada y salida del territorio nacional de españoles y extranjeros, régimen general de extranjería, extradición y expulsión, emigración e inmigración, pasaportes, documento nacional de identidad, trafico, armas y explosivos, resguardo fiscal del Estado, contrabando y fraude fiscal y las demás funciones que directamente les encomienda el artículo 104 de la Constitución [19] y las que les atribuya la Ley orgánica que lo desarrolle.</td>\n",
              "      <td>legal</td>\n",
              "      <td>medicina</td>\n",
              "    </tr>\n",
              "    <tr>\n",
              "      <th>1</th>\n",
              "      <td>El espectáculo de los mercados de inversión modernos me ha llevado algunas veces a concluir que la compra de una inversión debe ser permanente e indisoluble, como el matrimonio, excepto por motivo de muerte o de otra causa grave, y esto será un remedio útil para nuestros males contemporáneos; porque tal cosa forzaría a los inversionistas a dirigir su atención solamente a las oportunidades a largo plazo; pero un pequeño examen de este recurso nos lleva a un dilema, y nos muestra cómo la liquidez de los mercados de inversión a menudo facilita, aunque algunas veces impide, el curso de las nuevas inversiones.</td>\n",
              "      <td>economía</td>\n",
              "      <td>medicina</td>\n",
              "    </tr>\n",
              "    <tr>\n",
              "      <th>2</th>\n",
              "      <td>Con frecuencia, de amplias extensiones me habían hablado de igual forma que Homero gobernó sus posesiones; pero nunca antes respiré su tranquilidad hasta que escuché a Chapman hablando fuerte y claro: En aquel momento me sentí como un observador de los cielos que ha descubierto un nuevo planeta en el firmamento; o como el fornido Cortés, cuando con sus ojos de águila observaba firmemente al Pacífico, y todos sus hombres se miraban entre sí haciéndose suposiciones entusiastas.</td>\n",
              "      <td>tecnología</td>\n",
              "      <td>medicina</td>\n",
              "    </tr>\n",
              "    <tr>\n",
              "      <th>3</th>\n",
              "      <td>Sin la existencia de asociaciones ecologistas la salvaguarda del patrimonio común no se garantiza como lo reflejan con crudeza las declaraciones del ex director de la Central de Inteligencia Americana (CIA) cuando afirmaba en la Conferencia Mundial de la Energía celebrada en Madrid en octubre de 1992 que para el gobierno de Estados Unidos es mucho mas sencillo y eficaz desencadenar una guerra en Oriente Medio que decretar medidas de ahorro de combustibles.</td>\n",
              "      <td>ambiente</td>\n",
              "      <td>medicina</td>\n",
              "    </tr>\n",
              "    <tr>\n",
              "      <th>4</th>\n",
              "      <td>A menudo se ha negado que los argumentos escolásticos fueran de naturaleza analítica, por la razón de que esas argumentaciones no pueden haber sido sino argumentos de autoridad: puesto que estaban sometidos a la autoridad del papa, aquellos intelectuales no tenían más método posible para asentar o refutar una proposición que el de aducir en favor o en contra suyo autoridades literarias reconocidas por la suprema autoridad pontificia.</td>\n",
              "      <td>economía</td>\n",
              "      <td>medicina</td>\n",
              "    </tr>\n",
              "  </tbody>\n",
              "</table>"
            ],
            "text/plain": [
              "<IPython.core.display.HTML object>"
            ]
          },
          "metadata": {
            "tags": []
          }
        }
      ]
    },
    {
      "cell_type": "markdown",
      "metadata": {
        "id": "RdKkOlYxdJy4"
      },
      "source": [
        "### Evaluar"
      ]
    },
    {
      "cell_type": "code",
      "metadata": {
        "colab": {
          "base_uri": "https://localhost:8080/",
          "height": 51
        },
        "id": "1gNTXqq8dYf0",
        "outputId": "f6b8e83e-d188-4cbb-bafd-1ce15f048d59"
      },
      "source": [
        "val_res = learn.validate()\n",
        "\n",
        "val_res_d = { 'loss': val_res[0]}\n",
        "for idx, m in enumerate(learn.metrics):\n",
        "    val_res_d[m.name] = val_res[idx+1]\n",
        "    \n",
        "val_res_d"
      ],
      "execution_count": 38,
      "outputs": [
        {
          "output_type": "display_data",
          "data": {
            "text/html": [
              ""
            ],
            "text/plain": [
              "<IPython.core.display.HTML object>"
            ]
          },
          "metadata": {
            "tags": []
          }
        },
        {
          "output_type": "execute_result",
          "data": {
            "text/plain": [
              "{'f1_score': array([0.       , 0.       , 0.       , 0.6754791, 0.       ]),\n",
              " 'loss': 1.183186411857605}"
            ]
          },
          "metadata": {
            "tags": []
          },
          "execution_count": 38
        }
      ]
    },
    {
      "cell_type": "code",
      "metadata": {
        "colab": {
          "base_uri": "https://localhost:8080/",
          "height": 51
        },
        "id": "oZkQ3w-rdioG",
        "outputId": "e2b409b4-20ed-42ae-d556-378ce6bf9fb9"
      },
      "source": [
        "preds, targs, losses = learn.get_preds(with_loss=True)\n",
        "print(preds.shape, targs.shape, losses.shape)\n",
        "print(losses.mean(), accuracy(preds, targs))"
      ],
      "execution_count": 39,
      "outputs": [
        {
          "output_type": "display_data",
          "data": {
            "text/html": [
              ""
            ],
            "text/plain": [
              "<IPython.core.display.HTML object>"
            ]
          },
          "metadata": {
            "tags": []
          }
        },
        {
          "output_type": "stream",
          "text": [
            "torch.Size([10471, 5]) torch.Size([10471]) torch.Size([10471])\n",
            "TensorBase(1.1832) TensorBase(0.5100)\n"
          ],
          "name": "stdout"
        }
      ]
    },
    {
      "cell_type": "markdown",
      "metadata": {
        "id": "DL_45mtfdmpo"
      },
      "source": [
        "### Infererir"
      ]
    },
    {
      "cell_type": "code",
      "metadata": {
        "id": "omxS6i9wdtpQ"
      },
      "source": [
        "learn.export('iula_learner.pkl')"
      ],
      "execution_count": 40,
      "outputs": []
    },
    {
      "cell_type": "code",
      "metadata": {
        "id": "yKRBTFbVd8Gl"
      },
      "source": [
        "inf_learn = load_learner('iula_learner.pkl')"
      ],
      "execution_count": 41,
      "outputs": []
    },
    {
      "cell_type": "code",
      "metadata": {
        "colab": {
          "base_uri": "https://localhost:8080/"
        },
        "id": "bB8XaRS3eCU2",
        "outputId": "df35e80e-d85d-44f5-b05c-b5d20c4ecfb1"
      },
      "source": [
        "inf_learn.blurr_predict(pd.DataFrame([\n",
        "    {'sentence': 'Según el BCE la inflación en el próximo año será menor al 2%'},\n",
        "    {'sentence': 'La cardiopatía congénita es tratable vía transplante'},\n",
        "]))"
      ],
      "execution_count": 42,
      "outputs": [
        {
          "output_type": "execute_result",
          "data": {
            "text/plain": [
              "[(('medicina',),\n",
              "  (#1) [tensor(3)],\n",
              "  (#1) [tensor([0.0866, 0.0972, 0.0098, 0.5068, 0.2996])]),\n",
              " (('medicina',),\n",
              "  (#1) [tensor(3)],\n",
              "  (#1) [tensor([0.0866, 0.0972, 0.0098, 0.5068, 0.2996])])]"
            ]
          },
          "metadata": {
            "tags": []
          },
          "execution_count": 42
        }
      ]
    },
    {
      "cell_type": "code",
      "metadata": {
        "id": "Gop7wWDRgRlD"
      },
      "source": [
        ""
      ],
      "execution_count": 42,
      "outputs": []
    }
  ]
}
