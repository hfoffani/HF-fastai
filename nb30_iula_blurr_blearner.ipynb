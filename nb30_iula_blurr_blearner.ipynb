{
  "nbformat": 4,
  "nbformat_minor": 0,
  "metadata": {
    "colab": {
      "name": "nb30_iula_blurr_blearner.ipynb",
      "provenance": [],
      "collapsed_sections": [],
      "include_colab_link": true
    },
    "kernelspec": {
      "name": "python3",
      "display_name": "Python 3"
    },
    "language_info": {
      "name": "python"
    },
    "accelerator": "GPU",
    "widgets": {
      "application/vnd.jupyter.widget-state+json": {
        "26a2f8b7c4de4577ae968ddcda497897": {
          "model_module": "@jupyter-widgets/controls",
          "model_name": "HBoxModel",
          "state": {
            "_view_name": "HBoxView",
            "_dom_classes": [],
            "_model_name": "HBoxModel",
            "_view_module": "@jupyter-widgets/controls",
            "_model_module_version": "1.5.0",
            "_view_count": null,
            "_view_module_version": "1.5.0",
            "box_style": "",
            "layout": "IPY_MODEL_c529959a9be142a3a75fc280c93b6fbb",
            "_model_module": "@jupyter-widgets/controls",
            "children": [
              "IPY_MODEL_4f52bc51412f4c8894e2cfdee79e5f1d",
              "IPY_MODEL_e5f653e071fe4bc4a1bb048477fb347c",
              "IPY_MODEL_028c71fac8f14f08a89893183cbf9380"
            ]
          }
        },
        "c529959a9be142a3a75fc280c93b6fbb": {
          "model_module": "@jupyter-widgets/base",
          "model_name": "LayoutModel",
          "state": {
            "_view_name": "LayoutView",
            "grid_template_rows": null,
            "right": null,
            "justify_content": null,
            "_view_module": "@jupyter-widgets/base",
            "overflow": null,
            "_model_module_version": "1.2.0",
            "_view_count": null,
            "flex_flow": null,
            "width": null,
            "min_width": null,
            "border": null,
            "align_items": null,
            "bottom": null,
            "_model_module": "@jupyter-widgets/base",
            "top": null,
            "grid_column": null,
            "overflow_y": null,
            "overflow_x": null,
            "grid_auto_flow": null,
            "grid_area": null,
            "grid_template_columns": null,
            "flex": null,
            "_model_name": "LayoutModel",
            "justify_items": null,
            "grid_row": null,
            "max_height": null,
            "align_content": null,
            "visibility": null,
            "align_self": null,
            "height": null,
            "min_height": null,
            "padding": null,
            "grid_auto_rows": null,
            "grid_gap": null,
            "max_width": null,
            "order": null,
            "_view_module_version": "1.2.0",
            "grid_template_areas": null,
            "object_position": null,
            "object_fit": null,
            "grid_auto_columns": null,
            "margin": null,
            "display": null,
            "left": null
          }
        },
        "4f52bc51412f4c8894e2cfdee79e5f1d": {
          "model_module": "@jupyter-widgets/controls",
          "model_name": "HTMLModel",
          "state": {
            "_view_name": "HTMLView",
            "style": "IPY_MODEL_57d55c5fff48454a8590344b17ee3262",
            "_dom_classes": [],
            "description": "",
            "_model_name": "HTMLModel",
            "placeholder": "​",
            "_view_module": "@jupyter-widgets/controls",
            "_model_module_version": "1.5.0",
            "value": "Downloading: 100%",
            "_view_count": null,
            "_view_module_version": "1.5.0",
            "description_tooltip": null,
            "_model_module": "@jupyter-widgets/controls",
            "layout": "IPY_MODEL_00486c51bfac4604a5015ecad92bc39f"
          }
        },
        "e5f653e071fe4bc4a1bb048477fb347c": {
          "model_module": "@jupyter-widgets/controls",
          "model_name": "FloatProgressModel",
          "state": {
            "_view_name": "ProgressView",
            "style": "IPY_MODEL_5460036f71ca455b8388719354c70392",
            "_dom_classes": [],
            "description": "",
            "_model_name": "FloatProgressModel",
            "bar_style": "success",
            "max": 480,
            "_view_module": "@jupyter-widgets/controls",
            "_model_module_version": "1.5.0",
            "value": 480,
            "_view_count": null,
            "_view_module_version": "1.5.0",
            "orientation": "horizontal",
            "min": 0,
            "description_tooltip": null,
            "_model_module": "@jupyter-widgets/controls",
            "layout": "IPY_MODEL_f88ee82256514ca9917e3a4ea1b16dfb"
          }
        },
        "028c71fac8f14f08a89893183cbf9380": {
          "model_module": "@jupyter-widgets/controls",
          "model_name": "HTMLModel",
          "state": {
            "_view_name": "HTMLView",
            "style": "IPY_MODEL_bb580ca5873246399e9b90c79e27e31a",
            "_dom_classes": [],
            "description": "",
            "_model_name": "HTMLModel",
            "placeholder": "​",
            "_view_module": "@jupyter-widgets/controls",
            "_model_module_version": "1.5.0",
            "value": " 480/480 [00:00&lt;00:00, 12.8kB/s]",
            "_view_count": null,
            "_view_module_version": "1.5.0",
            "description_tooltip": null,
            "_model_module": "@jupyter-widgets/controls",
            "layout": "IPY_MODEL_d96e3953768e4cbf98d2394cdd60f474"
          }
        },
        "57d55c5fff48454a8590344b17ee3262": {
          "model_module": "@jupyter-widgets/controls",
          "model_name": "DescriptionStyleModel",
          "state": {
            "_view_name": "StyleView",
            "_model_name": "DescriptionStyleModel",
            "description_width": "",
            "_view_module": "@jupyter-widgets/base",
            "_model_module_version": "1.5.0",
            "_view_count": null,
            "_view_module_version": "1.2.0",
            "_model_module": "@jupyter-widgets/controls"
          }
        },
        "00486c51bfac4604a5015ecad92bc39f": {
          "model_module": "@jupyter-widgets/base",
          "model_name": "LayoutModel",
          "state": {
            "_view_name": "LayoutView",
            "grid_template_rows": null,
            "right": null,
            "justify_content": null,
            "_view_module": "@jupyter-widgets/base",
            "overflow": null,
            "_model_module_version": "1.2.0",
            "_view_count": null,
            "flex_flow": null,
            "width": null,
            "min_width": null,
            "border": null,
            "align_items": null,
            "bottom": null,
            "_model_module": "@jupyter-widgets/base",
            "top": null,
            "grid_column": null,
            "overflow_y": null,
            "overflow_x": null,
            "grid_auto_flow": null,
            "grid_area": null,
            "grid_template_columns": null,
            "flex": null,
            "_model_name": "LayoutModel",
            "justify_items": null,
            "grid_row": null,
            "max_height": null,
            "align_content": null,
            "visibility": null,
            "align_self": null,
            "height": null,
            "min_height": null,
            "padding": null,
            "grid_auto_rows": null,
            "grid_gap": null,
            "max_width": null,
            "order": null,
            "_view_module_version": "1.2.0",
            "grid_template_areas": null,
            "object_position": null,
            "object_fit": null,
            "grid_auto_columns": null,
            "margin": null,
            "display": null,
            "left": null
          }
        },
        "5460036f71ca455b8388719354c70392": {
          "model_module": "@jupyter-widgets/controls",
          "model_name": "ProgressStyleModel",
          "state": {
            "_view_name": "StyleView",
            "_model_name": "ProgressStyleModel",
            "description_width": "",
            "_view_module": "@jupyter-widgets/base",
            "_model_module_version": "1.5.0",
            "_view_count": null,
            "_view_module_version": "1.2.0",
            "bar_color": null,
            "_model_module": "@jupyter-widgets/controls"
          }
        },
        "f88ee82256514ca9917e3a4ea1b16dfb": {
          "model_module": "@jupyter-widgets/base",
          "model_name": "LayoutModel",
          "state": {
            "_view_name": "LayoutView",
            "grid_template_rows": null,
            "right": null,
            "justify_content": null,
            "_view_module": "@jupyter-widgets/base",
            "overflow": null,
            "_model_module_version": "1.2.0",
            "_view_count": null,
            "flex_flow": null,
            "width": null,
            "min_width": null,
            "border": null,
            "align_items": null,
            "bottom": null,
            "_model_module": "@jupyter-widgets/base",
            "top": null,
            "grid_column": null,
            "overflow_y": null,
            "overflow_x": null,
            "grid_auto_flow": null,
            "grid_area": null,
            "grid_template_columns": null,
            "flex": null,
            "_model_name": "LayoutModel",
            "justify_items": null,
            "grid_row": null,
            "max_height": null,
            "align_content": null,
            "visibility": null,
            "align_self": null,
            "height": null,
            "min_height": null,
            "padding": null,
            "grid_auto_rows": null,
            "grid_gap": null,
            "max_width": null,
            "order": null,
            "_view_module_version": "1.2.0",
            "grid_template_areas": null,
            "object_position": null,
            "object_fit": null,
            "grid_auto_columns": null,
            "margin": null,
            "display": null,
            "left": null
          }
        },
        "bb580ca5873246399e9b90c79e27e31a": {
          "model_module": "@jupyter-widgets/controls",
          "model_name": "DescriptionStyleModel",
          "state": {
            "_view_name": "StyleView",
            "_model_name": "DescriptionStyleModel",
            "description_width": "",
            "_view_module": "@jupyter-widgets/base",
            "_model_module_version": "1.5.0",
            "_view_count": null,
            "_view_module_version": "1.2.0",
            "_model_module": "@jupyter-widgets/controls"
          }
        },
        "d96e3953768e4cbf98d2394cdd60f474": {
          "model_module": "@jupyter-widgets/base",
          "model_name": "LayoutModel",
          "state": {
            "_view_name": "LayoutView",
            "grid_template_rows": null,
            "right": null,
            "justify_content": null,
            "_view_module": "@jupyter-widgets/base",
            "overflow": null,
            "_model_module_version": "1.2.0",
            "_view_count": null,
            "flex_flow": null,
            "width": null,
            "min_width": null,
            "border": null,
            "align_items": null,
            "bottom": null,
            "_model_module": "@jupyter-widgets/base",
            "top": null,
            "grid_column": null,
            "overflow_y": null,
            "overflow_x": null,
            "grid_auto_flow": null,
            "grid_area": null,
            "grid_template_columns": null,
            "flex": null,
            "_model_name": "LayoutModel",
            "justify_items": null,
            "grid_row": null,
            "max_height": null,
            "align_content": null,
            "visibility": null,
            "align_self": null,
            "height": null,
            "min_height": null,
            "padding": null,
            "grid_auto_rows": null,
            "grid_gap": null,
            "max_width": null,
            "order": null,
            "_view_module_version": "1.2.0",
            "grid_template_areas": null,
            "object_position": null,
            "object_fit": null,
            "grid_auto_columns": null,
            "margin": null,
            "display": null,
            "left": null
          }
        },
        "97ff66b185de4acfb7330fde99a119a9": {
          "model_module": "@jupyter-widgets/controls",
          "model_name": "HBoxModel",
          "state": {
            "_view_name": "HBoxView",
            "_dom_classes": [],
            "_model_name": "HBoxModel",
            "_view_module": "@jupyter-widgets/controls",
            "_model_module_version": "1.5.0",
            "_view_count": null,
            "_view_module_version": "1.5.0",
            "box_style": "",
            "layout": "IPY_MODEL_78d10cd48e394cf3854f0ae528e22825",
            "_model_module": "@jupyter-widgets/controls",
            "children": [
              "IPY_MODEL_ba7c65b6a2bb4630a79d69d882041d80",
              "IPY_MODEL_e088e425c49d450a90a1414a8be56bf1",
              "IPY_MODEL_6aff86775bdb4674a8cae20b778dc319"
            ]
          }
        },
        "78d10cd48e394cf3854f0ae528e22825": {
          "model_module": "@jupyter-widgets/base",
          "model_name": "LayoutModel",
          "state": {
            "_view_name": "LayoutView",
            "grid_template_rows": null,
            "right": null,
            "justify_content": null,
            "_view_module": "@jupyter-widgets/base",
            "overflow": null,
            "_model_module_version": "1.2.0",
            "_view_count": null,
            "flex_flow": null,
            "width": null,
            "min_width": null,
            "border": null,
            "align_items": null,
            "bottom": null,
            "_model_module": "@jupyter-widgets/base",
            "top": null,
            "grid_column": null,
            "overflow_y": null,
            "overflow_x": null,
            "grid_auto_flow": null,
            "grid_area": null,
            "grid_template_columns": null,
            "flex": null,
            "_model_name": "LayoutModel",
            "justify_items": null,
            "grid_row": null,
            "max_height": null,
            "align_content": null,
            "visibility": null,
            "align_self": null,
            "height": null,
            "min_height": null,
            "padding": null,
            "grid_auto_rows": null,
            "grid_gap": null,
            "max_width": null,
            "order": null,
            "_view_module_version": "1.2.0",
            "grid_template_areas": null,
            "object_position": null,
            "object_fit": null,
            "grid_auto_columns": null,
            "margin": null,
            "display": null,
            "left": null
          }
        },
        "ba7c65b6a2bb4630a79d69d882041d80": {
          "model_module": "@jupyter-widgets/controls",
          "model_name": "HTMLModel",
          "state": {
            "_view_name": "HTMLView",
            "style": "IPY_MODEL_00846de6dc1e489fa55c5fd89d4c107d",
            "_dom_classes": [],
            "description": "",
            "_model_name": "HTMLModel",
            "placeholder": "​",
            "_view_module": "@jupyter-widgets/controls",
            "_model_module_version": "1.5.0",
            "value": "Downloading: 100%",
            "_view_count": null,
            "_view_module_version": "1.5.0",
            "description_tooltip": null,
            "_model_module": "@jupyter-widgets/controls",
            "layout": "IPY_MODEL_71e95de6b46a42c5afe3f03f127d1e07"
          }
        },
        "e088e425c49d450a90a1414a8be56bf1": {
          "model_module": "@jupyter-widgets/controls",
          "model_name": "FloatProgressModel",
          "state": {
            "_view_name": "ProgressView",
            "style": "IPY_MODEL_cef7c20d28674c12bf7d80d7ed5b9394",
            "_dom_classes": [],
            "description": "",
            "_model_name": "FloatProgressModel",
            "bar_style": "success",
            "max": 898823,
            "_view_module": "@jupyter-widgets/controls",
            "_model_module_version": "1.5.0",
            "value": 898823,
            "_view_count": null,
            "_view_module_version": "1.5.0",
            "orientation": "horizontal",
            "min": 0,
            "description_tooltip": null,
            "_model_module": "@jupyter-widgets/controls",
            "layout": "IPY_MODEL_2a0b1a67e62e44528c9044db325a831b"
          }
        },
        "6aff86775bdb4674a8cae20b778dc319": {
          "model_module": "@jupyter-widgets/controls",
          "model_name": "HTMLModel",
          "state": {
            "_view_name": "HTMLView",
            "style": "IPY_MODEL_e47bf387815448eaa782c71b418fcc06",
            "_dom_classes": [],
            "description": "",
            "_model_name": "HTMLModel",
            "placeholder": "​",
            "_view_module": "@jupyter-widgets/controls",
            "_model_module_version": "1.5.0",
            "value": " 899k/899k [00:00&lt;00:00, 1.41MB/s]",
            "_view_count": null,
            "_view_module_version": "1.5.0",
            "description_tooltip": null,
            "_model_module": "@jupyter-widgets/controls",
            "layout": "IPY_MODEL_f2dd6a23eed644bcb808f538cdaa8c2a"
          }
        },
        "00846de6dc1e489fa55c5fd89d4c107d": {
          "model_module": "@jupyter-widgets/controls",
          "model_name": "DescriptionStyleModel",
          "state": {
            "_view_name": "StyleView",
            "_model_name": "DescriptionStyleModel",
            "description_width": "",
            "_view_module": "@jupyter-widgets/base",
            "_model_module_version": "1.5.0",
            "_view_count": null,
            "_view_module_version": "1.2.0",
            "_model_module": "@jupyter-widgets/controls"
          }
        },
        "71e95de6b46a42c5afe3f03f127d1e07": {
          "model_module": "@jupyter-widgets/base",
          "model_name": "LayoutModel",
          "state": {
            "_view_name": "LayoutView",
            "grid_template_rows": null,
            "right": null,
            "justify_content": null,
            "_view_module": "@jupyter-widgets/base",
            "overflow": null,
            "_model_module_version": "1.2.0",
            "_view_count": null,
            "flex_flow": null,
            "width": null,
            "min_width": null,
            "border": null,
            "align_items": null,
            "bottom": null,
            "_model_module": "@jupyter-widgets/base",
            "top": null,
            "grid_column": null,
            "overflow_y": null,
            "overflow_x": null,
            "grid_auto_flow": null,
            "grid_area": null,
            "grid_template_columns": null,
            "flex": null,
            "_model_name": "LayoutModel",
            "justify_items": null,
            "grid_row": null,
            "max_height": null,
            "align_content": null,
            "visibility": null,
            "align_self": null,
            "height": null,
            "min_height": null,
            "padding": null,
            "grid_auto_rows": null,
            "grid_gap": null,
            "max_width": null,
            "order": null,
            "_view_module_version": "1.2.0",
            "grid_template_areas": null,
            "object_position": null,
            "object_fit": null,
            "grid_auto_columns": null,
            "margin": null,
            "display": null,
            "left": null
          }
        },
        "cef7c20d28674c12bf7d80d7ed5b9394": {
          "model_module": "@jupyter-widgets/controls",
          "model_name": "ProgressStyleModel",
          "state": {
            "_view_name": "StyleView",
            "_model_name": "ProgressStyleModel",
            "description_width": "",
            "_view_module": "@jupyter-widgets/base",
            "_model_module_version": "1.5.0",
            "_view_count": null,
            "_view_module_version": "1.2.0",
            "bar_color": null,
            "_model_module": "@jupyter-widgets/controls"
          }
        },
        "2a0b1a67e62e44528c9044db325a831b": {
          "model_module": "@jupyter-widgets/base",
          "model_name": "LayoutModel",
          "state": {
            "_view_name": "LayoutView",
            "grid_template_rows": null,
            "right": null,
            "justify_content": null,
            "_view_module": "@jupyter-widgets/base",
            "overflow": null,
            "_model_module_version": "1.2.0",
            "_view_count": null,
            "flex_flow": null,
            "width": null,
            "min_width": null,
            "border": null,
            "align_items": null,
            "bottom": null,
            "_model_module": "@jupyter-widgets/base",
            "top": null,
            "grid_column": null,
            "overflow_y": null,
            "overflow_x": null,
            "grid_auto_flow": null,
            "grid_area": null,
            "grid_template_columns": null,
            "flex": null,
            "_model_name": "LayoutModel",
            "justify_items": null,
            "grid_row": null,
            "max_height": null,
            "align_content": null,
            "visibility": null,
            "align_self": null,
            "height": null,
            "min_height": null,
            "padding": null,
            "grid_auto_rows": null,
            "grid_gap": null,
            "max_width": null,
            "order": null,
            "_view_module_version": "1.2.0",
            "grid_template_areas": null,
            "object_position": null,
            "object_fit": null,
            "grid_auto_columns": null,
            "margin": null,
            "display": null,
            "left": null
          }
        },
        "e47bf387815448eaa782c71b418fcc06": {
          "model_module": "@jupyter-widgets/controls",
          "model_name": "DescriptionStyleModel",
          "state": {
            "_view_name": "StyleView",
            "_model_name": "DescriptionStyleModel",
            "description_width": "",
            "_view_module": "@jupyter-widgets/base",
            "_model_module_version": "1.5.0",
            "_view_count": null,
            "_view_module_version": "1.2.0",
            "_model_module": "@jupyter-widgets/controls"
          }
        },
        "f2dd6a23eed644bcb808f538cdaa8c2a": {
          "model_module": "@jupyter-widgets/base",
          "model_name": "LayoutModel",
          "state": {
            "_view_name": "LayoutView",
            "grid_template_rows": null,
            "right": null,
            "justify_content": null,
            "_view_module": "@jupyter-widgets/base",
            "overflow": null,
            "_model_module_version": "1.2.0",
            "_view_count": null,
            "flex_flow": null,
            "width": null,
            "min_width": null,
            "border": null,
            "align_items": null,
            "bottom": null,
            "_model_module": "@jupyter-widgets/base",
            "top": null,
            "grid_column": null,
            "overflow_y": null,
            "overflow_x": null,
            "grid_auto_flow": null,
            "grid_area": null,
            "grid_template_columns": null,
            "flex": null,
            "_model_name": "LayoutModel",
            "justify_items": null,
            "grid_row": null,
            "max_height": null,
            "align_content": null,
            "visibility": null,
            "align_self": null,
            "height": null,
            "min_height": null,
            "padding": null,
            "grid_auto_rows": null,
            "grid_gap": null,
            "max_width": null,
            "order": null,
            "_view_module_version": "1.2.0",
            "grid_template_areas": null,
            "object_position": null,
            "object_fit": null,
            "grid_auto_columns": null,
            "margin": null,
            "display": null,
            "left": null
          }
        },
        "155ed3086b2144708f1cad9962c68b22": {
          "model_module": "@jupyter-widgets/controls",
          "model_name": "HBoxModel",
          "state": {
            "_view_name": "HBoxView",
            "_dom_classes": [],
            "_model_name": "HBoxModel",
            "_view_module": "@jupyter-widgets/controls",
            "_model_module_version": "1.5.0",
            "_view_count": null,
            "_view_module_version": "1.5.0",
            "box_style": "",
            "layout": "IPY_MODEL_196ae5f4c1294fc59e9c32d88c6c7ebd",
            "_model_module": "@jupyter-widgets/controls",
            "children": [
              "IPY_MODEL_e1da79fa4b7a41f4b364de22394d00df",
              "IPY_MODEL_f2e30add618248ea9696b34c3d7eee35",
              "IPY_MODEL_77f7320ae4394171ab64a97b643e6dfa"
            ]
          }
        },
        "196ae5f4c1294fc59e9c32d88c6c7ebd": {
          "model_module": "@jupyter-widgets/base",
          "model_name": "LayoutModel",
          "state": {
            "_view_name": "LayoutView",
            "grid_template_rows": null,
            "right": null,
            "justify_content": null,
            "_view_module": "@jupyter-widgets/base",
            "overflow": null,
            "_model_module_version": "1.2.0",
            "_view_count": null,
            "flex_flow": null,
            "width": null,
            "min_width": null,
            "border": null,
            "align_items": null,
            "bottom": null,
            "_model_module": "@jupyter-widgets/base",
            "top": null,
            "grid_column": null,
            "overflow_y": null,
            "overflow_x": null,
            "grid_auto_flow": null,
            "grid_area": null,
            "grid_template_columns": null,
            "flex": null,
            "_model_name": "LayoutModel",
            "justify_items": null,
            "grid_row": null,
            "max_height": null,
            "align_content": null,
            "visibility": null,
            "align_self": null,
            "height": null,
            "min_height": null,
            "padding": null,
            "grid_auto_rows": null,
            "grid_gap": null,
            "max_width": null,
            "order": null,
            "_view_module_version": "1.2.0",
            "grid_template_areas": null,
            "object_position": null,
            "object_fit": null,
            "grid_auto_columns": null,
            "margin": null,
            "display": null,
            "left": null
          }
        },
        "e1da79fa4b7a41f4b364de22394d00df": {
          "model_module": "@jupyter-widgets/controls",
          "model_name": "HTMLModel",
          "state": {
            "_view_name": "HTMLView",
            "style": "IPY_MODEL_a2a783361b2141d4b2c6af5175d269d2",
            "_dom_classes": [],
            "description": "",
            "_model_name": "HTMLModel",
            "placeholder": "​",
            "_view_module": "@jupyter-widgets/controls",
            "_model_module_version": "1.5.0",
            "value": "Downloading: 100%",
            "_view_count": null,
            "_view_module_version": "1.5.0",
            "description_tooltip": null,
            "_model_module": "@jupyter-widgets/controls",
            "layout": "IPY_MODEL_22804283a3324c0dab24e5f29a6afbd0"
          }
        },
        "f2e30add618248ea9696b34c3d7eee35": {
          "model_module": "@jupyter-widgets/controls",
          "model_name": "FloatProgressModel",
          "state": {
            "_view_name": "ProgressView",
            "style": "IPY_MODEL_4dc7f02cacc64e5d9d60031e0c36782b",
            "_dom_classes": [],
            "description": "",
            "_model_name": "FloatProgressModel",
            "bar_style": "success",
            "max": 456318,
            "_view_module": "@jupyter-widgets/controls",
            "_model_module_version": "1.5.0",
            "value": 456318,
            "_view_count": null,
            "_view_module_version": "1.5.0",
            "orientation": "horizontal",
            "min": 0,
            "description_tooltip": null,
            "_model_module": "@jupyter-widgets/controls",
            "layout": "IPY_MODEL_753ff9ec1866400ca0cde48a097117ab"
          }
        },
        "77f7320ae4394171ab64a97b643e6dfa": {
          "model_module": "@jupyter-widgets/controls",
          "model_name": "HTMLModel",
          "state": {
            "_view_name": "HTMLView",
            "style": "IPY_MODEL_52a7ff402d564c5292d086b1992f196f",
            "_dom_classes": [],
            "description": "",
            "_model_name": "HTMLModel",
            "placeholder": "​",
            "_view_module": "@jupyter-widgets/controls",
            "_model_module_version": "1.5.0",
            "value": " 456k/456k [00:00&lt;00:00, 1.64MB/s]",
            "_view_count": null,
            "_view_module_version": "1.5.0",
            "description_tooltip": null,
            "_model_module": "@jupyter-widgets/controls",
            "layout": "IPY_MODEL_961dada9a91f47d7984368066f2dcc03"
          }
        },
        "a2a783361b2141d4b2c6af5175d269d2": {
          "model_module": "@jupyter-widgets/controls",
          "model_name": "DescriptionStyleModel",
          "state": {
            "_view_name": "StyleView",
            "_model_name": "DescriptionStyleModel",
            "description_width": "",
            "_view_module": "@jupyter-widgets/base",
            "_model_module_version": "1.5.0",
            "_view_count": null,
            "_view_module_version": "1.2.0",
            "_model_module": "@jupyter-widgets/controls"
          }
        },
        "22804283a3324c0dab24e5f29a6afbd0": {
          "model_module": "@jupyter-widgets/base",
          "model_name": "LayoutModel",
          "state": {
            "_view_name": "LayoutView",
            "grid_template_rows": null,
            "right": null,
            "justify_content": null,
            "_view_module": "@jupyter-widgets/base",
            "overflow": null,
            "_model_module_version": "1.2.0",
            "_view_count": null,
            "flex_flow": null,
            "width": null,
            "min_width": null,
            "border": null,
            "align_items": null,
            "bottom": null,
            "_model_module": "@jupyter-widgets/base",
            "top": null,
            "grid_column": null,
            "overflow_y": null,
            "overflow_x": null,
            "grid_auto_flow": null,
            "grid_area": null,
            "grid_template_columns": null,
            "flex": null,
            "_model_name": "LayoutModel",
            "justify_items": null,
            "grid_row": null,
            "max_height": null,
            "align_content": null,
            "visibility": null,
            "align_self": null,
            "height": null,
            "min_height": null,
            "padding": null,
            "grid_auto_rows": null,
            "grid_gap": null,
            "max_width": null,
            "order": null,
            "_view_module_version": "1.2.0",
            "grid_template_areas": null,
            "object_position": null,
            "object_fit": null,
            "grid_auto_columns": null,
            "margin": null,
            "display": null,
            "left": null
          }
        },
        "4dc7f02cacc64e5d9d60031e0c36782b": {
          "model_module": "@jupyter-widgets/controls",
          "model_name": "ProgressStyleModel",
          "state": {
            "_view_name": "StyleView",
            "_model_name": "ProgressStyleModel",
            "description_width": "",
            "_view_module": "@jupyter-widgets/base",
            "_model_module_version": "1.5.0",
            "_view_count": null,
            "_view_module_version": "1.2.0",
            "bar_color": null,
            "_model_module": "@jupyter-widgets/controls"
          }
        },
        "753ff9ec1866400ca0cde48a097117ab": {
          "model_module": "@jupyter-widgets/base",
          "model_name": "LayoutModel",
          "state": {
            "_view_name": "LayoutView",
            "grid_template_rows": null,
            "right": null,
            "justify_content": null,
            "_view_module": "@jupyter-widgets/base",
            "overflow": null,
            "_model_module_version": "1.2.0",
            "_view_count": null,
            "flex_flow": null,
            "width": null,
            "min_width": null,
            "border": null,
            "align_items": null,
            "bottom": null,
            "_model_module": "@jupyter-widgets/base",
            "top": null,
            "grid_column": null,
            "overflow_y": null,
            "overflow_x": null,
            "grid_auto_flow": null,
            "grid_area": null,
            "grid_template_columns": null,
            "flex": null,
            "_model_name": "LayoutModel",
            "justify_items": null,
            "grid_row": null,
            "max_height": null,
            "align_content": null,
            "visibility": null,
            "align_self": null,
            "height": null,
            "min_height": null,
            "padding": null,
            "grid_auto_rows": null,
            "grid_gap": null,
            "max_width": null,
            "order": null,
            "_view_module_version": "1.2.0",
            "grid_template_areas": null,
            "object_position": null,
            "object_fit": null,
            "grid_auto_columns": null,
            "margin": null,
            "display": null,
            "left": null
          }
        },
        "52a7ff402d564c5292d086b1992f196f": {
          "model_module": "@jupyter-widgets/controls",
          "model_name": "DescriptionStyleModel",
          "state": {
            "_view_name": "StyleView",
            "_model_name": "DescriptionStyleModel",
            "description_width": "",
            "_view_module": "@jupyter-widgets/base",
            "_model_module_version": "1.5.0",
            "_view_count": null,
            "_view_module_version": "1.2.0",
            "_model_module": "@jupyter-widgets/controls"
          }
        },
        "961dada9a91f47d7984368066f2dcc03": {
          "model_module": "@jupyter-widgets/base",
          "model_name": "LayoutModel",
          "state": {
            "_view_name": "LayoutView",
            "grid_template_rows": null,
            "right": null,
            "justify_content": null,
            "_view_module": "@jupyter-widgets/base",
            "overflow": null,
            "_model_module_version": "1.2.0",
            "_view_count": null,
            "flex_flow": null,
            "width": null,
            "min_width": null,
            "border": null,
            "align_items": null,
            "bottom": null,
            "_model_module": "@jupyter-widgets/base",
            "top": null,
            "grid_column": null,
            "overflow_y": null,
            "overflow_x": null,
            "grid_auto_flow": null,
            "grid_area": null,
            "grid_template_columns": null,
            "flex": null,
            "_model_name": "LayoutModel",
            "justify_items": null,
            "grid_row": null,
            "max_height": null,
            "align_content": null,
            "visibility": null,
            "align_self": null,
            "height": null,
            "min_height": null,
            "padding": null,
            "grid_auto_rows": null,
            "grid_gap": null,
            "max_width": null,
            "order": null,
            "_view_module_version": "1.2.0",
            "grid_template_areas": null,
            "object_position": null,
            "object_fit": null,
            "grid_auto_columns": null,
            "margin": null,
            "display": null,
            "left": null
          }
        },
        "d51b604110af447aa08609db2c2d8f73": {
          "model_module": "@jupyter-widgets/controls",
          "model_name": "HBoxModel",
          "state": {
            "_view_name": "HBoxView",
            "_dom_classes": [],
            "_model_name": "HBoxModel",
            "_view_module": "@jupyter-widgets/controls",
            "_model_module_version": "1.5.0",
            "_view_count": null,
            "_view_module_version": "1.5.0",
            "box_style": "",
            "layout": "IPY_MODEL_d0c3bc24215b4fa3b17c02e0a155158e",
            "_model_module": "@jupyter-widgets/controls",
            "children": [
              "IPY_MODEL_c89e39eb12494579ad2a6558175e94dc",
              "IPY_MODEL_5d10ae0177364afca1ead8c54b4a237d",
              "IPY_MODEL_e6f992b692dd49ab8c09010194fd1bae"
            ]
          }
        },
        "d0c3bc24215b4fa3b17c02e0a155158e": {
          "model_module": "@jupyter-widgets/base",
          "model_name": "LayoutModel",
          "state": {
            "_view_name": "LayoutView",
            "grid_template_rows": null,
            "right": null,
            "justify_content": null,
            "_view_module": "@jupyter-widgets/base",
            "overflow": null,
            "_model_module_version": "1.2.0",
            "_view_count": null,
            "flex_flow": null,
            "width": null,
            "min_width": null,
            "border": null,
            "align_items": null,
            "bottom": null,
            "_model_module": "@jupyter-widgets/base",
            "top": null,
            "grid_column": null,
            "overflow_y": null,
            "overflow_x": null,
            "grid_auto_flow": null,
            "grid_area": null,
            "grid_template_columns": null,
            "flex": null,
            "_model_name": "LayoutModel",
            "justify_items": null,
            "grid_row": null,
            "max_height": null,
            "align_content": null,
            "visibility": null,
            "align_self": null,
            "height": null,
            "min_height": null,
            "padding": null,
            "grid_auto_rows": null,
            "grid_gap": null,
            "max_width": null,
            "order": null,
            "_view_module_version": "1.2.0",
            "grid_template_areas": null,
            "object_position": null,
            "object_fit": null,
            "grid_auto_columns": null,
            "margin": null,
            "display": null,
            "left": null
          }
        },
        "c89e39eb12494579ad2a6558175e94dc": {
          "model_module": "@jupyter-widgets/controls",
          "model_name": "HTMLModel",
          "state": {
            "_view_name": "HTMLView",
            "style": "IPY_MODEL_022fa80b785441fc9083266cd06037fd",
            "_dom_classes": [],
            "description": "",
            "_model_name": "HTMLModel",
            "placeholder": "​",
            "_view_module": "@jupyter-widgets/controls",
            "_model_module_version": "1.5.0",
            "value": "Downloading: 100%",
            "_view_count": null,
            "_view_module_version": "1.5.0",
            "description_tooltip": null,
            "_model_module": "@jupyter-widgets/controls",
            "layout": "IPY_MODEL_e9ab6b249331489180357921482be879"
          }
        },
        "5d10ae0177364afca1ead8c54b4a237d": {
          "model_module": "@jupyter-widgets/controls",
          "model_name": "FloatProgressModel",
          "state": {
            "_view_name": "ProgressView",
            "style": "IPY_MODEL_8f333718f7b7483e992dfb2d90f7d9b9",
            "_dom_classes": [],
            "description": "",
            "_model_name": "FloatProgressModel",
            "bar_style": "success",
            "max": 1355863,
            "_view_module": "@jupyter-widgets/controls",
            "_model_module_version": "1.5.0",
            "value": 1355863,
            "_view_count": null,
            "_view_module_version": "1.5.0",
            "orientation": "horizontal",
            "min": 0,
            "description_tooltip": null,
            "_model_module": "@jupyter-widgets/controls",
            "layout": "IPY_MODEL_7aa5eeb0980e4071bd326fb17f8c8b8f"
          }
        },
        "e6f992b692dd49ab8c09010194fd1bae": {
          "model_module": "@jupyter-widgets/controls",
          "model_name": "HTMLModel",
          "state": {
            "_view_name": "HTMLView",
            "style": "IPY_MODEL_26e493818d464f8bab70df6fc8e8f97e",
            "_dom_classes": [],
            "description": "",
            "_model_name": "HTMLModel",
            "placeholder": "​",
            "_view_module": "@jupyter-widgets/controls",
            "_model_module_version": "1.5.0",
            "value": " 1.36M/1.36M [00:00&lt;00:00, 4.76MB/s]",
            "_view_count": null,
            "_view_module_version": "1.5.0",
            "description_tooltip": null,
            "_model_module": "@jupyter-widgets/controls",
            "layout": "IPY_MODEL_14809d9b991740e8a5121b58d6982fc0"
          }
        },
        "022fa80b785441fc9083266cd06037fd": {
          "model_module": "@jupyter-widgets/controls",
          "model_name": "DescriptionStyleModel",
          "state": {
            "_view_name": "StyleView",
            "_model_name": "DescriptionStyleModel",
            "description_width": "",
            "_view_module": "@jupyter-widgets/base",
            "_model_module_version": "1.5.0",
            "_view_count": null,
            "_view_module_version": "1.2.0",
            "_model_module": "@jupyter-widgets/controls"
          }
        },
        "e9ab6b249331489180357921482be879": {
          "model_module": "@jupyter-widgets/base",
          "model_name": "LayoutModel",
          "state": {
            "_view_name": "LayoutView",
            "grid_template_rows": null,
            "right": null,
            "justify_content": null,
            "_view_module": "@jupyter-widgets/base",
            "overflow": null,
            "_model_module_version": "1.2.0",
            "_view_count": null,
            "flex_flow": null,
            "width": null,
            "min_width": null,
            "border": null,
            "align_items": null,
            "bottom": null,
            "_model_module": "@jupyter-widgets/base",
            "top": null,
            "grid_column": null,
            "overflow_y": null,
            "overflow_x": null,
            "grid_auto_flow": null,
            "grid_area": null,
            "grid_template_columns": null,
            "flex": null,
            "_model_name": "LayoutModel",
            "justify_items": null,
            "grid_row": null,
            "max_height": null,
            "align_content": null,
            "visibility": null,
            "align_self": null,
            "height": null,
            "min_height": null,
            "padding": null,
            "grid_auto_rows": null,
            "grid_gap": null,
            "max_width": null,
            "order": null,
            "_view_module_version": "1.2.0",
            "grid_template_areas": null,
            "object_position": null,
            "object_fit": null,
            "grid_auto_columns": null,
            "margin": null,
            "display": null,
            "left": null
          }
        },
        "8f333718f7b7483e992dfb2d90f7d9b9": {
          "model_module": "@jupyter-widgets/controls",
          "model_name": "ProgressStyleModel",
          "state": {
            "_view_name": "StyleView",
            "_model_name": "ProgressStyleModel",
            "description_width": "",
            "_view_module": "@jupyter-widgets/base",
            "_model_module_version": "1.5.0",
            "_view_count": null,
            "_view_module_version": "1.2.0",
            "bar_color": null,
            "_model_module": "@jupyter-widgets/controls"
          }
        },
        "7aa5eeb0980e4071bd326fb17f8c8b8f": {
          "model_module": "@jupyter-widgets/base",
          "model_name": "LayoutModel",
          "state": {
            "_view_name": "LayoutView",
            "grid_template_rows": null,
            "right": null,
            "justify_content": null,
            "_view_module": "@jupyter-widgets/base",
            "overflow": null,
            "_model_module_version": "1.2.0",
            "_view_count": null,
            "flex_flow": null,
            "width": null,
            "min_width": null,
            "border": null,
            "align_items": null,
            "bottom": null,
            "_model_module": "@jupyter-widgets/base",
            "top": null,
            "grid_column": null,
            "overflow_y": null,
            "overflow_x": null,
            "grid_auto_flow": null,
            "grid_area": null,
            "grid_template_columns": null,
            "flex": null,
            "_model_name": "LayoutModel",
            "justify_items": null,
            "grid_row": null,
            "max_height": null,
            "align_content": null,
            "visibility": null,
            "align_self": null,
            "height": null,
            "min_height": null,
            "padding": null,
            "grid_auto_rows": null,
            "grid_gap": null,
            "max_width": null,
            "order": null,
            "_view_module_version": "1.2.0",
            "grid_template_areas": null,
            "object_position": null,
            "object_fit": null,
            "grid_auto_columns": null,
            "margin": null,
            "display": null,
            "left": null
          }
        },
        "26e493818d464f8bab70df6fc8e8f97e": {
          "model_module": "@jupyter-widgets/controls",
          "model_name": "DescriptionStyleModel",
          "state": {
            "_view_name": "StyleView",
            "_model_name": "DescriptionStyleModel",
            "description_width": "",
            "_view_module": "@jupyter-widgets/base",
            "_model_module_version": "1.5.0",
            "_view_count": null,
            "_view_module_version": "1.2.0",
            "_model_module": "@jupyter-widgets/controls"
          }
        },
        "14809d9b991740e8a5121b58d6982fc0": {
          "model_module": "@jupyter-widgets/base",
          "model_name": "LayoutModel",
          "state": {
            "_view_name": "LayoutView",
            "grid_template_rows": null,
            "right": null,
            "justify_content": null,
            "_view_module": "@jupyter-widgets/base",
            "overflow": null,
            "_model_module_version": "1.2.0",
            "_view_count": null,
            "flex_flow": null,
            "width": null,
            "min_width": null,
            "border": null,
            "align_items": null,
            "bottom": null,
            "_model_module": "@jupyter-widgets/base",
            "top": null,
            "grid_column": null,
            "overflow_y": null,
            "overflow_x": null,
            "grid_auto_flow": null,
            "grid_area": null,
            "grid_template_columns": null,
            "flex": null,
            "_model_name": "LayoutModel",
            "justify_items": null,
            "grid_row": null,
            "max_height": null,
            "align_content": null,
            "visibility": null,
            "align_self": null,
            "height": null,
            "min_height": null,
            "padding": null,
            "grid_auto_rows": null,
            "grid_gap": null,
            "max_width": null,
            "order": null,
            "_view_module_version": "1.2.0",
            "grid_template_areas": null,
            "object_position": null,
            "object_fit": null,
            "grid_auto_columns": null,
            "margin": null,
            "display": null,
            "left": null
          }
        },
        "2ace275a203f427f969c4313578bf63c": {
          "model_module": "@jupyter-widgets/controls",
          "model_name": "HBoxModel",
          "state": {
            "_view_name": "HBoxView",
            "_dom_classes": [],
            "_model_name": "HBoxModel",
            "_view_module": "@jupyter-widgets/controls",
            "_model_module_version": "1.5.0",
            "_view_count": null,
            "_view_module_version": "1.5.0",
            "box_style": "",
            "layout": "IPY_MODEL_ab168b1c99864ab3b3cd3ba73ccd7073",
            "_model_module": "@jupyter-widgets/controls",
            "children": [
              "IPY_MODEL_600f269e23fe40289c1d14cbe68c44b5",
              "IPY_MODEL_81c2cdfa8db049a18196335311cc6e68",
              "IPY_MODEL_d87626ca6bf74f069904ef0df94b0904"
            ]
          }
        },
        "ab168b1c99864ab3b3cd3ba73ccd7073": {
          "model_module": "@jupyter-widgets/base",
          "model_name": "LayoutModel",
          "state": {
            "_view_name": "LayoutView",
            "grid_template_rows": null,
            "right": null,
            "justify_content": null,
            "_view_module": "@jupyter-widgets/base",
            "overflow": null,
            "_model_module_version": "1.2.0",
            "_view_count": null,
            "flex_flow": null,
            "width": null,
            "min_width": null,
            "border": null,
            "align_items": null,
            "bottom": null,
            "_model_module": "@jupyter-widgets/base",
            "top": null,
            "grid_column": null,
            "overflow_y": null,
            "overflow_x": null,
            "grid_auto_flow": null,
            "grid_area": null,
            "grid_template_columns": null,
            "flex": null,
            "_model_name": "LayoutModel",
            "justify_items": null,
            "grid_row": null,
            "max_height": null,
            "align_content": null,
            "visibility": null,
            "align_self": null,
            "height": null,
            "min_height": null,
            "padding": null,
            "grid_auto_rows": null,
            "grid_gap": null,
            "max_width": null,
            "order": null,
            "_view_module_version": "1.2.0",
            "grid_template_areas": null,
            "object_position": null,
            "object_fit": null,
            "grid_auto_columns": null,
            "margin": null,
            "display": null,
            "left": null
          }
        },
        "600f269e23fe40289c1d14cbe68c44b5": {
          "model_module": "@jupyter-widgets/controls",
          "model_name": "HTMLModel",
          "state": {
            "_view_name": "HTMLView",
            "style": "IPY_MODEL_e45c6d474d6449b7b4483504b42da162",
            "_dom_classes": [],
            "description": "",
            "_model_name": "HTMLModel",
            "placeholder": "​",
            "_view_module": "@jupyter-widgets/controls",
            "_model_module_version": "1.5.0",
            "value": "Downloading: 100%",
            "_view_count": null,
            "_view_module_version": "1.5.0",
            "description_tooltip": null,
            "_model_module": "@jupyter-widgets/controls",
            "layout": "IPY_MODEL_44e5e322e138480cbc2707d4b7627fb8"
          }
        },
        "81c2cdfa8db049a18196335311cc6e68": {
          "model_module": "@jupyter-widgets/controls",
          "model_name": "FloatProgressModel",
          "state": {
            "_view_name": "ProgressView",
            "style": "IPY_MODEL_22242a1911244e37aeb7d1dea41415bc",
            "_dom_classes": [],
            "description": "",
            "_model_name": "FloatProgressModel",
            "bar_style": "success",
            "max": 331070498,
            "_view_module": "@jupyter-widgets/controls",
            "_model_module_version": "1.5.0",
            "value": 331070498,
            "_view_count": null,
            "_view_module_version": "1.5.0",
            "orientation": "horizontal",
            "min": 0,
            "description_tooltip": null,
            "_model_module": "@jupyter-widgets/controls",
            "layout": "IPY_MODEL_2e8bd4baf9284da990bbe0497556f3b5"
          }
        },
        "d87626ca6bf74f069904ef0df94b0904": {
          "model_module": "@jupyter-widgets/controls",
          "model_name": "HTMLModel",
          "state": {
            "_view_name": "HTMLView",
            "style": "IPY_MODEL_715c00e7300d49f5baf7ee25c0f1eabb",
            "_dom_classes": [],
            "description": "",
            "_model_name": "HTMLModel",
            "placeholder": "​",
            "_view_module": "@jupyter-widgets/controls",
            "_model_module_version": "1.5.0",
            "value": " 331M/331M [00:06&lt;00:00, 53.3MB/s]",
            "_view_count": null,
            "_view_module_version": "1.5.0",
            "description_tooltip": null,
            "_model_module": "@jupyter-widgets/controls",
            "layout": "IPY_MODEL_a18c46b9ebb54194b8cb36b81a35dd79"
          }
        },
        "e45c6d474d6449b7b4483504b42da162": {
          "model_module": "@jupyter-widgets/controls",
          "model_name": "DescriptionStyleModel",
          "state": {
            "_view_name": "StyleView",
            "_model_name": "DescriptionStyleModel",
            "description_width": "",
            "_view_module": "@jupyter-widgets/base",
            "_model_module_version": "1.5.0",
            "_view_count": null,
            "_view_module_version": "1.2.0",
            "_model_module": "@jupyter-widgets/controls"
          }
        },
        "44e5e322e138480cbc2707d4b7627fb8": {
          "model_module": "@jupyter-widgets/base",
          "model_name": "LayoutModel",
          "state": {
            "_view_name": "LayoutView",
            "grid_template_rows": null,
            "right": null,
            "justify_content": null,
            "_view_module": "@jupyter-widgets/base",
            "overflow": null,
            "_model_module_version": "1.2.0",
            "_view_count": null,
            "flex_flow": null,
            "width": null,
            "min_width": null,
            "border": null,
            "align_items": null,
            "bottom": null,
            "_model_module": "@jupyter-widgets/base",
            "top": null,
            "grid_column": null,
            "overflow_y": null,
            "overflow_x": null,
            "grid_auto_flow": null,
            "grid_area": null,
            "grid_template_columns": null,
            "flex": null,
            "_model_name": "LayoutModel",
            "justify_items": null,
            "grid_row": null,
            "max_height": null,
            "align_content": null,
            "visibility": null,
            "align_self": null,
            "height": null,
            "min_height": null,
            "padding": null,
            "grid_auto_rows": null,
            "grid_gap": null,
            "max_width": null,
            "order": null,
            "_view_module_version": "1.2.0",
            "grid_template_areas": null,
            "object_position": null,
            "object_fit": null,
            "grid_auto_columns": null,
            "margin": null,
            "display": null,
            "left": null
          }
        },
        "22242a1911244e37aeb7d1dea41415bc": {
          "model_module": "@jupyter-widgets/controls",
          "model_name": "ProgressStyleModel",
          "state": {
            "_view_name": "StyleView",
            "_model_name": "ProgressStyleModel",
            "description_width": "",
            "_view_module": "@jupyter-widgets/base",
            "_model_module_version": "1.5.0",
            "_view_count": null,
            "_view_module_version": "1.2.0",
            "bar_color": null,
            "_model_module": "@jupyter-widgets/controls"
          }
        },
        "2e8bd4baf9284da990bbe0497556f3b5": {
          "model_module": "@jupyter-widgets/base",
          "model_name": "LayoutModel",
          "state": {
            "_view_name": "LayoutView",
            "grid_template_rows": null,
            "right": null,
            "justify_content": null,
            "_view_module": "@jupyter-widgets/base",
            "overflow": null,
            "_model_module_version": "1.2.0",
            "_view_count": null,
            "flex_flow": null,
            "width": null,
            "min_width": null,
            "border": null,
            "align_items": null,
            "bottom": null,
            "_model_module": "@jupyter-widgets/base",
            "top": null,
            "grid_column": null,
            "overflow_y": null,
            "overflow_x": null,
            "grid_auto_flow": null,
            "grid_area": null,
            "grid_template_columns": null,
            "flex": null,
            "_model_name": "LayoutModel",
            "justify_items": null,
            "grid_row": null,
            "max_height": null,
            "align_content": null,
            "visibility": null,
            "align_self": null,
            "height": null,
            "min_height": null,
            "padding": null,
            "grid_auto_rows": null,
            "grid_gap": null,
            "max_width": null,
            "order": null,
            "_view_module_version": "1.2.0",
            "grid_template_areas": null,
            "object_position": null,
            "object_fit": null,
            "grid_auto_columns": null,
            "margin": null,
            "display": null,
            "left": null
          }
        },
        "715c00e7300d49f5baf7ee25c0f1eabb": {
          "model_module": "@jupyter-widgets/controls",
          "model_name": "DescriptionStyleModel",
          "state": {
            "_view_name": "StyleView",
            "_model_name": "DescriptionStyleModel",
            "description_width": "",
            "_view_module": "@jupyter-widgets/base",
            "_model_module_version": "1.5.0",
            "_view_count": null,
            "_view_module_version": "1.2.0",
            "_model_module": "@jupyter-widgets/controls"
          }
        },
        "a18c46b9ebb54194b8cb36b81a35dd79": {
          "model_module": "@jupyter-widgets/base",
          "model_name": "LayoutModel",
          "state": {
            "_view_name": "LayoutView",
            "grid_template_rows": null,
            "right": null,
            "justify_content": null,
            "_view_module": "@jupyter-widgets/base",
            "overflow": null,
            "_model_module_version": "1.2.0",
            "_view_count": null,
            "flex_flow": null,
            "width": null,
            "min_width": null,
            "border": null,
            "align_items": null,
            "bottom": null,
            "_model_module": "@jupyter-widgets/base",
            "top": null,
            "grid_column": null,
            "overflow_y": null,
            "overflow_x": null,
            "grid_auto_flow": null,
            "grid_area": null,
            "grid_template_columns": null,
            "flex": null,
            "_model_name": "LayoutModel",
            "justify_items": null,
            "grid_row": null,
            "max_height": null,
            "align_content": null,
            "visibility": null,
            "align_self": null,
            "height": null,
            "min_height": null,
            "padding": null,
            "grid_auto_rows": null,
            "grid_gap": null,
            "max_width": null,
            "order": null,
            "_view_module_version": "1.2.0",
            "grid_template_areas": null,
            "object_position": null,
            "object_fit": null,
            "grid_auto_columns": null,
            "margin": null,
            "display": null,
            "left": null
          }
        }
      }
    }
  },
  "cells": [
    {
      "cell_type": "markdown",
      "metadata": {
        "id": "view-in-github",
        "colab_type": "text"
      },
      "source": [
        "<a href=\"https://colab.research.google.com/github/hfoffani/HF-fastai/blob/main/nb30_iula_blurr_blearner.ipynb\" target=\"_parent\"><img src=\"https://colab.research.google.com/assets/colab-badge.svg\" alt=\"Open In Colab\"/></a>"
      ]
    },
    {
      "cell_type": "code",
      "metadata": {
        "id": "YBgYA_8HSmfy",
        "outputId": "91cfb314-414b-47f3-b345-f84d8ffe4a10",
        "colab": {
          "base_uri": "https://localhost:8080/"
        }
      },
      "source": [
        "!pip install -Uqq transformers datasets tqdm\n",
        "!pip install -Uqq ohmeow-blurr"
      ],
      "execution_count": 1,
      "outputs": [
        {
          "output_type": "stream",
          "text": [
            "\u001b[?25l\r\u001b[K     |▏                               | 10 kB 24.2 MB/s eta 0:00:01\r\u001b[K     |▎                               | 20 kB 29.5 MB/s eta 0:00:01\r\u001b[K     |▍                               | 30 kB 32.1 MB/s eta 0:00:01\r\u001b[K     |▌                               | 40 kB 32.8 MB/s eta 0:00:01\r\u001b[K     |▋                               | 51 kB 12.9 MB/s eta 0:00:01\r\u001b[K     |▊                               | 61 kB 10.2 MB/s eta 0:00:01\r\u001b[K     |▉                               | 71 kB 10.2 MB/s eta 0:00:01\r\u001b[K     |█                               | 81 kB 11.3 MB/s eta 0:00:01\r\u001b[K     |█▏                              | 92 kB 11.1 MB/s eta 0:00:01\r\u001b[K     |█▎                              | 102 kB 10.6 MB/s eta 0:00:01\r\u001b[K     |█▍                              | 112 kB 10.6 MB/s eta 0:00:01\r\u001b[K     |█▌                              | 122 kB 10.6 MB/s eta 0:00:01\r\u001b[K     |█▋                              | 133 kB 10.6 MB/s eta 0:00:01\r\u001b[K     |█▊                              | 143 kB 10.6 MB/s eta 0:00:01\r\u001b[K     |██                              | 153 kB 10.6 MB/s eta 0:00:01\r\u001b[K     |██                              | 163 kB 10.6 MB/s eta 0:00:01\r\u001b[K     |██▏                             | 174 kB 10.6 MB/s eta 0:00:01\r\u001b[K     |██▎                             | 184 kB 10.6 MB/s eta 0:00:01\r\u001b[K     |██▍                             | 194 kB 10.6 MB/s eta 0:00:01\r\u001b[K     |██▌                             | 204 kB 10.6 MB/s eta 0:00:01\r\u001b[K     |██▋                             | 215 kB 10.6 MB/s eta 0:00:01\r\u001b[K     |██▉                             | 225 kB 10.6 MB/s eta 0:00:01\r\u001b[K     |███                             | 235 kB 10.6 MB/s eta 0:00:01\r\u001b[K     |███                             | 245 kB 10.6 MB/s eta 0:00:01\r\u001b[K     |███▏                            | 256 kB 10.6 MB/s eta 0:00:01\r\u001b[K     |███▎                            | 266 kB 10.6 MB/s eta 0:00:01\r\u001b[K     |███▍                            | 276 kB 10.6 MB/s eta 0:00:01\r\u001b[K     |███▌                            | 286 kB 10.6 MB/s eta 0:00:01\r\u001b[K     |███▊                            | 296 kB 10.6 MB/s eta 0:00:01\r\u001b[K     |███▉                            | 307 kB 10.6 MB/s eta 0:00:01\r\u001b[K     |████                            | 317 kB 10.6 MB/s eta 0:00:01\r\u001b[K     |████                            | 327 kB 10.6 MB/s eta 0:00:01\r\u001b[K     |████▏                           | 337 kB 10.6 MB/s eta 0:00:01\r\u001b[K     |████▎                           | 348 kB 10.6 MB/s eta 0:00:01\r\u001b[K     |████▍                           | 358 kB 10.6 MB/s eta 0:00:01\r\u001b[K     |████▋                           | 368 kB 10.6 MB/s eta 0:00:01\r\u001b[K     |████▊                           | 378 kB 10.6 MB/s eta 0:00:01\r\u001b[K     |████▉                           | 389 kB 10.6 MB/s eta 0:00:01\r\u001b[K     |█████                           | 399 kB 10.6 MB/s eta 0:00:01\r\u001b[K     |█████                           | 409 kB 10.6 MB/s eta 0:00:01\r\u001b[K     |█████▏                          | 419 kB 10.6 MB/s eta 0:00:01\r\u001b[K     |█████▎                          | 430 kB 10.6 MB/s eta 0:00:01\r\u001b[K     |█████▌                          | 440 kB 10.6 MB/s eta 0:00:01\r\u001b[K     |█████▋                          | 450 kB 10.6 MB/s eta 0:00:01\r\u001b[K     |█████▊                          | 460 kB 10.6 MB/s eta 0:00:01\r\u001b[K     |█████▉                          | 471 kB 10.6 MB/s eta 0:00:01\r\u001b[K     |██████                          | 481 kB 10.6 MB/s eta 0:00:01\r\u001b[K     |██████                          | 491 kB 10.6 MB/s eta 0:00:01\r\u001b[K     |██████▏                         | 501 kB 10.6 MB/s eta 0:00:01\r\u001b[K     |██████▍                         | 512 kB 10.6 MB/s eta 0:00:01\r\u001b[K     |██████▌                         | 522 kB 10.6 MB/s eta 0:00:01\r\u001b[K     |██████▋                         | 532 kB 10.6 MB/s eta 0:00:01\r\u001b[K     |██████▊                         | 542 kB 10.6 MB/s eta 0:00:01\r\u001b[K     |██████▉                         | 552 kB 10.6 MB/s eta 0:00:01\r\u001b[K     |███████                         | 563 kB 10.6 MB/s eta 0:00:01\r\u001b[K     |███████                         | 573 kB 10.6 MB/s eta 0:00:01\r\u001b[K     |███████▏                        | 583 kB 10.6 MB/s eta 0:00:01\r\u001b[K     |███████▍                        | 593 kB 10.6 MB/s eta 0:00:01\r\u001b[K     |███████▌                        | 604 kB 10.6 MB/s eta 0:00:01\r\u001b[K     |███████▋                        | 614 kB 10.6 MB/s eta 0:00:01\r\u001b[K     |███████▊                        | 624 kB 10.6 MB/s eta 0:00:01\r\u001b[K     |███████▉                        | 634 kB 10.6 MB/s eta 0:00:01\r\u001b[K     |████████                        | 645 kB 10.6 MB/s eta 0:00:01\r\u001b[K     |████████                        | 655 kB 10.6 MB/s eta 0:00:01\r\u001b[K     |████████▎                       | 665 kB 10.6 MB/s eta 0:00:01\r\u001b[K     |████████▍                       | 675 kB 10.6 MB/s eta 0:00:01\r\u001b[K     |████████▌                       | 686 kB 10.6 MB/s eta 0:00:01\r\u001b[K     |████████▋                       | 696 kB 10.6 MB/s eta 0:00:01\r\u001b[K     |████████▊                       | 706 kB 10.6 MB/s eta 0:00:01\r\u001b[K     |████████▉                       | 716 kB 10.6 MB/s eta 0:00:01\r\u001b[K     |█████████                       | 727 kB 10.6 MB/s eta 0:00:01\r\u001b[K     |█████████▏                      | 737 kB 10.6 MB/s eta 0:00:01\r\u001b[K     |█████████▎                      | 747 kB 10.6 MB/s eta 0:00:01\r\u001b[K     |█████████▍                      | 757 kB 10.6 MB/s eta 0:00:01\r\u001b[K     |█████████▌                      | 768 kB 10.6 MB/s eta 0:00:01\r\u001b[K     |█████████▋                      | 778 kB 10.6 MB/s eta 0:00:01\r\u001b[K     |█████████▊                      | 788 kB 10.6 MB/s eta 0:00:01\r\u001b[K     |█████████▉                      | 798 kB 10.6 MB/s eta 0:00:01\r\u001b[K     |██████████                      | 808 kB 10.6 MB/s eta 0:00:01\r\u001b[K     |██████████▏                     | 819 kB 10.6 MB/s eta 0:00:01\r\u001b[K     |██████████▎                     | 829 kB 10.6 MB/s eta 0:00:01\r\u001b[K     |██████████▍                     | 839 kB 10.6 MB/s eta 0:00:01\r\u001b[K     |██████████▌                     | 849 kB 10.6 MB/s eta 0:00:01\r\u001b[K     |██████████▋                     | 860 kB 10.6 MB/s eta 0:00:01\r\u001b[K     |██████████▊                     | 870 kB 10.6 MB/s eta 0:00:01\r\u001b[K     |███████████                     | 880 kB 10.6 MB/s eta 0:00:01\r\u001b[K     |███████████                     | 890 kB 10.6 MB/s eta 0:00:01\r\u001b[K     |███████████▏                    | 901 kB 10.6 MB/s eta 0:00:01\r\u001b[K     |███████████▎                    | 911 kB 10.6 MB/s eta 0:00:01\r\u001b[K     |███████████▍                    | 921 kB 10.6 MB/s eta 0:00:01\r\u001b[K     |███████████▌                    | 931 kB 10.6 MB/s eta 0:00:01\r\u001b[K     |███████████▋                    | 942 kB 10.6 MB/s eta 0:00:01\r\u001b[K     |███████████▉                    | 952 kB 10.6 MB/s eta 0:00:01\r\u001b[K     |████████████                    | 962 kB 10.6 MB/s eta 0:00:01\r\u001b[K     |████████████                    | 972 kB 10.6 MB/s eta 0:00:01\r\u001b[K     |████████████▏                   | 983 kB 10.6 MB/s eta 0:00:01\r\u001b[K     |████████████▎                   | 993 kB 10.6 MB/s eta 0:00:01\r\u001b[K     |████████████▍                   | 1.0 MB 10.6 MB/s eta 0:00:01\r\u001b[K     |████████████▌                   | 1.0 MB 10.6 MB/s eta 0:00:01\r\u001b[K     |████████████▊                   | 1.0 MB 10.6 MB/s eta 0:00:01\r\u001b[K     |████████████▉                   | 1.0 MB 10.6 MB/s eta 0:00:01\r\u001b[K     |█████████████                   | 1.0 MB 10.6 MB/s eta 0:00:01\r\u001b[K     |█████████████                   | 1.1 MB 10.6 MB/s eta 0:00:01\r\u001b[K     |█████████████▏                  | 1.1 MB 10.6 MB/s eta 0:00:01\r\u001b[K     |█████████████▎                  | 1.1 MB 10.6 MB/s eta 0:00:01\r\u001b[K     |█████████████▍                  | 1.1 MB 10.6 MB/s eta 0:00:01\r\u001b[K     |█████████████▌                  | 1.1 MB 10.6 MB/s eta 0:00:01\r\u001b[K     |█████████████▊                  | 1.1 MB 10.6 MB/s eta 0:00:01\r\u001b[K     |█████████████▉                  | 1.1 MB 10.6 MB/s eta 0:00:01\r\u001b[K     |██████████████                  | 1.1 MB 10.6 MB/s eta 0:00:01\r\u001b[K     |██████████████                  | 1.1 MB 10.6 MB/s eta 0:00:01\r\u001b[K     |██████████████▏                 | 1.1 MB 10.6 MB/s eta 0:00:01\r\u001b[K     |██████████████▎                 | 1.2 MB 10.6 MB/s eta 0:00:01\r\u001b[K     |██████████████▍                 | 1.2 MB 10.6 MB/s eta 0:00:01\r\u001b[K     |██████████████▋                 | 1.2 MB 10.6 MB/s eta 0:00:01\r\u001b[K     |██████████████▊                 | 1.2 MB 10.6 MB/s eta 0:00:01\r\u001b[K     |██████████████▉                 | 1.2 MB 10.6 MB/s eta 0:00:01\r\u001b[K     |███████████████                 | 1.2 MB 10.6 MB/s eta 0:00:01\r\u001b[K     |███████████████                 | 1.2 MB 10.6 MB/s eta 0:00:01\r\u001b[K     |███████████████▏                | 1.2 MB 10.6 MB/s eta 0:00:01\r\u001b[K     |███████████████▎                | 1.2 MB 10.6 MB/s eta 0:00:01\r\u001b[K     |███████████████▌                | 1.2 MB 10.6 MB/s eta 0:00:01\r\u001b[K     |███████████████▋                | 1.3 MB 10.6 MB/s eta 0:00:01\r\u001b[K     |███████████████▊                | 1.3 MB 10.6 MB/s eta 0:00:01\r\u001b[K     |███████████████▉                | 1.3 MB 10.6 MB/s eta 0:00:01\r\u001b[K     |████████████████                | 1.3 MB 10.6 MB/s eta 0:00:01\r\u001b[K     |████████████████                | 1.3 MB 10.6 MB/s eta 0:00:01\r\u001b[K     |████████████████▏               | 1.3 MB 10.6 MB/s eta 0:00:01\r\u001b[K     |████████████████▍               | 1.3 MB 10.6 MB/s eta 0:00:01\r\u001b[K     |████████████████▌               | 1.3 MB 10.6 MB/s eta 0:00:01\r\u001b[K     |████████████████▋               | 1.3 MB 10.6 MB/s eta 0:00:01\r\u001b[K     |████████████████▊               | 1.4 MB 10.6 MB/s eta 0:00:01\r\u001b[K     |████████████████▉               | 1.4 MB 10.6 MB/s eta 0:00:01\r\u001b[K     |█████████████████               | 1.4 MB 10.6 MB/s eta 0:00:01\r\u001b[K     |█████████████████               | 1.4 MB 10.6 MB/s eta 0:00:01\r\u001b[K     |█████████████████▎              | 1.4 MB 10.6 MB/s eta 0:00:01\r\u001b[K     |█████████████████▍              | 1.4 MB 10.6 MB/s eta 0:00:01\r\u001b[K     |█████████████████▌              | 1.4 MB 10.6 MB/s eta 0:00:01\r\u001b[K     |█████████████████▋              | 1.4 MB 10.6 MB/s eta 0:00:01\r\u001b[K     |█████████████████▊              | 1.4 MB 10.6 MB/s eta 0:00:01\r\u001b[K     |█████████████████▉              | 1.4 MB 10.6 MB/s eta 0:00:01\r\u001b[K     |██████████████████              | 1.5 MB 10.6 MB/s eta 0:00:01\r\u001b[K     |██████████████████▏             | 1.5 MB 10.6 MB/s eta 0:00:01\r\u001b[K     |██████████████████▎             | 1.5 MB 10.6 MB/s eta 0:00:01\r\u001b[K     |██████████████████▍             | 1.5 MB 10.6 MB/s eta 0:00:01\r\u001b[K     |██████████████████▌             | 1.5 MB 10.6 MB/s eta 0:00:01\r\u001b[K     |██████████████████▋             | 1.5 MB 10.6 MB/s eta 0:00:01\r\u001b[K     |██████████████████▊             | 1.5 MB 10.6 MB/s eta 0:00:01\r\u001b[K     |██████████████████▉             | 1.5 MB 10.6 MB/s eta 0:00:01\r\u001b[K     |███████████████████             | 1.5 MB 10.6 MB/s eta 0:00:01\r\u001b[K     |███████████████████▏            | 1.5 MB 10.6 MB/s eta 0:00:01\r\u001b[K     |███████████████████▎            | 1.6 MB 10.6 MB/s eta 0:00:01\r\u001b[K     |███████████████████▍            | 1.6 MB 10.6 MB/s eta 0:00:01\r\u001b[K     |███████████████████▌            | 1.6 MB 10.6 MB/s eta 0:00:01\r\u001b[K     |███████████████████▋            | 1.6 MB 10.6 MB/s eta 0:00:01\r\u001b[K     |███████████████████▊            | 1.6 MB 10.6 MB/s eta 0:00:01\r\u001b[K     |███████████████████▉            | 1.6 MB 10.6 MB/s eta 0:00:01\r\u001b[K     |████████████████████            | 1.6 MB 10.6 MB/s eta 0:00:01\r\u001b[K     |████████████████████▏           | 1.6 MB 10.6 MB/s eta 0:00:01\r\u001b[K     |████████████████████▎           | 1.6 MB 10.6 MB/s eta 0:00:01\r\u001b[K     |████████████████████▍           | 1.6 MB 10.6 MB/s eta 0:00:01\r\u001b[K     |████████████████████▌           | 1.7 MB 10.6 MB/s eta 0:00:01\r\u001b[K     |████████████████████▋           | 1.7 MB 10.6 MB/s eta 0:00:01\r\u001b[K     |████████████████████▊           | 1.7 MB 10.6 MB/s eta 0:00:01\r\u001b[K     |█████████████████████           | 1.7 MB 10.6 MB/s eta 0:00:01\r\u001b[K     |█████████████████████           | 1.7 MB 10.6 MB/s eta 0:00:01\r\u001b[K     |█████████████████████▏          | 1.7 MB 10.6 MB/s eta 0:00:01\r\u001b[K     |█████████████████████▎          | 1.7 MB 10.6 MB/s eta 0:00:01\r\u001b[K     |█████████████████████▍          | 1.7 MB 10.6 MB/s eta 0:00:01\r\u001b[K     |█████████████████████▌          | 1.7 MB 10.6 MB/s eta 0:00:01\r\u001b[K     |█████████████████████▋          | 1.8 MB 10.6 MB/s eta 0:00:01\r\u001b[K     |█████████████████████▉          | 1.8 MB 10.6 MB/s eta 0:00:01\r\u001b[K     |██████████████████████          | 1.8 MB 10.6 MB/s eta 0:00:01\r\u001b[K     |██████████████████████          | 1.8 MB 10.6 MB/s eta 0:00:01\r\u001b[K     |██████████████████████▏         | 1.8 MB 10.6 MB/s eta 0:00:01\r\u001b[K     |██████████████████████▎         | 1.8 MB 10.6 MB/s eta 0:00:01\r\u001b[K     |██████████████████████▍         | 1.8 MB 10.6 MB/s eta 0:00:01\r\u001b[K     |██████████████████████▌         | 1.8 MB 10.6 MB/s eta 0:00:01\r\u001b[K     |██████████████████████▊         | 1.8 MB 10.6 MB/s eta 0:00:01\r\u001b[K     |██████████████████████▉         | 1.8 MB 10.6 MB/s eta 0:00:01\r\u001b[K     |███████████████████████         | 1.9 MB 10.6 MB/s eta 0:00:01\r\u001b[K     |███████████████████████         | 1.9 MB 10.6 MB/s eta 0:00:01\r\u001b[K     |███████████████████████▏        | 1.9 MB 10.6 MB/s eta 0:00:01\r\u001b[K     |███████████████████████▎        | 1.9 MB 10.6 MB/s eta 0:00:01\r\u001b[K     |███████████████████████▍        | 1.9 MB 10.6 MB/s eta 0:00:01\r\u001b[K     |███████████████████████▋        | 1.9 MB 10.6 MB/s eta 0:00:01\r\u001b[K     |███████████████████████▊        | 1.9 MB 10.6 MB/s eta 0:00:01\r\u001b[K     |███████████████████████▉        | 1.9 MB 10.6 MB/s eta 0:00:01\r\u001b[K     |████████████████████████        | 1.9 MB 10.6 MB/s eta 0:00:01\r\u001b[K     |████████████████████████        | 1.9 MB 10.6 MB/s eta 0:00:01\r\u001b[K     |████████████████████████▏       | 2.0 MB 10.6 MB/s eta 0:00:01\r\u001b[K     |████████████████████████▎       | 2.0 MB 10.6 MB/s eta 0:00:01\r\u001b[K     |████████████████████████▌       | 2.0 MB 10.6 MB/s eta 0:00:01\r\u001b[K     |████████████████████████▋       | 2.0 MB 10.6 MB/s eta 0:00:01\r\u001b[K     |████████████████████████▊       | 2.0 MB 10.6 MB/s eta 0:00:01\r\u001b[K     |████████████████████████▉       | 2.0 MB 10.6 MB/s eta 0:00:01\r\u001b[K     |█████████████████████████       | 2.0 MB 10.6 MB/s eta 0:00:01\r\u001b[K     |█████████████████████████       | 2.0 MB 10.6 MB/s eta 0:00:01\r\u001b[K     |█████████████████████████▏      | 2.0 MB 10.6 MB/s eta 0:00:01\r\u001b[K     |█████████████████████████▍      | 2.0 MB 10.6 MB/s eta 0:00:01\r\u001b[K     |█████████████████████████▌      | 2.1 MB 10.6 MB/s eta 0:00:01\r\u001b[K     |█████████████████████████▋      | 2.1 MB 10.6 MB/s eta 0:00:01\r\u001b[K     |█████████████████████████▊      | 2.1 MB 10.6 MB/s eta 0:00:01\r\u001b[K     |█████████████████████████▉      | 2.1 MB 10.6 MB/s eta 0:00:01\r\u001b[K     |██████████████████████████      | 2.1 MB 10.6 MB/s eta 0:00:01\r\u001b[K     |██████████████████████████      | 2.1 MB 10.6 MB/s eta 0:00:01\r\u001b[K     |██████████████████████████▏     | 2.1 MB 10.6 MB/s eta 0:00:01\r\u001b[K     |██████████████████████████▍     | 2.1 MB 10.6 MB/s eta 0:00:01\r\u001b[K     |██████████████████████████▌     | 2.1 MB 10.6 MB/s eta 0:00:01\r\u001b[K     |██████████████████████████▋     | 2.2 MB 10.6 MB/s eta 0:00:01\r\u001b[K     |██████████████████████████▊     | 2.2 MB 10.6 MB/s eta 0:00:01\r\u001b[K     |██████████████████████████▉     | 2.2 MB 10.6 MB/s eta 0:00:01\r\u001b[K     |███████████████████████████     | 2.2 MB 10.6 MB/s eta 0:00:01\r\u001b[K     |███████████████████████████     | 2.2 MB 10.6 MB/s eta 0:00:01\r\u001b[K     |███████████████████████████▎    | 2.2 MB 10.6 MB/s eta 0:00:01\r\u001b[K     |███████████████████████████▍    | 2.2 MB 10.6 MB/s eta 0:00:01\r\u001b[K     |███████████████████████████▌    | 2.2 MB 10.6 MB/s eta 0:00:01\r\u001b[K     |███████████████████████████▋    | 2.2 MB 10.6 MB/s eta 0:00:01\r\u001b[K     |███████████████████████████▊    | 2.2 MB 10.6 MB/s eta 0:00:01\r\u001b[K     |███████████████████████████▉    | 2.3 MB 10.6 MB/s eta 0:00:01\r\u001b[K     |████████████████████████████    | 2.3 MB 10.6 MB/s eta 0:00:01\r\u001b[K     |████████████████████████████▏   | 2.3 MB 10.6 MB/s eta 0:00:01\r\u001b[K     |████████████████████████████▎   | 2.3 MB 10.6 MB/s eta 0:00:01\r\u001b[K     |████████████████████████████▍   | 2.3 MB 10.6 MB/s eta 0:00:01\r\u001b[K     |████████████████████████████▌   | 2.3 MB 10.6 MB/s eta 0:00:01\r\u001b[K     |████████████████████████████▋   | 2.3 MB 10.6 MB/s eta 0:00:01\r\u001b[K     |████████████████████████████▊   | 2.3 MB 10.6 MB/s eta 0:00:01\r\u001b[K     |████████████████████████████▉   | 2.3 MB 10.6 MB/s eta 0:00:01\r\u001b[K     |█████████████████████████████   | 2.3 MB 10.6 MB/s eta 0:00:01\r\u001b[K     |█████████████████████████████▏  | 2.4 MB 10.6 MB/s eta 0:00:01\r\u001b[K     |█████████████████████████████▎  | 2.4 MB 10.6 MB/s eta 0:00:01\r\u001b[K     |█████████████████████████████▍  | 2.4 MB 10.6 MB/s eta 0:00:01\r\u001b[K     |█████████████████████████████▌  | 2.4 MB 10.6 MB/s eta 0:00:01\r\u001b[K     |█████████████████████████████▋  | 2.4 MB 10.6 MB/s eta 0:00:01\r\u001b[K     |█████████████████████████████▊  | 2.4 MB 10.6 MB/s eta 0:00:01\r\u001b[K     |██████████████████████████████  | 2.4 MB 10.6 MB/s eta 0:00:01\r\u001b[K     |██████████████████████████████  | 2.4 MB 10.6 MB/s eta 0:00:01\r\u001b[K     |██████████████████████████████▏ | 2.4 MB 10.6 MB/s eta 0:00:01\r\u001b[K     |██████████████████████████████▎ | 2.4 MB 10.6 MB/s eta 0:00:01\r\u001b[K     |██████████████████████████████▍ | 2.5 MB 10.6 MB/s eta 0:00:01\r\u001b[K     |██████████████████████████████▌ | 2.5 MB 10.6 MB/s eta 0:00:01\r\u001b[K     |██████████████████████████████▋ | 2.5 MB 10.6 MB/s eta 0:00:01\r\u001b[K     |██████████████████████████████▉ | 2.5 MB 10.6 MB/s eta 0:00:01\r\u001b[K     |███████████████████████████████ | 2.5 MB 10.6 MB/s eta 0:00:01\r\u001b[K     |███████████████████████████████ | 2.5 MB 10.6 MB/s eta 0:00:01\r\u001b[K     |███████████████████████████████▏| 2.5 MB 10.6 MB/s eta 0:00:01\r\u001b[K     |███████████████████████████████▎| 2.5 MB 10.6 MB/s eta 0:00:01\r\u001b[K     |███████████████████████████████▍| 2.5 MB 10.6 MB/s eta 0:00:01\r\u001b[K     |███████████████████████████████▌| 2.5 MB 10.6 MB/s eta 0:00:01\r\u001b[K     |███████████████████████████████▊| 2.6 MB 10.6 MB/s eta 0:00:01\r\u001b[K     |███████████████████████████████▉| 2.6 MB 10.6 MB/s eta 0:00:01\r\u001b[K     |████████████████████████████████| 2.6 MB 10.6 MB/s eta 0:00:01\r\u001b[K     |████████████████████████████████| 2.6 MB 10.6 MB/s \n",
            "\u001b[K     |████████████████████████████████| 264 kB 72.9 MB/s \n",
            "\u001b[K     |████████████████████████████████| 76 kB 6.0 MB/s \n",
            "\u001b[K     |████████████████████████████████| 636 kB 62.7 MB/s \n",
            "\u001b[K     |████████████████████████████████| 3.3 MB 56.1 MB/s \n",
            "\u001b[K     |████████████████████████████████| 895 kB 55.1 MB/s \n",
            "\u001b[K     |████████████████████████████████| 118 kB 60.9 MB/s \n",
            "\u001b[K     |████████████████████████████████| 243 kB 62.4 MB/s \n",
            "\u001b[K     |████████████████████████████████| 75 kB 3.8 MB/s \n",
            "\u001b[K     |████████████████████████████████| 1.2 MB 17.6 MB/s \n",
            "\u001b[K     |████████████████████████████████| 188 kB 71.8 MB/s \n",
            "\u001b[K     |████████████████████████████████| 43 kB 2.7 MB/s \n",
            "\u001b[K     |████████████████████████████████| 54 kB 3.5 MB/s \n",
            "\u001b[?25h  Building wheel for seqeval (setup.py) ... \u001b[?25l\u001b[?25hdone\n"
          ],
          "name": "stdout"
        }
      ]
    },
    {
      "cell_type": "code",
      "metadata": {
        "id": "nxE6Bii3b0K1",
        "colab": {
          "base_uri": "https://localhost:8080/"
        },
        "outputId": "3fb683a3-5cac-4264-8930-83336cd9c7f5"
      },
      "source": [
        "from google.colab import drive\n",
        "drive.mount('/content/drive')"
      ],
      "execution_count": 2,
      "outputs": [
        {
          "output_type": "stream",
          "text": [
            "Mounted at /content/drive\n"
          ],
          "name": "stdout"
        }
      ]
    },
    {
      "cell_type": "code",
      "metadata": {
        "id": "NnVTla8IS5v-"
      },
      "source": [
        "import os\n",
        "\n",
        "import pandas as pd\n",
        "\n",
        "from transformers import AutoModelForSequenceClassification\n",
        "\n",
        "from blurr.utils import BLURR\n",
        "from blurr.data.core import HF_TextBlock\n",
        "from blurr.modeling.core import Blearner\n",
        "\n",
        "from fastai.text.all import *\n"
      ],
      "execution_count": 3,
      "outputs": []
    },
    {
      "cell_type": "markdown",
      "metadata": {
        "id": "RHeXVoqAfX41"
      },
      "source": [
        "### Leer Corpus"
      ]
    },
    {
      "cell_type": "code",
      "metadata": {
        "id": "APPdcX6aUp63",
        "colab": {
          "base_uri": "https://localhost:8080/",
          "height": 470
        },
        "outputId": "2334f95a-4d9d-4096-84a5-d42a69938368"
      },
      "source": [
        "co_df = pd.read_csv('/content/drive/MyDrive/iula-es.csv')\n",
        "num_labels = co_df['label'].nunique()\n",
        "co_df"
      ],
      "execution_count": 4,
      "outputs": [
        {
          "output_type": "execute_result",
          "data": {
            "text/html": [
              "<div>\n",
              "<style scoped>\n",
              "    .dataframe tbody tr th:only-of-type {\n",
              "        vertical-align: middle;\n",
              "    }\n",
              "\n",
              "    .dataframe tbody tr th {\n",
              "        vertical-align: top;\n",
              "    }\n",
              "\n",
              "    .dataframe thead th {\n",
              "        text-align: right;\n",
              "    }\n",
              "</style>\n",
              "<table border=\"1\" class=\"dataframe\">\n",
              "  <thead>\n",
              "    <tr style=\"text-align: right;\">\n",
              "      <th></th>\n",
              "      <th>label</th>\n",
              "      <th>sentence</th>\n",
              "      <th>is_valid</th>\n",
              "    </tr>\n",
              "  </thead>\n",
              "  <tbody>\n",
              "    <tr>\n",
              "      <th>0</th>\n",
              "      <td>economía</td>\n",
              "      <td>LOS POSTULADOS DE LA ECONOMÍA CLÁSICA</td>\n",
              "      <td>True</td>\n",
              "    </tr>\n",
              "    <tr>\n",
              "      <th>1</th>\n",
              "      <td>economía</td>\n",
              "      <td>La mayor parte de los tratados sobre la teoría del valor y de la producción se refieren, en primer término, a la distribución de un volumen dado de recursos empleados en diferentes usos, y a las condiciones que, supuesta la ocupación de esta cantidad de recursos, determinen su remuneración relativa y el relativo valor de sus productos [1]</td>\n",
              "      <td>False</td>\n",
              "    </tr>\n",
              "    <tr>\n",
              "      <th>2</th>\n",
              "      <td>economía</td>\n",
              "      <td>También se ha sujetado con frecuencia a un procedimiento descriptivo lo relativo al monto de los recursos disponibles (entendiendo por tales el volumen de población susceptible de tomar empleo), los límites de la riqueza natural y el equipo de producción acumulado; pero rara vez se ha examinado detenidamente en la teoría pura, la explicación de lo que determina la ocupación real de los recursos disponibles.</td>\n",
              "      <td>False</td>\n",
              "    </tr>\n",
              "    <tr>\n",
              "      <th>3</th>\n",
              "      <td>economía</td>\n",
              "      <td>Decir que no se ha considerado en absoluto, seria absurdo, por supuesto; porque todo estudio sobre los altibajos de la ocupación, que han sido muchos, ha tenido que ver con el tema.</td>\n",
              "      <td>False</td>\n",
              "    </tr>\n",
              "    <tr>\n",
              "      <th>4</th>\n",
              "      <td>economía</td>\n",
              "      <td>No quiero decir que se haya pasado por alto, sino que la teoría fundamental en que descansa se ha creído tan sencilla y evidente que casi no había para qué mencionarla [2]</td>\n",
              "      <td>False</td>\n",
              "    </tr>\n",
              "    <tr>\n",
              "      <th>...</th>\n",
              "      <td>...</td>\n",
              "      <td>...</td>\n",
              "      <td>...</td>\n",
              "    </tr>\n",
              "    <tr>\n",
              "      <th>52350</th>\n",
              "      <td>medicina</td>\n",
              "      <td>Diarrea.</td>\n",
              "      <td>True</td>\n",
              "    </tr>\n",
              "    <tr>\n",
              "      <th>52351</th>\n",
              "      <td>medicina</td>\n",
              "      <td>Debilidad.</td>\n",
              "      <td>False</td>\n",
              "    </tr>\n",
              "    <tr>\n",
              "      <th>52352</th>\n",
              "      <td>medicina</td>\n",
              "      <td>Gusto alterado.</td>\n",
              "      <td>False</td>\n",
              "    </tr>\n",
              "    <tr>\n",
              "      <th>52353</th>\n",
              "      <td>medicina</td>\n",
              "      <td>Parestesias peribucales.</td>\n",
              "      <td>False</td>\n",
              "    </tr>\n",
              "    <tr>\n",
              "      <th>52354</th>\n",
              "      <td>medicina</td>\n",
              "      <td>Total de abandonos .</td>\n",
              "      <td>False</td>\n",
              "    </tr>\n",
              "  </tbody>\n",
              "</table>\n",
              "<p>52355 rows × 3 columns</p>\n",
              "</div>"
            ],
            "text/plain": [
              "          label  ... is_valid\n",
              "0      economía  ...     True\n",
              "1      economía  ...    False\n",
              "2      economía  ...    False\n",
              "3      economía  ...    False\n",
              "4      economía  ...    False\n",
              "...         ...  ...      ...\n",
              "52350  medicina  ...     True\n",
              "52351  medicina  ...    False\n",
              "52352  medicina  ...    False\n",
              "52353  medicina  ...    False\n",
              "52354  medicina  ...    False\n",
              "\n",
              "[52355 rows x 3 columns]"
            ]
          },
          "metadata": {
            "tags": []
          },
          "execution_count": 4
        }
      ]
    },
    {
      "cell_type": "markdown",
      "metadata": {
        "id": "t4mHr7-fe-U-"
      },
      "source": [
        "### Modelar"
      ]
    },
    {
      "cell_type": "code",
      "metadata": {
        "id": "_etW7yzdTCVv"
      },
      "source": [
        "\n",
        "# pretrained_model_name = \"distilbert-base-uncased\"\n",
        "# pretrained_model_name = \"bert-base-uncased\"\n",
        "# pretrained_model_name = \"nlptown/bert-base-multilingual-uncased-sentiment\"\n",
        "pretrained_model_name = \"distilroberta-base\""
      ],
      "execution_count": 5,
      "outputs": []
    },
    {
      "cell_type": "code",
      "metadata": {
        "id": "7DxZ_rBiU4C2",
        "outputId": "d3982ec0-4d43-4ece-e531-2c1bc1c098a9",
        "colab": {
          "base_uri": "https://localhost:8080/",
          "height": 177,
          "referenced_widgets": [
            "26a2f8b7c4de4577ae968ddcda497897",
            "c529959a9be142a3a75fc280c93b6fbb",
            "4f52bc51412f4c8894e2cfdee79e5f1d",
            "e5f653e071fe4bc4a1bb048477fb347c",
            "028c71fac8f14f08a89893183cbf9380",
            "57d55c5fff48454a8590344b17ee3262",
            "00486c51bfac4604a5015ecad92bc39f",
            "5460036f71ca455b8388719354c70392",
            "f88ee82256514ca9917e3a4ea1b16dfb",
            "bb580ca5873246399e9b90c79e27e31a",
            "d96e3953768e4cbf98d2394cdd60f474",
            "97ff66b185de4acfb7330fde99a119a9",
            "78d10cd48e394cf3854f0ae528e22825",
            "ba7c65b6a2bb4630a79d69d882041d80",
            "e088e425c49d450a90a1414a8be56bf1",
            "6aff86775bdb4674a8cae20b778dc319",
            "00846de6dc1e489fa55c5fd89d4c107d",
            "71e95de6b46a42c5afe3f03f127d1e07",
            "cef7c20d28674c12bf7d80d7ed5b9394",
            "2a0b1a67e62e44528c9044db325a831b",
            "e47bf387815448eaa782c71b418fcc06",
            "f2dd6a23eed644bcb808f538cdaa8c2a",
            "155ed3086b2144708f1cad9962c68b22",
            "196ae5f4c1294fc59e9c32d88c6c7ebd",
            "e1da79fa4b7a41f4b364de22394d00df",
            "f2e30add618248ea9696b34c3d7eee35",
            "77f7320ae4394171ab64a97b643e6dfa",
            "a2a783361b2141d4b2c6af5175d269d2",
            "22804283a3324c0dab24e5f29a6afbd0",
            "4dc7f02cacc64e5d9d60031e0c36782b",
            "753ff9ec1866400ca0cde48a097117ab",
            "52a7ff402d564c5292d086b1992f196f",
            "961dada9a91f47d7984368066f2dcc03",
            "d51b604110af447aa08609db2c2d8f73",
            "d0c3bc24215b4fa3b17c02e0a155158e",
            "c89e39eb12494579ad2a6558175e94dc",
            "5d10ae0177364afca1ead8c54b4a237d",
            "e6f992b692dd49ab8c09010194fd1bae",
            "022fa80b785441fc9083266cd06037fd",
            "e9ab6b249331489180357921482be879",
            "8f333718f7b7483e992dfb2d90f7d9b9",
            "7aa5eeb0980e4071bd326fb17f8c8b8f",
            "26e493818d464f8bab70df6fc8e8f97e",
            "14809d9b991740e8a5121b58d6982fc0",
            "2ace275a203f427f969c4313578bf63c",
            "ab168b1c99864ab3b3cd3ba73ccd7073",
            "600f269e23fe40289c1d14cbe68c44b5",
            "81c2cdfa8db049a18196335311cc6e68",
            "d87626ca6bf74f069904ef0df94b0904",
            "e45c6d474d6449b7b4483504b42da162",
            "44e5e322e138480cbc2707d4b7627fb8",
            "22242a1911244e37aeb7d1dea41415bc",
            "2e8bd4baf9284da990bbe0497556f3b5",
            "715c00e7300d49f5baf7ee25c0f1eabb",
            "a18c46b9ebb54194b8cb36b81a35dd79"
          ]
        }
      },
      "source": [
        "model_cls = AutoModelForSequenceClassification\n",
        "\n",
        "hf_arch, hf_config, hf_tokenizer, hf_model = BLURR.get_hf_objects(\n",
        "    pretrained_model_name,\n",
        "    model_cls=model_cls,\n",
        "    config_kwargs={'num_labels': num_labels})"
      ],
      "execution_count": 6,
      "outputs": [
        {
          "output_type": "display_data",
          "data": {
            "application/vnd.jupyter.widget-view+json": {
              "model_id": "26a2f8b7c4de4577ae968ddcda497897",
              "version_minor": 0,
              "version_major": 2
            },
            "text/plain": [
              "Downloading:   0%|          | 0.00/480 [00:00<?, ?B/s]"
            ]
          },
          "metadata": {
            "tags": []
          }
        },
        {
          "output_type": "display_data",
          "data": {
            "application/vnd.jupyter.widget-view+json": {
              "model_id": "97ff66b185de4acfb7330fde99a119a9",
              "version_minor": 0,
              "version_major": 2
            },
            "text/plain": [
              "Downloading:   0%|          | 0.00/899k [00:00<?, ?B/s]"
            ]
          },
          "metadata": {
            "tags": []
          }
        },
        {
          "output_type": "display_data",
          "data": {
            "application/vnd.jupyter.widget-view+json": {
              "model_id": "155ed3086b2144708f1cad9962c68b22",
              "version_minor": 0,
              "version_major": 2
            },
            "text/plain": [
              "Downloading:   0%|          | 0.00/456k [00:00<?, ?B/s]"
            ]
          },
          "metadata": {
            "tags": []
          }
        },
        {
          "output_type": "display_data",
          "data": {
            "application/vnd.jupyter.widget-view+json": {
              "model_id": "d51b604110af447aa08609db2c2d8f73",
              "version_minor": 0,
              "version_major": 2
            },
            "text/plain": [
              "Downloading:   0%|          | 0.00/1.36M [00:00<?, ?B/s]"
            ]
          },
          "metadata": {
            "tags": []
          }
        },
        {
          "output_type": "display_data",
          "data": {
            "application/vnd.jupyter.widget-view+json": {
              "model_id": "2ace275a203f427f969c4313578bf63c",
              "version_minor": 0,
              "version_major": 2
            },
            "text/plain": [
              "Downloading:   0%|          | 0.00/331M [00:00<?, ?B/s]"
            ]
          },
          "metadata": {
            "tags": []
          }
        }
      ]
    },
    {
      "cell_type": "code",
      "metadata": {
        "id": "aCeG_LXSVuii"
      },
      "source": [
        "blocks = (HF_TextBlock(hf_arch, hf_config, hf_tokenizer, hf_model), CategoryBlock)\n",
        "dblock = DataBlock(blocks=blocks,\n",
        "                   get_x=ColReader('sentence'),\n",
        "                   get_y=ColReader('label'),\n",
        "                   splitter=ColSplitter())\n",
        "\n",
        "dls = dblock.dataloaders(co_df, bs=4, val_bs=8)"
      ],
      "execution_count": 7,
      "outputs": []
    },
    {
      "cell_type": "code",
      "metadata": {
        "colab": {
          "base_uri": "https://localhost:8080/",
          "height": 326
        },
        "id": "At1rxP44enLG",
        "outputId": "772ee337-264e-4c9a-83ef-cfc4c91f4a74"
      },
      "source": [
        "dls.show_batch(dataloaders=dls)"
      ],
      "execution_count": 8,
      "outputs": [
        {
          "output_type": "display_data",
          "data": {
            "text/html": [
              "<table border=\"1\" class=\"dataframe\">\n",
              "  <thead>\n",
              "    <tr style=\"text-align: right;\">\n",
              "      <th></th>\n",
              "      <th>text</th>\n",
              "      <th>category</th>\n",
              "    </tr>\n",
              "  </thead>\n",
              "  <tbody>\n",
              "    <tr>\n",
              "      <th>0</th>\n",
              "      <td>En una economía estacionaria quizá no valiera la pena mencionar todo esto, ya que en cada año los márgenes de tolerancia para la depreciación, con respecto a las casas viejas, quedarían compensados exactamente por las casas nuevas que se construyeran en sustitución de las que llegan al fin de su vida cada año; pero tales factores pueden ser de mucha importancia en una economía no estática, especialmente durante el periodo que sigue de inmediato a un vigoroso brote de inversión de capital a largo plazo; porque en tales circunstancias gran parte de las nuevas partidas de inversión puede ser absorbida por las mayores reservas financieras que hacen los empresarios para reparar y renovar el equipo de producción existente, el cual, aunque se desgasta con el tiempo, todavía no ha llegado a la fecha en que deben hacerse gastos que puedan aproximarse al total de la reserva financiera que se aparta; con la consecuencia de que los ingresos no pueden subir por encima de un nivel lo bastante bajo para corresponder a un total pequeño de inversión neta.</td>\n",
              "      <td>economía</td>\n",
              "    </tr>\n",
              "    <tr>\n",
              "      <th>1</th>\n",
              "      <td>Además de jabones, champúes, lociones hidratantes o tintes para el cabello, la empresa ha puesto en el mercado el credo de su práctica cotidiana de rellenar, reciclar, reutilizar, la denuncia de la propaganda de los cosméticos que prometen milagros imposibles, el manifestarse contra los ensayos en animales, la protección de las comunidades indígenas mediante intercambios comerciales equitativos, el empleo de materias primas naturales y renovables y, por supuesto, el embarcarse en cuanta campaña sea necesaria para defender los derechos humanos allí donde estén amenazados.</td>\n",
              "      <td>ambiente</td>\n",
              "    </tr>\n",
              "    <tr>\n",
              "      <th>2</th>\n",
              "      <td>Los ratones transgénicos que se obtienen (ver página 572 para una descripción de los principios básicos para la construcción de ratones transgénicos) producen un repertorio diverso de cadenas pesadas y ligeras de inmunoglobulinas humanas y, tras su inmunización con toxina tetánica, pueden utilizarse para derivar anticuerpos monoclonales específicos de naturaleza humana.</td>\n",
              "      <td>medicina</td>\n",
              "    </tr>\n",
              "    <tr>\n",
              "      <th>3</th>\n",
              "      <td>En concreto, cualquier norma que se refiera a los fuelóleos debe tener en cuenta las disposiciones de la Directiva 88/609/CEE sobre limitación de emisiones a la atmósfera de determinados agentes contaminantes procedentes de grandes instalaciones de combustión, así como la propuesta de modificación de esa Directiva, y deberá guardar coherencia con la misma (véase el punto 4.4).</td>\n",
              "      <td>ambiente</td>\n",
              "    </tr>\n",
              "  </tbody>\n",
              "</table>"
            ],
            "text/plain": [
              "<IPython.core.display.HTML object>"
            ]
          },
          "metadata": {
            "tags": []
          }
        }
      ]
    },
    {
      "cell_type": "code",
      "metadata": {
        "colab": {
          "base_uri": "https://localhost:8080/"
        },
        "id": "Ois0cUsyvXi5",
        "outputId": "9a93e0a3-32a3-485f-f6e2-3dc32dcb99d5"
      },
      "source": [
        "b = dls.one_batch()\n",
        "\n",
        "len(b), b[0]['input_ids'].shape, b[1].shape, dls.c"
      ],
      "execution_count": 9,
      "outputs": [
        {
          "output_type": "execute_result",
          "data": {
            "text/plain": [
              "(2, torch.Size([4, 343]), torch.Size([4]), 5)"
            ]
          },
          "metadata": {
            "tags": []
          },
          "execution_count": 9
        }
      ]
    },
    {
      "cell_type": "code",
      "metadata": {
        "id": "6EJXK6dizxfm"
      },
      "source": [
        "learn = Blearner(dls, hf_model,\n",
        "                 metrics=[F1Score(average=None)])\n",
        "learn = learn.to_fp16()\n",
        "learn.freeze()\n"
      ],
      "execution_count": 10,
      "outputs": []
    },
    {
      "cell_type": "code",
      "metadata": {
        "colab": {
          "base_uri": "https://localhost:8080/",
          "height": 1000
        },
        "id": "cLVcWQjnuV_E",
        "outputId": "f81c9d1d-b8c4-479e-a296-027b56329a1b"
      },
      "source": [
        "learn.summary()"
      ],
      "execution_count": 11,
      "outputs": [
        {
          "output_type": "display_data",
          "data": {
            "text/html": [
              ""
            ],
            "text/plain": [
              "<IPython.core.display.HTML object>"
            ]
          },
          "metadata": {
            "tags": []
          }
        },
        {
          "output_type": "execute_result",
          "data": {
            "application/vnd.google.colaboratory.intrinsic+json": {
              "type": "string"
            },
            "text/plain": [
              "HF_BaseModelWrapper (Input shape: 4)\n",
              "============================================================================\n",
              "Layer (type)         Output Shape         Param #    Trainable \n",
              "============================================================================\n",
              "                     4 x 343 x 768       \n",
              "Embedding                                 38603520   False     \n",
              "Embedding                                 394752     False     \n",
              "Embedding                                 768        False     \n",
              "LayerNorm                                 1536       True      \n",
              "Dropout                                                        \n",
              "Linear                                    590592     False     \n",
              "Linear                                    590592     False     \n",
              "Linear                                    590592     False     \n",
              "Dropout                                                        \n",
              "Linear                                    590592     False     \n",
              "LayerNorm                                 1536       True      \n",
              "Dropout                                                        \n",
              "____________________________________________________________________________\n",
              "                     4 x 343 x 3072      \n",
              "Linear                                    2362368    False     \n",
              "____________________________________________________________________________\n",
              "                     4 x 343 x 768       \n",
              "Linear                                    2360064    False     \n",
              "LayerNorm                                 1536       True      \n",
              "Dropout                                                        \n",
              "Linear                                    590592     False     \n",
              "Linear                                    590592     False     \n",
              "Linear                                    590592     False     \n",
              "Dropout                                                        \n",
              "Linear                                    590592     False     \n",
              "LayerNorm                                 1536       True      \n",
              "Dropout                                                        \n",
              "____________________________________________________________________________\n",
              "                     4 x 343 x 3072      \n",
              "Linear                                    2362368    False     \n",
              "____________________________________________________________________________\n",
              "                     4 x 343 x 768       \n",
              "Linear                                    2360064    False     \n",
              "LayerNorm                                 1536       True      \n",
              "Dropout                                                        \n",
              "Linear                                    590592     False     \n",
              "Linear                                    590592     False     \n",
              "Linear                                    590592     False     \n",
              "Dropout                                                        \n",
              "Linear                                    590592     False     \n",
              "LayerNorm                                 1536       True      \n",
              "Dropout                                                        \n",
              "____________________________________________________________________________\n",
              "                     4 x 343 x 3072      \n",
              "Linear                                    2362368    False     \n",
              "____________________________________________________________________________\n",
              "                     4 x 343 x 768       \n",
              "Linear                                    2360064    False     \n",
              "LayerNorm                                 1536       True      \n",
              "Dropout                                                        \n",
              "Linear                                    590592     False     \n",
              "Linear                                    590592     False     \n",
              "Linear                                    590592     False     \n",
              "Dropout                                                        \n",
              "Linear                                    590592     False     \n",
              "LayerNorm                                 1536       True      \n",
              "Dropout                                                        \n",
              "____________________________________________________________________________\n",
              "                     4 x 343 x 3072      \n",
              "Linear                                    2362368    False     \n",
              "____________________________________________________________________________\n",
              "                     4 x 343 x 768       \n",
              "Linear                                    2360064    False     \n",
              "LayerNorm                                 1536       True      \n",
              "Dropout                                                        \n",
              "Linear                                    590592     False     \n",
              "Linear                                    590592     False     \n",
              "Linear                                    590592     False     \n",
              "Dropout                                                        \n",
              "Linear                                    590592     False     \n",
              "LayerNorm                                 1536       True      \n",
              "Dropout                                                        \n",
              "____________________________________________________________________________\n",
              "                     4 x 343 x 3072      \n",
              "Linear                                    2362368    False     \n",
              "____________________________________________________________________________\n",
              "                     4 x 343 x 768       \n",
              "Linear                                    2360064    False     \n",
              "LayerNorm                                 1536       True      \n",
              "Dropout                                                        \n",
              "Linear                                    590592     False     \n",
              "Linear                                    590592     False     \n",
              "Linear                                    590592     False     \n",
              "Dropout                                                        \n",
              "Linear                                    590592     False     \n",
              "LayerNorm                                 1536       True      \n",
              "Dropout                                                        \n",
              "____________________________________________________________________________\n",
              "                     4 x 343 x 3072      \n",
              "Linear                                    2362368    False     \n",
              "____________________________________________________________________________\n",
              "                     4 x 343 x 768       \n",
              "Linear                                    2360064    False     \n",
              "LayerNorm                                 1536       True      \n",
              "Dropout                                                        \n",
              "Linear                                    590592     True      \n",
              "Dropout                                                        \n",
              "____________________________________________________________________________\n",
              "                     4 x 5               \n",
              "Linear                                    3845       True      \n",
              "____________________________________________________________________________\n",
              "\n",
              "Total params: 82,122,245\n",
              "Total trainable params: 614,405\n",
              "Total non-trainable params: 81,507,840\n",
              "\n",
              "Optimizer used: <function Adam at 0x7ff9a046dc20>\n",
              "Loss function: FlattenedLoss of CrossEntropyLoss()\n",
              "\n",
              "Model frozen up to parameter group #2\n",
              "\n",
              "Callbacks:\n",
              "  - TrainEvalCallback\n",
              "  - HF_BaseModelCallback\n",
              "  - MixedPrecision\n",
              "  - Recorder\n",
              "  - ProgressCallback"
            ]
          },
          "metadata": {
            "tags": []
          },
          "execution_count": 11
        }
      ]
    },
    {
      "cell_type": "markdown",
      "metadata": {
        "id": "H6xy0dBffEgj"
      },
      "source": [
        "### Entrenar"
      ]
    },
    {
      "cell_type": "code",
      "metadata": {
        "colab": {
          "base_uri": "https://localhost:8080/",
          "height": 300
        },
        "id": "OoOj2IZXuekq",
        "outputId": "37ad7965-6263-4357-e2c7-7a4bfbf450bb"
      },
      "source": [
        "learn.lr_find()"
      ],
      "execution_count": 12,
      "outputs": [
        {
          "output_type": "display_data",
          "data": {
            "text/html": [
              ""
            ],
            "text/plain": [
              "<IPython.core.display.HTML object>"
            ]
          },
          "metadata": {
            "tags": []
          }
        },
        {
          "output_type": "execute_result",
          "data": {
            "text/plain": [
              "SuggestedLRs(valley=0.0006918309954926372)"
            ]
          },
          "metadata": {
            "tags": []
          },
          "execution_count": 12
        },
        {
          "output_type": "display_data",
          "data": {
            "image/png": "[encoded data removed]",
            "text/plain": [
              "<Figure size 432x288 with 1 Axes>"
            ]
          },
          "metadata": {
            "tags": [],
            "needs_background": "light"
          }
        }
      ]
    },
    {
      "cell_type": "code",
      "metadata": {
        "colab": {
          "base_uri": "https://localhost:8080/",
          "height": 80
        },
        "id": "1_-NC-AWut9y",
        "outputId": "a2962112-07d6-45d3-dc01-85756c7fc352"
      },
      "source": [
        "learn.fit_one_cycle(1, lr_max=3e-3)"
      ],
      "execution_count": 13,
      "outputs": [
        {
          "output_type": "display_data",
          "data": {
            "text/html": [
              "<table border=\"1\" class=\"dataframe\">\n",
              "  <thead>\n",
              "    <tr style=\"text-align: left;\">\n",
              "      <th>epoch</th>\n",
              "      <th>train_loss</th>\n",
              "      <th>valid_loss</th>\n",
              "      <th>f1_score</th>\n",
              "      <th>time</th>\n",
              "    </tr>\n",
              "  </thead>\n",
              "  <tbody>\n",
              "    <tr>\n",
              "      <td>0</td>\n",
              "      <td>0.537727</td>\n",
              "      <td>0.466664</td>\n",
              "      <td>[0.62176789 0.62774505 0.60818713 0.88277214 0.8482128 ]</td>\n",
              "      <td>04:39</td>\n",
              "    </tr>\n",
              "  </tbody>\n",
              "</table>"
            ],
            "text/plain": [
              "<IPython.core.display.HTML object>"
            ]
          },
          "metadata": {
            "tags": []
          }
        }
      ]
    },
    {
      "cell_type": "code",
      "metadata": {
        "colab": {
          "base_uri": "https://localhost:8080/",
          "height": 408
        },
        "id": "cfZrAk5t6p4B",
        "outputId": "0f6c8410-e889-42aa-c3b6-db41824831d6"
      },
      "source": [
        "learn.show_results(learner=learn, max_n=5)"
      ],
      "execution_count": 14,
      "outputs": [
        {
          "output_type": "display_data",
          "data": {
            "text/html": [
              ""
            ],
            "text/plain": [
              "<IPython.core.display.HTML object>"
            ]
          },
          "metadata": {
            "tags": []
          }
        },
        {
          "output_type": "display_data",
          "data": {
            "text/html": [
              "<table border=\"1\" class=\"dataframe\">\n",
              "  <thead>\n",
              "    <tr style=\"text-align: right;\">\n",
              "      <th></th>\n",
              "      <th>text</th>\n",
              "      <th>category</th>\n",
              "      <th>target</th>\n",
              "    </tr>\n",
              "  </thead>\n",
              "  <tbody>\n",
              "    <tr>\n",
              "      <th>0</th>\n",
              "      <td>Quedan reservadas, en todo caso, a las Fuerzas y Cuerpos de Seguridad del Estado bajo la dependencia del Gobierno los servicios policiales de carácter extracomunitario y supracomunitario como la vigilancia de puertos, aeropuertos, costas y fronteras, aduanas, control de entrada y salida del territorio nacional de españoles y extranjeros, régimen general de extranjería, extradición y expulsión, emigración e inmigración, pasaportes, documento nacional de identidad, trafico, armas y explosivos, resguardo fiscal del Estado, contrabando y fraude fiscal y las demás funciones que directamente les encomienda el artículo 104 de la Constitución [19] y las que les atribuya la Ley orgánica que lo desarrolle.</td>\n",
              "      <td>legal</td>\n",
              "      <td>legal</td>\n",
              "    </tr>\n",
              "    <tr>\n",
              "      <th>1</th>\n",
              "      <td>Por tanto, en la práctica podríamos proponernos (y esto no tiene nada de imposible) lograr un aumento en el volumen de capital hasta que deje de ser escaso, de manera que el inversionista sin funciones no reciba ya bonificación alguna; y elaborar un plan de imposición directa que deje a la inteligencia, a la determinación, a la habilidad ejecutiva del financiero, al empresario et hoc genus omne (que seguramente están tan orgullosos de su función que su trabajo podría obtenerse mucho más barato que ahora) servir activamente a la comunidad en condiciones razonables de remuneración.</td>\n",
              "      <td>economía</td>\n",
              "      <td>economía</td>\n",
              "    </tr>\n",
              "    <tr>\n",
              "      <th>2</th>\n",
              "      <td>De esto se deduce que, dados la técnica, los recursos y el costo de factores por unidad de empleo, el monto de éste, tanto para cada firma individual como para la industria en conjunto, depende del producto que los empresarios esperan recibir de la producción correspondiente; [4] porque éstos se esforzarán por fijar el volumen de ocupación al nivel del cual esperan recibir la diferencia máxima entre el importe del producto y el costo de factores.</td>\n",
              "      <td>economía</td>\n",
              "      <td>economía</td>\n",
              "    </tr>\n",
              "    <tr>\n",
              "      <th>3</th>\n",
              "      <td>En el último escenario de \"situación sin cambios\" realizado por la Comisión Europea, se sugiere un aumento del 8 por ciento en las emisiones de dióxido de carbono en la UE entre 1990 y 2010, lo cual supone un marcado contraste respecto al objetivo acordado en Kyoto en diciembre de 1997 de alcanzar en la Unión Europea una reducción del 8 por ciento (para un \"conjunto\" de seis gases en el que se incluye el dióxido de carbono).</td>\n",
              "      <td>ambiente</td>\n",
              "      <td>ambiente</td>\n",
              "    </tr>\n",
              "    <tr>\n",
              "      <th>4</th>\n",
              "      <td>De este modo, después de haber ponderado la importancia de la influencia de los cambios a corto plazo en la situación de las expectativas a largo plazo, por oposición a las modificaciones en la tasa de interés, podemos todavía volver sobre esta última y considerarla como un factor que, al menos en circunstancias normales, ejerce gran influencia, aunque no decisiva, sobre la tasa de inversión.</td>\n",
              "      <td>economía</td>\n",
              "      <td>economía</td>\n",
              "    </tr>\n",
              "  </tbody>\n",
              "</table>"
            ],
            "text/plain": [
              "<IPython.core.display.HTML object>"
            ]
          },
          "metadata": {
            "tags": []
          }
        }
      ]
    },
    {
      "cell_type": "markdown",
      "metadata": {
        "id": "RdKkOlYxdJy4"
      },
      "source": [
        "### Evaluar"
      ]
    },
    {
      "cell_type": "code",
      "metadata": {
        "colab": {
          "base_uri": "https://localhost:8080/",
          "height": 51
        },
        "id": "1gNTXqq8dYf0",
        "outputId": "a05b5418-8f6c-4355-a7bc-fd69b7dadf71"
      },
      "source": [
        "val_res = learn.validate()\n",
        "\n",
        "val_res_d = { 'loss': val_res[0]}\n",
        "for idx, m in enumerate(learn.metrics):\n",
        "    val_res_d[m.name] = val_res[idx+1]\n",
        "    \n",
        "val_res_d"
      ],
      "execution_count": 15,
      "outputs": [
        {
          "output_type": "display_data",
          "data": {
            "text/html": [
              ""
            ],
            "text/plain": [
              "<IPython.core.display.HTML object>"
            ]
          },
          "metadata": {
            "tags": []
          }
        },
        {
          "output_type": "execute_result",
          "data": {
            "text/plain": [
              "{'f1_score': array([0.62176789, 0.62774505, 0.60818713, 0.88277214, 0.8482128 ]),\n",
              " 'loss': 0.4666644334793091}"
            ]
          },
          "metadata": {
            "tags": []
          },
          "execution_count": 15
        }
      ]
    },
    {
      "cell_type": "code",
      "metadata": {
        "colab": {
          "base_uri": "https://localhost:8080/",
          "height": 51
        },
        "id": "oZkQ3w-rdioG",
        "outputId": "ea7d9ef7-cfcf-44aa-e063-2b53de06b6af"
      },
      "source": [
        "preds, targs, losses = learn.get_preds(with_loss=True)\n",
        "print(preds.shape, targs.shape, losses.shape)\n",
        "print(losses.mean(), accuracy(preds, targs))"
      ],
      "execution_count": 16,
      "outputs": [
        {
          "output_type": "display_data",
          "data": {
            "text/html": [
              ""
            ],
            "text/plain": [
              "<IPython.core.display.HTML object>"
            ]
          },
          "metadata": {
            "tags": []
          }
        },
        {
          "output_type": "stream",
          "text": [
            "torch.Size([10471, 5]) torch.Size([10471]) torch.Size([10471])\n",
            "TensorBase(0.4667) TensorBase(0.8271)\n"
          ],
          "name": "stdout"
        }
      ]
    },
    {
      "cell_type": "markdown",
      "metadata": {
        "id": "DL_45mtfdmpo"
      },
      "source": [
        "### Infererir"
      ]
    },
    {
      "cell_type": "code",
      "metadata": {
        "id": "omxS6i9wdtpQ"
      },
      "source": [
        "learn.export('iula_learner.pkl')"
      ],
      "execution_count": 17,
      "outputs": []
    },
    {
      "cell_type": "code",
      "metadata": {
        "id": "yKRBTFbVd8Gl"
      },
      "source": [
        "inf_learn = load_learner('iula_learner.pkl')"
      ],
      "execution_count": 18,
      "outputs": []
    },
    {
      "cell_type": "code",
      "metadata": {
        "colab": {
          "base_uri": "https://localhost:8080/"
        },
        "id": "bB8XaRS3eCU2",
        "outputId": "59e73e93-6e7e-41b3-a802-66a751044090"
      },
      "source": [
        "inf_learn.blurr_predict(pd.DataFrame([\n",
        "    {'sentence': 'Según el BCE la inflación en el próximo año será menor al 2%'},\n",
        "    {'sentence': 'La cardiopatía congénita es tratable vía transplante'},\n",
        "]))"
      ],
      "execution_count": 19,
      "outputs": [
        {
          "output_type": "execute_result",
          "data": {
            "text/plain": [
              "[(('economía',),\n",
              "  (#1) [tensor(1)],\n",
              "  (#1) [tensor([0.0910, 0.7951, 0.0186, 0.0881, 0.0073])]),\n",
              " (('medicina',),\n",
              "  (#1) [tensor(3)],\n",
              "  (#1) [tensor([9.5298e-04, 7.7280e-04, 9.6568e-05, 9.9566e-01, 2.5167e-03])])]"
            ]
          },
          "metadata": {
            "tags": []
          },
          "execution_count": 19
        }
      ]
    },
    {
      "cell_type": "code",
      "metadata": {
        "id": "Gop7wWDRgRlD"
      },
      "source": [
        ""
      ],
      "execution_count": 19,
      "outputs": []
    }
  ]
}