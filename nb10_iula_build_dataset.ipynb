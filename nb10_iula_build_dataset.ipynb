{
  "nbformat": 4,
  "nbformat_minor": 0,
  "metadata": {
    "colab": {
      "name": "nb10_iula_build_dataset.ipynb",
      "provenance": [],
      "collapsed_sections": [],
      "include_colab_link": true
    },
    "kernelspec": {
      "name": "python3",
      "display_name": "Python 3"
    },
    "language_info": {
      "name": "python"
    }
  },
  "cells": [
    {
      "cell_type": "markdown",
      "metadata": {
        "id": "view-in-github",
        "colab_type": "text"
      },
      "source": [
        "<a href=\"https://colab.research.google.com/github/hfoffani/HF-fastai/blob/main/nb10_iula_build_dataset.ipynb\" target=\"_parent\"><img src=\"https://colab.research.google.com/assets/colab-badge.svg\" alt=\"Open In Colab\"/></a>"
      ]
    },
    {
      "cell_type": "code",
      "metadata": {
        "id": "NnVTla8IS5v-"
      },
      "source": [
        "import os\n",
        "import glob\n",
        "import pandas as pd\n"
      ],
      "execution_count": 1,
      "outputs": []
    },
    {
      "cell_type": "code",
      "metadata": {
        "id": "3dLpeqrpGhNF",
        "colab": {
          "base_uri": "https://localhost:8080/"
        },
        "outputId": "50c47284-5969-41ec-990a-9f954d6a1c55"
      },
      "source": [
        "from google.colab import drive\n",
        "drive.mount('/content/drive')"
      ],
      "execution_count": 2,
      "outputs": [
        {
          "output_type": "stream",
          "text": [
            "Mounted at /content/drive\n"
          ],
          "name": "stdout"
        }
      ]
    },
    {
      "cell_type": "markdown",
      "metadata": {
        "id": "RHeXVoqAfX41"
      },
      "source": [
        "### Procesar Corpus"
      ]
    },
    {
      "cell_type": "code",
      "metadata": {
        "id": "AR_fZg5_Uc4V"
      },
      "source": [
        "keys = {\n",
        "    'a':'ambiente',\n",
        "    'm':'medicina',\n",
        "    'i':'tecnología',\n",
        "    'e':'economía',\n",
        "    'd':'legal',\n",
        "}\n",
        "\n",
        "def sentences(corpusroot: str, split: float=.2) -> pd.DataFrame:\n",
        "    listfiles = glob.glob(corpusroot + '/*/*-plain.txt')\n",
        "    corpus = []\n",
        "    for fname in listfiles:\n",
        "        cl = os.path.basename(fname)[0]\n",
        "        with open(fname) as f:\n",
        "            lines = f.readlines()\n",
        "            for l in lines:\n",
        "                l = l.strip()\n",
        "                if len(l) > 1:\n",
        "                    corpus.append( {'label':keys[cl], 'sentence':l } )\n",
        "    co = pd.DataFrame(corpus)\n",
        "    co['is_valid'] = (co.index % (1./split) == 0)\n",
        "    return co\n"
      ],
      "execution_count": 3,
      "outputs": []
    },
    {
      "cell_type": "code",
      "metadata": {
        "id": "APPdcX6aUp63"
      },
      "source": [
        "co_df = sentences('/content/drive/MyDrive/IULAcorpus/ES', split=.20)\n",
        "co_df.to_csv('/content/drive/MyDrive/iula-es.csv', index=False)"
      ],
      "execution_count": 4,
      "outputs": []
    },
    {
      "cell_type": "code",
      "metadata": {
        "colab": {
          "base_uri": "https://localhost:8080/",
          "height": 419
        },
        "id": "Jzjvrw_7FK2e",
        "outputId": "7843c50f-94cf-4f6b-8bf3-776c9edce1b3"
      },
      "source": [
        "num_labels = co_df['label'].nunique()\n",
        "co_df"
      ],
      "execution_count": 5,
      "outputs": [
        {
          "output_type": "execute_result",
          "data": {
            "text/html": [
              "<div>\n",
              "<style scoped>\n",
              "    .dataframe tbody tr th:only-of-type {\n",
              "        vertical-align: middle;\n",
              "    }\n",
              "\n",
              "    .dataframe tbody tr th {\n",
              "        vertical-align: top;\n",
              "    }\n",
              "\n",
              "    .dataframe thead th {\n",
              "        text-align: right;\n",
              "    }\n",
              "</style>\n",
              "<table border=\"1\" class=\"dataframe\">\n",
              "  <thead>\n",
              "    <tr style=\"text-align: right;\">\n",
              "      <th></th>\n",
              "      <th>label</th>\n",
              "      <th>sentence</th>\n",
              "      <th>is_valid</th>\n",
              "    </tr>\n",
              "  </thead>\n",
              "  <tbody>\n",
              "    <tr>\n",
              "      <th>0</th>\n",
              "      <td>economía</td>\n",
              "      <td>LOS POSTULADOS DE LA ECONOMÍA CLÁSICA</td>\n",
              "      <td>True</td>\n",
              "    </tr>\n",
              "    <tr>\n",
              "      <th>1</th>\n",
              "      <td>economía</td>\n",
              "      <td>La mayor parte de los tratados sobre la teoría...</td>\n",
              "      <td>False</td>\n",
              "    </tr>\n",
              "    <tr>\n",
              "      <th>2</th>\n",
              "      <td>economía</td>\n",
              "      <td>También se ha sujetado con frecuencia a un pro...</td>\n",
              "      <td>False</td>\n",
              "    </tr>\n",
              "    <tr>\n",
              "      <th>3</th>\n",
              "      <td>economía</td>\n",
              "      <td>Decir que no se ha considerado en absoluto, se...</td>\n",
              "      <td>False</td>\n",
              "    </tr>\n",
              "    <tr>\n",
              "      <th>4</th>\n",
              "      <td>economía</td>\n",
              "      <td>No quiero decir que se haya pasado por alto, s...</td>\n",
              "      <td>False</td>\n",
              "    </tr>\n",
              "    <tr>\n",
              "      <th>...</th>\n",
              "      <td>...</td>\n",
              "      <td>...</td>\n",
              "      <td>...</td>\n",
              "    </tr>\n",
              "    <tr>\n",
              "      <th>52350</th>\n",
              "      <td>medicina</td>\n",
              "      <td>Diarrea.</td>\n",
              "      <td>True</td>\n",
              "    </tr>\n",
              "    <tr>\n",
              "      <th>52351</th>\n",
              "      <td>medicina</td>\n",
              "      <td>Debilidad.</td>\n",
              "      <td>False</td>\n",
              "    </tr>\n",
              "    <tr>\n",
              "      <th>52352</th>\n",
              "      <td>medicina</td>\n",
              "      <td>Gusto alterado.</td>\n",
              "      <td>False</td>\n",
              "    </tr>\n",
              "    <tr>\n",
              "      <th>52353</th>\n",
              "      <td>medicina</td>\n",
              "      <td>Parestesias peribucales.</td>\n",
              "      <td>False</td>\n",
              "    </tr>\n",
              "    <tr>\n",
              "      <th>52354</th>\n",
              "      <td>medicina</td>\n",
              "      <td>Total de abandonos .</td>\n",
              "      <td>False</td>\n",
              "    </tr>\n",
              "  </tbody>\n",
              "</table>\n",
              "<p>52355 rows × 3 columns</p>\n",
              "</div>"
            ],
            "text/plain": [
              "          label                                           sentence  is_valid\n",
              "0      economía              LOS POSTULADOS DE LA ECONOMÍA CLÁSICA      True\n",
              "1      economía  La mayor parte de los tratados sobre la teoría...     False\n",
              "2      economía  También se ha sujetado con frecuencia a un pro...     False\n",
              "3      economía  Decir que no se ha considerado en absoluto, se...     False\n",
              "4      economía  No quiero decir que se haya pasado por alto, s...     False\n",
              "...         ...                                                ...       ...\n",
              "52350  medicina                                           Diarrea.      True\n",
              "52351  medicina                                         Debilidad.     False\n",
              "52352  medicina                                    Gusto alterado.     False\n",
              "52353  medicina                           Parestesias peribucales.     False\n",
              "52354  medicina                               Total de abandonos .     False\n",
              "\n",
              "[52355 rows x 3 columns]"
            ]
          },
          "metadata": {
            "tags": []
          },
          "execution_count": 5
        }
      ]
    },
    {
      "cell_type": "code",
      "metadata": {
        "id": "lGhY5NFzjLjW",
        "outputId": "538b9770-659d-4a32-9eac-45f6b22e6490",
        "colab": {
          "base_uri": "https://localhost:8080/"
        }
      },
      "source": [
        "num_labels"
      ],
      "execution_count": 6,
      "outputs": [
        {
          "output_type": "execute_result",
          "data": {
            "text/plain": [
              "5"
            ]
          },
          "metadata": {
            "tags": []
          },
          "execution_count": 6
        }
      ]
    },
    {
      "cell_type": "code",
      "metadata": {
        "id": "mhyYkM2OQV4M"
      },
      "source": [
        ""
      ],
      "execution_count": null,
      "outputs": []
    }
  ]
}